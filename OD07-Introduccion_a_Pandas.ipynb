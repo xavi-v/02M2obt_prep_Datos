{
 "nbformat": 4,
 "nbformat_minor": 0,
 "metadata": {
  "kernelspec": {
   "display_name": "Python 3",
   "language": "python",
   "name": "python3"
  },
  "language_info": {
   "codemirror_mode": {
    "name": "ipython",
    "version": 3
   },
   "file_extension": ".py",
   "mimetype": "text/x-python",
   "name": "python",
   "nbconvert_exporter": "python",
   "pygments_lexer": "ipython3",
   "version": "3.7.6"
  },
  "colab": {
   "provenance": [],
   "collapsed_sections": []
  }
 },
 "cells": [
  {
   "cell_type": "markdown",
   "metadata": {
    "id": "cyOeXh_-dFSd"
   },
   "source": [
    "# **Obtención y preparación de datos**\n",
    "# OD07. Introducción a Pandas\n",
    "\n",
    "## <font color='orange'>**¿Para qué nos sirve Pandas?**</font>\n",
    "\n",
    "Para poder manipular grandes sets de datos numéricos, tablas y series de tiempo. Trabajar con múltiples formatos de archivos de datos como csv o xls. Crear DataFrames que podremos manipular y analizar sin preocuparnos por el performance de nuestras aplicaciones, todo esto muy fácil y rápido. Además, **Pandas es la librería de software libre para manipulación de datos con Python más usada en Análisis y Ciencia de Datos**.\n",
    "\n",
    "## <font color='orange'>**¿Qué haremos con lo que aprendamos de Pandas?**</font>\n",
    "\n",
    "Construiremos un **sistema experto para el apoyo a la toma de decisiones basado en Lógica Difusa** que nos permitirá crear un entrenador virtual para seleccionar a los jugadores que formarán parte del equipo. El sistema experto que implementaremos tiene más o menos la siguiente estructura:\n",
    "\n",
    "<img src='https://drive.google.com/uc?export=view&id=1iTK2BL9H1XZS0YfHPT2fAh370fKN_zNT' width=\"500\" align=\"center\" style=\"margin-right: 20px\">\n",
    "\n",
    "Un sistema similar (pero a gran escala), basado en lógica difusa y modelos bayesianos es Akinator, pueden jugar un rato en el siguiente link: <a href=\"https://es.akinator.com/\">Akinator</a>."
   ]
  },
  {
   "cell_type": "markdown",
   "metadata": {
    "id": "NqI0oBUgdFSe"
   },
   "source": [
    "## <font color='blue'>**Introducción a Pandas**</font>\n",
    "\n",
    "La librería **pandas** proporciona estructuras de datos y funciones de alto nivel que permiten trabajar con datos estructurados de manera muy cómoda. Estas estructuras y funciones son, normalmente, de las más usadas en análisis de datos.\n",
    "\n",
    "<img src='https://drive.google.com/uc?export=view&id=1cc63iaYdq6YzJDdUWyWDFZ4YzeB2lBa2' width=\"300\" align=\"center\" style=\"margin-right: 20px\">\n",
    "\n",
    "Los principales objetos ofrecidos por pandas son el **dataframe**, estructura tabular bidimensional, y la **serie**, ambas basadas en el array multidimensional de NumPy. Aun cuando NumPy ofrece una muy conveniente y eficiente estructura para el almacenamiento de datos, el `ndarray`, éste presenta importantes limitaciones cuando, durante un análisis, se hace necesaria más flexibilidad a la hora de aplicar etiquetas a nuestros datos, gestionar valores inexistentes, realizar agrupaciones por etiquetas, etc., limitaciones que son resueltas por las estructuras de más alto nivel ofrecidas por pandas.\n",
    "\n",
    "La documentación oficial está disponible en el sitio we oficial de <a href=\"https://pandas.pydata.org/\">pandas</a>.\n",
    "\n",
    "Esta librería se importa habitualmente con el alias `pd`:"
   ]
  },
  {
   "cell_type": "code",
   "metadata": {
    "id": "I3zrTRsAdFSg",
    "executionInfo": {
     "status": "ok",
     "timestamp": 1665017630780,
     "user_tz": 180,
     "elapsed": 339,
     "user": {
      "displayName": "ANDRES LEIVA ARAOS",
      "userId": "17285181346902312814"
     }
    },
    "ExecuteTime": {
     "end_time": "2023-09-20T23:07:44.269016700Z",
     "start_time": "2023-09-20T23:07:44.260018900Z"
    }
   },
   "source": [
    "import pandas as pd"
   ],
   "execution_count": 7,
   "outputs": []
  },
  {
   "cell_type": "markdown",
   "metadata": {
    "id": "jJRqjUp0dFSn"
   },
   "source": [
    "## <font color='blue'>**Estructuras de datos en pandas: Series**</font>\n",
    "\n",
    "Las **series** son estructuras unidimensionales que contenienen un array de datos (de cualquier tipo soportado por NumPy) y un array de etiquetas que van asociadas a los datos, llamado índice (*index* en inglés):"
   ]
  },
  {
   "cell_type": "code",
   "metadata": {
    "id": "vF5f7DAudFSo",
    "colab": {
     "base_uri": "https://localhost:8080/"
    },
    "executionInfo": {
     "status": "ok",
     "timestamp": 1665018063741,
     "user_tz": 180,
     "elapsed": 262,
     "user": {
      "displayName": "ANDRES LEIVA ARAOS",
      "userId": "17285181346902312814"
     }
    },
    "outputId": "ca97c897-b7f1-466d-fbd3-eeca1af24757",
    "ExecuteTime": {
     "end_time": "2023-09-20T23:07:41.696523Z",
     "start_time": "2023-09-20T23:07:41.677521400Z"
    }
   },
   "source": [
    "ventas = pd.Series([15, 12, 21, 38], index = [\"Ene\", \"Feb\", \"Mar\", \"Abr\"])\n",
    "ventas"
   ],
   "execution_count": 6,
   "outputs": [
    {
     "data": {
      "text/plain": "Ene    15\nFeb    12\nMar    21\nAbr    38\ndtype: int64"
     },
     "execution_count": 6,
     "metadata": {},
     "output_type": "execute_result"
    }
   ]
  },
  {
   "cell_type": "markdown",
   "metadata": {
    "id": "mI7Sfxm4dFSt"
   },
   "source": [
    "Los elementos de la serie pueden extraerse con el nombre de la serie y, entre corchetes, el índice (posición) del elemento o su etiqueta (si la tiene):"
   ]
  },
  {
   "cell_type": "code",
   "metadata": {
    "id": "CwbtG8_TdFSu",
    "colab": {
     "base_uri": "https://localhost:8080/"
    },
    "executionInfo": {
     "status": "ok",
     "timestamp": 1665017743273,
     "user_tz": 180,
     "elapsed": 257,
     "user": {
      "displayName": "ANDRES LEIVA ARAOS",
      "userId": "17285181346902312814"
     }
    },
    "outputId": "b3476483-a0cb-45e8-8715-94f5aa3d76df",
    "ExecuteTime": {
     "end_time": "2023-09-20T23:08:27.592428Z",
     "start_time": "2023-09-20T23:08:27.557427Z"
    }
   },
   "source": [
    "ventas[0]"
   ],
   "execution_count": 13,
   "outputs": [
    {
     "data": {
      "text/plain": "15"
     },
     "execution_count": 13,
     "metadata": {},
     "output_type": "execute_result"
    }
   ]
  },
  {
   "cell_type": "code",
   "metadata": {
    "id": "R2UjSTP4dFSy",
    "colab": {
     "base_uri": "https://localhost:8080/"
    },
    "executionInfo": {
     "status": "ok",
     "timestamp": 1665017762545,
     "user_tz": 180,
     "elapsed": 246,
     "user": {
      "displayName": "ANDRES LEIVA ARAOS",
      "userId": "17285181346902312814"
     }
    },
    "outputId": "8017e3b1-0a51-4e93-fa55-5652453a0290",
    "ExecuteTime": {
     "end_time": "2023-09-20T23:08:02.240084200Z",
     "start_time": "2023-09-20T23:08:02.222084Z"
    }
   },
   "source": [
    "ventas[\"Ene\"]"
   ],
   "execution_count": 10,
   "outputs": [
    {
     "data": {
      "text/plain": "15"
     },
     "execution_count": 10,
     "metadata": {},
     "output_type": "execute_result"
    }
   ]
  },
  {
   "cell_type": "code",
   "metadata": {
    "id": "VpxdSHFHxC4q",
    "colab": {
     "base_uri": "https://localhost:8080/"
    },
    "executionInfo": {
     "status": "ok",
     "timestamp": 1665018023776,
     "user_tz": 180,
     "elapsed": 246,
     "user": {
      "displayName": "ANDRES LEIVA ARAOS",
      "userId": "17285181346902312814"
     }
    },
    "outputId": "5a38c057-fabe-4911-c6c7-169a721f9cde",
    "ExecuteTime": {
     "end_time": "2023-09-20T23:08:05.403686500Z",
     "start_time": "2023-09-20T23:08:05.388685300Z"
    }
   },
   "source": [
    "ventas = pd.Series([15, 12, 21, 38])\n",
    "ventas"
   ],
   "execution_count": 11,
   "outputs": [
    {
     "data": {
      "text/plain": "0    15\n1    12\n2    21\n3    38\ndtype: int64"
     },
     "execution_count": 11,
     "metadata": {},
     "output_type": "execute_result"
    }
   ]
  },
  {
   "cell_type": "markdown",
   "metadata": {
    "id": "fRtnksuqdFS1"
   },
   "source": [
    "Las etiquetas que forman el índice no necesitan ser diferentes. Pueden ser de cualquier tipo (numérico, textos, tuplas, etc.) siempre que sea posible aplicar la función *hash* sobre ellas.\n",
    "\n",
    "**Nota: La función hash devuelve el valor hash del objeto cedido como parámetro -si tiene uno-. Los valores hash son enteros. Los valores numéricos que, al ser comparados, devuelven el valor True tienen el mismo valor hash asociado, incluso si son de distinto tipo.**\n",
    "\n",
    "La relación entre una etiqueta y un valor se mantendrá, salvo que lo modifiquemos explícitamente. Esto quiere decir que, filtrar una serie o eliminar un elemento de la serie, por ejemplo, no va a modificar las etiquetas asignadas a cada valor.\n",
    "\n",
    "Los índices de las etiquetas son inmutables, es decir, aun cuando es posible asignar a una serie un nuevo conjunto de etiquetas a través del atributo *index*, intentar modificar un único valor del index v a devolver un error.\n",
    "\n",
    "Al igual que ocurre con el array NumPy, una serie pandas solo puede contener datos de un mismo tipo. En la imagen anterior puede apreciarse el índice a la izquierda (\"Ene\", \"Feb\" y \"Mar\") y los datos a la derecha (15, 12 y 21). El tipo de la serie, accesible a través del atributo `dtype`, coincide con el tipo de los datos que contiene:"
   ]
  },
  {
   "cell_type": "code",
   "metadata": {
    "id": "WyOOm4fmdFS2",
    "colab": {
     "base_uri": "https://localhost:8080/"
    },
    "executionInfo": {
     "status": "ok",
     "timestamp": 1665018028823,
     "user_tz": 180,
     "elapsed": 229,
     "user": {
      "displayName": "ANDRES LEIVA ARAOS",
      "userId": "17285181346902312814"
     }
    },
    "outputId": "bff2d6b0-90a0-49c5-90bd-2a61a29fbeca",
    "ExecuteTime": {
     "end_time": "2023-09-20T23:13:52.370108Z",
     "start_time": "2023-09-20T23:13:52.360110300Z"
    }
   },
   "source": [
    "ventas.dtype"
   ],
   "execution_count": 14,
   "outputs": [
    {
     "data": {
      "text/plain": "dtype('int64')"
     },
     "execution_count": 14,
     "metadata": {},
     "output_type": "execute_result"
    }
   ]
  },
  {
   "cell_type": "markdown",
   "metadata": {
    "id": "Wio645svdFS5"
   },
   "source": [
    "Podemos acceder a los objetos que contienen los índices y los valores a través de los atributos `index` y `values` de la serie, respectivamente:"
   ]
  },
  {
   "cell_type": "code",
   "metadata": {
    "id": "Ch0GGeKSdFS6",
    "colab": {
     "base_uri": "https://localhost:8080/"
    },
    "executionInfo": {
     "status": "ok",
     "timestamp": 1665018073888,
     "user_tz": 180,
     "elapsed": 343,
     "user": {
      "displayName": "ANDRES LEIVA ARAOS",
      "userId": "17285181346902312814"
     }
    },
    "outputId": "a1ae5479-7b21-4fb6-b7e4-c3e963e26013",
    "ExecuteTime": {
     "end_time": "2023-09-20T23:15:24.700029500Z",
     "start_time": "2023-09-20T23:15:24.687027700Z"
    }
   },
   "source": [
    "ventas.index"
   ],
   "execution_count": 23,
   "outputs": [
    {
     "data": {
      "text/plain": "Index(['Ene', 'Feb', 'Mar', 'Abr'], dtype='object')"
     },
     "execution_count": 23,
     "metadata": {},
     "output_type": "execute_result"
    }
   ]
  },
  {
   "cell_type": "code",
   "metadata": {
    "id": "iHIkgL7DdFS_",
    "colab": {
     "base_uri": "https://localhost:8080/"
    },
    "executionInfo": {
     "status": "ok",
     "timestamp": 1665018107337,
     "user_tz": 180,
     "elapsed": 216,
     "user": {
      "displayName": "ANDRES LEIVA ARAOS",
      "userId": "17285181346902312814"
     }
    },
    "outputId": "4c48c715-8db0-492f-cebf-284547d5eb8c",
    "ExecuteTime": {
     "end_time": "2023-09-20T23:15:31.422917900Z",
     "start_time": "2023-09-20T23:15:31.400918Z"
    }
   },
   "source": [
    "list(ventas.values)[3]"
   ],
   "execution_count": 25,
   "outputs": [
    {
     "data": {
      "text/plain": "array([18, 78, 66, 'No', 0.77], dtype=object)"
     },
     "execution_count": 25,
     "metadata": {},
     "output_type": "execute_result"
    }
   ]
  },
  {
   "cell_type": "markdown",
   "metadata": {
    "id": "xzPxdB9-dFTB"
   },
   "source": [
    "La serie tiene un atributo `name`, atributo que también encontramos en el índice. Una vez los hemos fijado, se muestran junto con la estructura al imprimir la serie:"
   ]
  },
  {
   "cell_type": "code",
   "metadata": {
    "id": "2gUJMJWddFTC",
    "ExecuteTime": {
     "end_time": "2023-09-20T23:15:53.596961900Z",
     "start_time": "2023-09-20T23:15:53.535453800Z"
    }
   },
   "source": [
    "ventas.name"
   ],
   "execution_count": 28,
   "outputs": [
    {
     "ename": "AttributeError",
     "evalue": "'DataFrame' object has no attribute 'name'",
     "output_type": "error",
     "traceback": [
      "\u001B[1;31m---------------------------------------------------------------------------\u001B[0m",
      "\u001B[1;31mAttributeError\u001B[0m                            Traceback (most recent call last)",
      "\u001B[1;32m~\\AppData\\Local\\Temp\\ipykernel_14256\\4092598871.py\u001B[0m in \u001B[0;36m?\u001B[1;34m()\u001B[0m\n\u001B[1;32m----> 1\u001B[1;33m \u001B[0mventas\u001B[0m\u001B[1;33m.\u001B[0m\u001B[0mname\u001B[0m\u001B[1;33m\u001B[0m\u001B[1;33m\u001B[0m\u001B[0m\n\u001B[0m",
      "\u001B[1;32m~\\AppData\\Local\\Programs\\Python\\Python39\\lib\\site-packages\\pandas\\core\\generic.py\u001B[0m in \u001B[0;36m?\u001B[1;34m(self, name)\u001B[0m\n\u001B[0;32m   6198\u001B[0m             \u001B[1;32mand\u001B[0m \u001B[0mname\u001B[0m \u001B[1;32mnot\u001B[0m \u001B[1;32min\u001B[0m \u001B[0mself\u001B[0m\u001B[1;33m.\u001B[0m\u001B[0m_accessors\u001B[0m\u001B[1;33m\u001B[0m\u001B[1;33m\u001B[0m\u001B[0m\n\u001B[0;32m   6199\u001B[0m             \u001B[1;32mand\u001B[0m \u001B[0mself\u001B[0m\u001B[1;33m.\u001B[0m\u001B[0m_info_axis\u001B[0m\u001B[1;33m.\u001B[0m\u001B[0m_can_hold_identifiers_and_holds_name\u001B[0m\u001B[1;33m(\u001B[0m\u001B[0mname\u001B[0m\u001B[1;33m)\u001B[0m\u001B[1;33m\u001B[0m\u001B[1;33m\u001B[0m\u001B[0m\n\u001B[0;32m   6200\u001B[0m         ):\n\u001B[0;32m   6201\u001B[0m             \u001B[1;32mreturn\u001B[0m \u001B[0mself\u001B[0m\u001B[1;33m[\u001B[0m\u001B[0mname\u001B[0m\u001B[1;33m]\u001B[0m\u001B[1;33m\u001B[0m\u001B[1;33m\u001B[0m\u001B[0m\n\u001B[1;32m-> 6202\u001B[1;33m         \u001B[1;32mreturn\u001B[0m \u001B[0mobject\u001B[0m\u001B[1;33m.\u001B[0m\u001B[0m__getattribute__\u001B[0m\u001B[1;33m(\u001B[0m\u001B[0mself\u001B[0m\u001B[1;33m,\u001B[0m \u001B[0mname\u001B[0m\u001B[1;33m)\u001B[0m\u001B[1;33m\u001B[0m\u001B[1;33m\u001B[0m\u001B[0m\n\u001B[0m",
      "\u001B[1;31mAttributeError\u001B[0m: 'DataFrame' object has no attribute 'name'"
     ]
    }
   ]
  },
  {
   "cell_type": "code",
   "metadata": {
    "id": "DTWCgIc7dFTE",
    "ExecuteTime": {
     "end_time": "2023-09-20T23:15:55.607896300Z",
     "start_time": "2023-09-20T23:15:55.595896700Z"
    }
   },
   "source": [
    "ventas"
   ],
   "execution_count": 29,
   "outputs": [
    {
     "data": {
      "text/plain": "     Entradas  Salidas  Valoración Límite  Cambio\nEne        41       17          66     No    1.43\nFeb        32       54          54     Si    1.16\nMar        56        6          49     No   -0.67\nAbr        18       78          66     No    0.77",
      "text/html": "<div>\n<style scoped>\n    .dataframe tbody tr th:only-of-type {\n        vertical-align: middle;\n    }\n\n    .dataframe tbody tr th {\n        vertical-align: top;\n    }\n\n    .dataframe thead th {\n        text-align: right;\n    }\n</style>\n<table border=\"1\" class=\"dataframe\">\n  <thead>\n    <tr style=\"text-align: right;\">\n      <th></th>\n      <th>Entradas</th>\n      <th>Salidas</th>\n      <th>Valoración</th>\n      <th>Límite</th>\n      <th>Cambio</th>\n    </tr>\n  </thead>\n  <tbody>\n    <tr>\n      <th>Ene</th>\n      <td>41</td>\n      <td>17</td>\n      <td>66</td>\n      <td>No</td>\n      <td>1.43</td>\n    </tr>\n    <tr>\n      <th>Feb</th>\n      <td>32</td>\n      <td>54</td>\n      <td>54</td>\n      <td>Si</td>\n      <td>1.16</td>\n    </tr>\n    <tr>\n      <th>Mar</th>\n      <td>56</td>\n      <td>6</td>\n      <td>49</td>\n      <td>No</td>\n      <td>-0.67</td>\n    </tr>\n    <tr>\n      <th>Abr</th>\n      <td>18</td>\n      <td>78</td>\n      <td>66</td>\n      <td>No</td>\n      <td>0.77</td>\n    </tr>\n  </tbody>\n</table>\n</div>"
     },
     "execution_count": 29,
     "metadata": {},
     "output_type": "execute_result"
    }
   ]
  },
  {
   "cell_type": "code",
   "metadata": {
    "id": "8AKEb3f0dFTH",
    "ExecuteTime": {
     "end_time": "2023-09-20T23:16:07.213189Z",
     "start_time": "2023-09-20T23:16:07.179187Z"
    }
   },
   "source": [
    "ventas.index.name = \"Meses\"\n",
    "ventas"
   ],
   "execution_count": 30,
   "outputs": [
    {
     "data": {
      "text/plain": "       Entradas  Salidas  Valoración Límite  Cambio\nMeses                                              \nEne          41       17          66     No    1.43\nFeb          32       54          54     Si    1.16\nMar          56        6          49     No   -0.67\nAbr          18       78          66     No    0.77",
      "text/html": "<div>\n<style scoped>\n    .dataframe tbody tr th:only-of-type {\n        vertical-align: middle;\n    }\n\n    .dataframe tbody tr th {\n        vertical-align: top;\n    }\n\n    .dataframe thead th {\n        text-align: right;\n    }\n</style>\n<table border=\"1\" class=\"dataframe\">\n  <thead>\n    <tr style=\"text-align: right;\">\n      <th></th>\n      <th>Entradas</th>\n      <th>Salidas</th>\n      <th>Valoración</th>\n      <th>Límite</th>\n      <th>Cambio</th>\n    </tr>\n    <tr>\n      <th>Meses</th>\n      <th></th>\n      <th></th>\n      <th></th>\n      <th></th>\n      <th></th>\n    </tr>\n  </thead>\n  <tbody>\n    <tr>\n      <th>Ene</th>\n      <td>41</td>\n      <td>17</td>\n      <td>66</td>\n      <td>No</td>\n      <td>1.43</td>\n    </tr>\n    <tr>\n      <th>Feb</th>\n      <td>32</td>\n      <td>54</td>\n      <td>54</td>\n      <td>Si</td>\n      <td>1.16</td>\n    </tr>\n    <tr>\n      <th>Mar</th>\n      <td>56</td>\n      <td>6</td>\n      <td>49</td>\n      <td>No</td>\n      <td>-0.67</td>\n    </tr>\n    <tr>\n      <th>Abr</th>\n      <td>18</td>\n      <td>78</td>\n      <td>66</td>\n      <td>No</td>\n      <td>0.77</td>\n    </tr>\n  </tbody>\n</table>\n</div>"
     },
     "execution_count": 30,
     "metadata": {},
     "output_type": "execute_result"
    }
   ]
  },
  {
   "cell_type": "markdown",
   "metadata": {
    "id": "Uh_QVc0edFTJ"
   },
   "source": [
    "El atributo `axes` da acceso a una lista con los ejes de la serie (solo contiene un elemento al tratarse de una estructura unidimensional):"
   ]
  },
  {
   "cell_type": "code",
   "metadata": {
    "id": "BqoM6kD_dFTJ",
    "ExecuteTime": {
     "end_time": "2023-09-20T23:17:53.315237600Z",
     "start_time": "2023-09-20T23:17:53.299238800Z"
    }
   },
   "source": [
    "ventas.axes"
   ],
   "execution_count": 37,
   "outputs": [
    {
     "data": {
      "text/plain": "[Index(['Ene', 'Feb', 'Mar', 'Abr'], dtype='object', name='Meses'),\n Index(['Entradas', 'Salidas', 'Valoración', 'Límite', 'Cambio'], dtype='object')]"
     },
     "execution_count": 37,
     "metadata": {},
     "output_type": "execute_result"
    }
   ]
  },
  {
   "cell_type": "markdown",
   "metadata": {
    "id": "GuVW41G-dFTM"
   },
   "source": [
    "El atributo `shape` nos devuelve el tamaño de la serie:"
   ]
  },
  {
   "cell_type": "code",
   "metadata": {
    "id": "GwEeBY9PdFTN",
    "ExecuteTime": {
     "end_time": "2023-09-20T23:18:00.452302600Z",
     "start_time": "2023-09-20T23:18:00.435302Z"
    }
   },
   "source": [
    "ventas.shape"
   ],
   "execution_count": 38,
   "outputs": [
    {
     "data": {
      "text/plain": "(4, 5)"
     },
     "execution_count": 38,
     "metadata": {},
     "output_type": "execute_result"
    }
   ]
  },
  {
   "cell_type": "markdown",
   "metadata": {
    "id": "-qUe65hDdFTQ"
   },
   "source": [
    "El listado completo de los atributos de las series lo pueden encontrar en la documentación oficial de pandas, <a href=\"https://pandas.pydata.org/pandas-docs/stable/reference/series.html\">aquí</a>."
   ]
  },
  {
   "cell_type": "markdown",
   "metadata": {
    "id": "hBXCpRVNdFTQ"
   },
   "source": [
    "## <font color='blue'>**Estructuras de datos en pandas: Dataframes**</font>\n",
    "\n",
    "Los **dataframes** son estructuras tabulares de datos orientadas a columnas, \n",
    "con etiquetas tanto en filas como en columnas:"
   ]
  },
  {
   "cell_type": "code",
   "metadata": {
    "id": "7vWDX_HmdFTR",
    "ExecuteTime": {
     "end_time": "2023-09-20T23:18:04.282497200Z",
     "start_time": "2023-09-20T23:18:04.225493600Z"
    }
   },
   "source": [
    "ventas = pd.DataFrame({\n",
    "    \"Entradas\": [41, 32, 56, 18],\n",
    "    \"Salidas\": [17, 54, 6, 78],\n",
    "    \"Valoración\": [66, 54, 49, 66],\n",
    "    \"Límite\": [\"No\", \"Si\", \"No\", \"No\"],\n",
    "    \"Cambio\": [1.43, 1.16, -0.67, 0.77]\n",
    "    },\n",
    "    index = [\"Ene\", \"Feb\", \"Mar\", \"Abr\"]\n",
    "    )\n",
    "ventas"
   ],
   "execution_count": 39,
   "outputs": [
    {
     "data": {
      "text/plain": "     Entradas  Salidas  Valoración Límite  Cambio\nEne        41       17          66     No    1.43\nFeb        32       54          54     Si    1.16\nMar        56        6          49     No   -0.67\nAbr        18       78          66     No    0.77",
      "text/html": "<div>\n<style scoped>\n    .dataframe tbody tr th:only-of-type {\n        vertical-align: middle;\n    }\n\n    .dataframe tbody tr th {\n        vertical-align: top;\n    }\n\n    .dataframe thead th {\n        text-align: right;\n    }\n</style>\n<table border=\"1\" class=\"dataframe\">\n  <thead>\n    <tr style=\"text-align: right;\">\n      <th></th>\n      <th>Entradas</th>\n      <th>Salidas</th>\n      <th>Valoración</th>\n      <th>Límite</th>\n      <th>Cambio</th>\n    </tr>\n  </thead>\n  <tbody>\n    <tr>\n      <th>Ene</th>\n      <td>41</td>\n      <td>17</td>\n      <td>66</td>\n      <td>No</td>\n      <td>1.43</td>\n    </tr>\n    <tr>\n      <th>Feb</th>\n      <td>32</td>\n      <td>54</td>\n      <td>54</td>\n      <td>Si</td>\n      <td>1.16</td>\n    </tr>\n    <tr>\n      <th>Mar</th>\n      <td>56</td>\n      <td>6</td>\n      <td>49</td>\n      <td>No</td>\n      <td>-0.67</td>\n    </tr>\n    <tr>\n      <th>Abr</th>\n      <td>18</td>\n      <td>78</td>\n      <td>66</td>\n      <td>No</td>\n      <td>0.77</td>\n    </tr>\n  </tbody>\n</table>\n</div>"
     },
     "execution_count": 39,
     "metadata": {},
     "output_type": "execute_result"
    }
   ]
  },
  {
   "cell_type": "markdown",
   "metadata": {
    "id": "-lWr_BzYdFTT"
   },
   "source": [
    "Para crear el dataframe anterior hemos usado el constructor **pd.DataFrame** y le hemos pasado un diccionario y una lista: las claves del diccionario serán los nombres de las columnas, sus valores, los valores de las columnas, y los valores de la lista se convertirán en las etiquetas de filas.\n",
    "\n",
    "Una columna solo puede contener un tipo de datos, pero cada columna del dataframe puede contener un tipo de datos diferente. Podemos acceder a los tipos de las columnas con el atributo `dtypes`:"
   ]
  },
  {
   "cell_type": "code",
   "metadata": {
    "id": "g8wfEWi0dFTU",
    "ExecuteTime": {
     "end_time": "2023-09-20T23:24:06.843487100Z",
     "start_time": "2023-09-20T23:24:06.827487800Z"
    }
   },
   "source": [
    "print(type(ventas), '\\n')\n",
    "ventas.dtypes"
   ],
   "execution_count": 41,
   "outputs": [
    {
     "name": "stdout",
     "output_type": "stream",
     "text": [
      "<class 'pandas.core.frame.DataFrame'> \n",
      "\n"
     ]
    },
    {
     "data": {
      "text/plain": "Entradas        int64\nSalidas         int64\nValoración      int64\nLímite         object\nCambio        float64\ndtype: object"
     },
     "execution_count": 41,
     "metadata": {},
     "output_type": "execute_result"
    }
   ]
  },
  {
   "cell_type": "markdown",
   "metadata": {
    "id": "N0-n3cSKdFTW"
   },
   "source": [
    "Las etiquetas de filas y de columnas -los índices- son accesibles a través de los atributos `index` y `columns`, respectivamente:"
   ]
  },
  {
   "cell_type": "code",
   "metadata": {
    "id": "MXA9DSVJdFTW",
    "ExecuteTime": {
     "end_time": "2023-09-20T23:25:17.476057Z",
     "start_time": "2023-09-20T23:25:17.463059900Z"
    }
   },
   "source": [
    "ventas.index"
   ],
   "execution_count": 42,
   "outputs": [
    {
     "data": {
      "text/plain": "Index(['Ene', 'Feb', 'Mar', 'Abr'], dtype='object')"
     },
     "execution_count": 42,
     "metadata": {},
     "output_type": "execute_result"
    }
   ]
  },
  {
   "cell_type": "code",
   "source": [
    "ventas.columns"
   ],
   "metadata": {
    "id": "z_TGEqrksfGM",
    "ExecuteTime": {
     "end_time": "2023-09-20T23:25:40.415024200Z",
     "start_time": "2023-09-20T23:25:40.403025900Z"
    }
   },
   "execution_count": 43,
   "outputs": [
    {
     "data": {
      "text/plain": "Index(['Entradas', 'Salidas', 'Valoración', 'Límite', 'Cambio'], dtype='object')"
     },
     "execution_count": 43,
     "metadata": {},
     "output_type": "execute_result"
    }
   ]
  },
  {
   "cell_type": "code",
   "metadata": {
    "id": "OsD6zSsydFTZ",
    "ExecuteTime": {
     "end_time": "2023-09-20T23:28:24.536079100Z",
     "start_time": "2023-09-20T23:28:24.527079700Z"
    }
   },
   "source": [
    "# En ambos casos podemos extraer los valores aplicando la función 'list'\n",
    "list(ventas.columns)"
   ],
   "execution_count": 44,
   "outputs": [
    {
     "data": {
      "text/plain": "['Entradas', 'Salidas', 'Valoración', 'Límite', 'Cambio']"
     },
     "execution_count": 44,
     "metadata": {},
     "output_type": "execute_result"
    }
   ]
  },
  {
   "cell_type": "markdown",
   "metadata": {
    "id": "H3V_o6QwdFTb"
   },
   "source": [
    "La nomenclatura usada por pandas puede resultar un tanto confusa en lo que se refiere a los índices: tanto la estructura que contiene las etiquetas de filas como la que contiene las etiquetas de columnas son objetos de tipo *Index* (mayúscula), pero, como se ha comentado, el índice de filas se denomina también *index* (minúsculas), y el de columna, *columns*.\n",
    "\n",
    "Además, el nombre de \"indice\" se aplica normalmente a la referencia de un dato en una estructura según su posición. Por ejemplo, en la lista $m = [\"a\", \"b\"]$, el índice del primer elemento es el número o valor que, añadido entre corchetes tras el nombre de la lista, nos permite acceder al elemento. Así, el índice del elemento \"a\" en la lista mencionada es 0, y el índice del elemento \"b\" es 1, lo que no es del todo coherente con el concepto de \"índice\" de una estructura pandas cuando lo especificamos explícitamente.\n",
    "\n",
    "Para evitar esta confusión, a lo largo de esta documentación hablaremos normalmente de _\"índices\"_ (en plural) para referirnos a estas dos estructuras (de filas y columnas), de _\"índice\"_ (en singular) para referirnos al índice de etiquetas del eje vertical, y de _\"índice de columnas\"_ y de _\"índice de filas\"_ siempre que sea necesario remarcar a cuál estamos refiriéndonos."
   ]
  },
  {
   "cell_type": "markdown",
   "metadata": {
    "id": "DHLh-kmPdFTc"
   },
   "source": [
    "El __eje 0__ es el correspondiente al índice de filas (eje vertical) y el __eje 1__ al índice de columnas (eje horizontal). Como puede verse en los ejemplos anteriores, ambos índices son de tipo _\"objeto\"_ (ya se ha comentado que, concretamente, son objetos de tipo Index).\n",
    "\n",
    "El atributo axes devuelve una lista con los ejes de la estructura (dos, al tratarse de una estructura bidimensional):"
   ]
  },
  {
   "cell_type": "code",
   "metadata": {
    "id": "HWxMMt1UdFTc",
    "ExecuteTime": {
     "end_time": "2023-09-20T23:47:12.739924700Z",
     "start_time": "2023-09-20T23:47:12.717927600Z"
    }
   },
   "source": [
    "ventas.index.name = \"Meses\"\n",
    "ventas.columns.name = \"Métricas\"\n",
    "ventas"
   ],
   "execution_count": 48,
   "outputs": [
    {
     "data": {
      "text/plain": "Métricas  Entradas  Salidas  Valoración Límite  Cambio\nMeses                                                 \nEne             41       17          66     No    1.43\nFeb             32       54          54     Si    1.16\nMar             56        6          49     No   -0.67\nAbr             18       78          66     No    0.77",
      "text/html": "<div>\n<style scoped>\n    .dataframe tbody tr th:only-of-type {\n        vertical-align: middle;\n    }\n\n    .dataframe tbody tr th {\n        vertical-align: top;\n    }\n\n    .dataframe thead th {\n        text-align: right;\n    }\n</style>\n<table border=\"1\" class=\"dataframe\">\n  <thead>\n    <tr style=\"text-align: right;\">\n      <th>Métricas</th>\n      <th>Entradas</th>\n      <th>Salidas</th>\n      <th>Valoración</th>\n      <th>Límite</th>\n      <th>Cambio</th>\n    </tr>\n    <tr>\n      <th>Meses</th>\n      <th></th>\n      <th></th>\n      <th></th>\n      <th></th>\n      <th></th>\n    </tr>\n  </thead>\n  <tbody>\n    <tr>\n      <th>Ene</th>\n      <td>41</td>\n      <td>17</td>\n      <td>66</td>\n      <td>No</td>\n      <td>1.43</td>\n    </tr>\n    <tr>\n      <th>Feb</th>\n      <td>32</td>\n      <td>54</td>\n      <td>54</td>\n      <td>Si</td>\n      <td>1.16</td>\n    </tr>\n    <tr>\n      <th>Mar</th>\n      <td>56</td>\n      <td>6</td>\n      <td>49</td>\n      <td>No</td>\n      <td>-0.67</td>\n    </tr>\n    <tr>\n      <th>Abr</th>\n      <td>18</td>\n      <td>78</td>\n      <td>66</td>\n      <td>No</td>\n      <td>0.77</td>\n    </tr>\n  </tbody>\n</table>\n</div>"
     },
     "execution_count": 48,
     "metadata": {},
     "output_type": "execute_result"
    }
   ]
  },
  {
   "cell_type": "markdown",
   "metadata": {
    "id": "LoXx1afcdFTe"
   },
   "source": [
    "De forma semejante a como ocurría con las series, el atributo `values` de un dataframe nos permite acceder a los valores del dataframe, con formato `array` NumPy 2d."
   ]
  },
  {
   "cell_type": "code",
   "metadata": {
    "id": "mbB3KEnmdFTf",
    "ExecuteTime": {
     "end_time": "2023-09-20T23:48:27.168174200Z",
     "start_time": "2023-09-20T23:48:27.152173700Z"
    }
   },
   "source": [
    "ventas.values"
   ],
   "execution_count": 49,
   "outputs": [
    {
     "data": {
      "text/plain": "array([[41, 17, 66, 'No', 1.43],\n       [32, 54, 54, 'Si', 1.16],\n       [56, 6, 49, 'No', -0.67],\n       [18, 78, 66, 'No', 0.77]], dtype=object)"
     },
     "execution_count": 49,
     "metadata": {},
     "output_type": "execute_result"
    }
   ]
  },
  {
   "cell_type": "markdown",
   "metadata": {
    "id": "8XG-KoWJdFTh"
   },
   "source": [
    "Este array tendrá un tipo u otro en función de los tipos de las columnas del dataframe, acomodándose de forma que englobe a todos ellos.\n",
    "\n",
    "Y un dataframe también tiene un atributo `shape` que nos informa de su dimensionalidad y del número de elementos en cada dimensión. Podemos ver en el siguiente ejemplo que el dataframe ventas tiene 4 filas y 5 columnas:"
   ]
  },
  {
   "cell_type": "code",
   "metadata": {
    "id": "PP4B20PudFTh",
    "ExecuteTime": {
     "end_time": "2023-09-20T23:48:32.144455400Z",
     "start_time": "2023-09-20T23:48:32.131456300Z"
    }
   },
   "source": [
    "ventas.shape"
   ],
   "execution_count": 50,
   "outputs": [
    {
     "data": {
      "text/plain": "(4, 5)"
     },
     "execution_count": 50,
     "metadata": {},
     "output_type": "execute_result"
    }
   ]
  },
  {
   "cell_type": "markdown",
   "metadata": {
    "id": "qK0_QqbzdFTk"
   },
   "source": [
    "Información adicional sobre los dataframes en la página de la documentación oficial de pandas, <a href=\"https://pandas.pydata.org/pandas-docs/stable/reference/frame.html\">aquí</a>."
   ]
  }
 ]
}
