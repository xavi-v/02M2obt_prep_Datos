{
 "nbformat": 4,
 "nbformat_minor": 0,
 "metadata": {
  "colab": {
   "provenance": [],
   "collapsed_sections": []
  },
  "kernelspec": {
   "display_name": "Python 3 (ipykernel)",
   "language": "python",
   "name": "python3"
  },
  "language_info": {
   "codemirror_mode": {
    "name": "ipython",
    "version": 3
   },
   "file_extension": ".py",
   "mimetype": "text/x-python",
   "name": "python",
   "nbconvert_exporter": "python",
   "pygments_lexer": "ipython3",
   "version": "3.8.11"
  }
 },
 "cells": [
  {
   "cell_type": "markdown",
   "metadata": {
    "id": "aIhkbYcsHKH7"
   },
   "source": [
    "# **Obtención y preparación de datos**\n",
    "# OD03. Creación de Array"
   ]
  },
  {
   "cell_type": "code",
   "metadata": {
    "id": "hvT7HkK3HzZ6",
    "ExecuteTime": {
     "end_time": "2023-09-09T00:19:57.172755Z",
     "start_time": "2023-09-09T00:19:56.157678900Z"
    }
   },
   "source": [
    "import numpy as np"
   ],
   "execution_count": 1,
   "outputs": []
  },
  {
   "cell_type": "markdown",
   "metadata": {
    "id": "UAf2kncw9i9h"
   },
   "source": [
    "## <font color='blue'>**Creando vectores y matrices** </font>"
   ]
  },
  {
   "cell_type": "markdown",
   "metadata": {
    "id": "238Emlgc9i9h"
   },
   "source": [
    "Para crear una matriz NumPy, se puede utilizar la función `np.array()`.\n",
    "\n",
    "Todo lo que necesita hacer para crear una matriz simple es pasarle una lista. Si lo desea, también puede especificar el tipo de datos en su lista."
   ]
  },
  {
   "cell_type": "code",
   "metadata": {
    "id": "e6C2M_KH9i9i",
    "ExecuteTime": {
     "end_time": "2023-09-09T00:21:58.178481Z",
     "start_time": "2023-09-09T00:21:58.094341800Z"
    }
   },
   "source": [
    "a = np.array([1, 2, 3])\n",
    "b = np.array([[1, 2, 3],[4, 5, 6]])\n",
    "c = np.array([[[1, 2, 3],[4, 5, 6]], [[7, 8, 9],[10, 11, 12]]])\n",
    "print(a)\n",
    "print()\n",
    "print(b)\n",
    "print()\n",
    "print(c)\n",
    "c.shape"
   ],
   "execution_count": 2,
   "outputs": [
    {
     "name": "stdout",
     "output_type": "stream",
     "text": [
      "[1 2 3]\n",
      "\n",
      "[[1 2 3]\n",
      " [4 5 6]]\n",
      "\n",
      "[[[ 1  2  3]\n",
      "  [ 4  5  6]]\n",
      "\n",
      " [[ 7  8  9]\n",
      "  [10 11 12]]]\n"
     ]
    },
    {
     "data": {
      "text/plain": "(2, 2, 3)"
     },
     "execution_count": 2,
     "metadata": {},
     "output_type": "execute_result"
    }
   ]
  },
  {
   "cell_type": "code",
   "source": [
    "# Especificamos el tipo de los datos\n",
    "d = np.array([[[1, 2, 3],[4, 5, 6]], [[7, 8, 9],[10, 11, 12]]], dtype=np.float64)\n",
    "print(d)"
   ],
   "metadata": {
    "id": "9LU-nSQ_cvDW",
    "ExecuteTime": {
     "end_time": "2023-09-09T00:25:06.799692900Z",
     "start_time": "2023-09-09T00:25:06.782377900Z"
    }
   },
   "execution_count": 4,
   "outputs": [
    {
     "name": "stdout",
     "output_type": "stream",
     "text": [
      "[[[ 1.  2.  3.]\n",
      "  [ 4.  5.  6.]]\n",
      "\n",
      " [[ 7.  8.  9.]\n",
      "  [10. 11. 12.]]]\n"
     ]
    }
   ]
  },
  {
   "cell_type": "markdown",
   "metadata": {
    "id": "bTEl5Sat9i9k"
   },
   "source": [
    "Además de crear una matriz a partir de una secuencia de elementos, puede crear fácilmente un vector o una matriz llena de ceros:"
   ]
  },
  {
   "cell_type": "code",
   "metadata": {
    "id": "NhN-xYbq9i9l",
    "ExecuteTime": {
     "end_time": "2023-09-09T00:25:55.056943600Z",
     "start_time": "2023-09-09T00:25:55.034943700Z"
    }
   },
   "source": [
    "vector_ceros = np.zeros(5)\n",
    "matriz_ceros = np.zeros((2,5))\n",
    "print(vector_ceros)\n",
    "print()\n",
    "print(matriz_ceros)"
   ],
   "execution_count": 5,
   "outputs": [
    {
     "name": "stdout",
     "output_type": "stream",
     "text": [
      "[0. 0. 0. 0. 0.]\n",
      "\n",
      "[[0. 0. 0. 0. 0.]\n",
      " [0. 0. 0. 0. 0.]]\n"
     ]
    }
   ]
  },
  {
   "cell_type": "markdown",
   "metadata": {
    "id": "_48CR0V69i9s"
   },
   "source": [
    "o un vector o matriz de 1s:"
   ]
  },
  {
   "cell_type": "code",
   "metadata": {
    "id": "G0kO6M_j9i9s",
    "ExecuteTime": {
     "end_time": "2023-09-09T00:26:07.665519400Z",
     "start_time": "2023-09-09T00:26:07.654400300Z"
    }
   },
   "source": [
    "vector_unos = np.ones(5)\n",
    "matriz_unos = np.ones((2,5))\n",
    "print(vector_unos)\n",
    "print()\n",
    "print(matriz_unos)"
   ],
   "execution_count": 6,
   "outputs": [
    {
     "name": "stdout",
     "output_type": "stream",
     "text": [
      "[1. 1. 1. 1. 1.]\n",
      "\n",
      "[[1. 1. 1. 1. 1.]\n",
      " [1. 1. 1. 1. 1.]]\n"
     ]
    }
   ]
  },
  {
   "cell_type": "markdown",
   "metadata": {
    "id": "3CPcoslQ9i9v"
   },
   "source": [
    "o un vector o matriz vacía. La función vacía crea una matriz cuyo contenido inicial es aleatorio y depende del estado de la memoria. La razón para usar vacío sobre ceros (o algo similar) es la velocidad, ¡solo asegúrese de completar todos los elementos después!."
   ]
  },
  {
   "cell_type": "code",
   "metadata": {
    "id": "LnxtkbyJ9i9v",
    "ExecuteTime": {
     "end_time": "2023-09-09T00:27:42.555840900Z",
     "start_time": "2023-09-09T00:27:42.532838100Z"
    }
   },
   "source": [
    "np.empty(5)"
   ],
   "execution_count": 8,
   "outputs": [
    {
     "data": {
      "text/plain": "array([1., 1., 1., 1., 1.])"
     },
     "execution_count": 8,
     "metadata": {},
     "output_type": "execute_result"
    }
   ]
  },
  {
   "cell_type": "markdown",
   "metadata": {
    "id": "kJYDvmDg9i9x"
   },
   "source": [
    "También es posible crear un vector con elementos dentro de un rango:"
   ]
  },
  {
   "cell_type": "code",
   "metadata": {
    "id": "hNJ4dNO29i9y",
    "ExecuteTime": {
     "end_time": "2023-09-09T00:28:41.231117900Z",
     "start_time": "2023-09-09T00:28:41.216115800Z"
    }
   },
   "source": [
    "np.arange(4)"
   ],
   "execution_count": 9,
   "outputs": [
    {
     "data": {
      "text/plain": "array([0, 1, 2, 3])"
     },
     "execution_count": 9,
     "metadata": {},
     "output_type": "execute_result"
    }
   ]
  },
  {
   "cell_type": "markdown",
   "metadata": {
    "id": "tR_0NWrw9i91"
   },
   "source": [
    "Un vector que contiene un rango de intervalos espaciados uniformemente. Para hacer esto, debe especificar el primer número, el último número y el tamaño del paso."
   ]
  },
  {
   "cell_type": "code",
   "metadata": {
    "id": "7kalX1_89i91",
    "ExecuteTime": {
     "end_time": "2023-09-09T00:30:01.856701200Z",
     "start_time": "2023-09-09T00:30:01.846699300Z"
    }
   },
   "source": [
    "np.arange(3, 10, 2)"
   ],
   "execution_count": 10,
   "outputs": [
    {
     "data": {
      "text/plain": "array([3, 5, 7, 9])"
     },
     "execution_count": 10,
     "metadata": {},
     "output_type": "execute_result"
    }
   ]
  },
  {
   "cell_type": "markdown",
   "metadata": {
    "id": "ic7Bl_Hs9i93"
   },
   "source": [
    "También puede utilizar `np.linspace()` para crear una matriz con valores espaciados linealmente en un intervalo especificado:"
   ]
  },
  {
   "cell_type": "code",
   "metadata": {
    "id": "wW3kKZgV9i94",
    "ExecuteTime": {
     "end_time": "2023-09-09T00:31:04.392067400Z",
     "start_time": "2023-09-09T00:31:04.383066400Z"
    }
   },
   "source": [
    "np.linspace(0, 15, num=5)"
   ],
   "execution_count": 11,
   "outputs": [
    {
     "data": {
      "text/plain": "array([ 0.  ,  3.75,  7.5 , 11.25, 15.  ])"
     },
     "execution_count": 11,
     "metadata": {},
     "output_type": "execute_result"
    }
   ]
  },
  {
   "cell_type": "markdown",
   "metadata": {
    "id": "Eihq6Hor9i98"
   },
   "source": [
    "El tipo de datos predeterminado es punto flotante (*np.float64*), pero es posible especificar explícitamente qué tipo de datos desea, utilizando la palabra clave `dtype`. Para más información sobre tipo de datos, refiera a la documentación oficial de [arrays-dtypes](https://numpy.org/devdocs/reference/arrays.dtypes.html#arrays-dtypes)."
   ]
  },
  {
   "cell_type": "code",
   "metadata": {
    "id": "D3X8V3hV9i98",
    "ExecuteTime": {
     "end_time": "2023-09-09T00:33:07.340867900Z",
     "start_time": "2023-09-09T00:33:07.329867600Z"
    }
   },
   "source": [
    "x = np.ones(5, dtype=np.int64)\n",
    "x"
   ],
   "execution_count": 12,
   "outputs": [
    {
     "data": {
      "text/plain": "array([1, 1, 1, 1, 1], dtype=int64)"
     },
     "execution_count": 12,
     "metadata": {},
     "output_type": "execute_result"
    }
   ]
  },
  {
   "cell_type": "markdown",
   "metadata": {
    "id": "RYQnTW1u9i9-"
   },
   "source": [
    "La __matriz de identidad__ es una matriz cuadrada con unos en la diagonal principal:"
   ]
  },
  {
   "cell_type": "code",
   "metadata": {
    "id": "ZFfshoGM9i9_",
    "ExecuteTime": {
     "end_time": "2023-09-09T00:33:41.104650500Z",
     "start_time": "2023-09-09T00:33:41.091650800Z"
    }
   },
   "source": [
    "np.identity(3)"
   ],
   "execution_count": 13,
   "outputs": [
    {
     "data": {
      "text/plain": "array([[1., 0., 0.],\n       [0., 1., 0.],\n       [0., 0., 1.]])"
     },
     "execution_count": 13,
     "metadata": {},
     "output_type": "execute_result"
    }
   ]
  },
  {
   "cell_type": "markdown",
   "metadata": {
    "id": "kF-4ENk7Egf6"
   },
   "source": [
    "## <font color='green'>**Actividad 1**</font>"
   ]
  },
  {
   "cell_type": "markdown",
   "metadata": {
    "id": "r1Y9KLVLEgf6"
   },
   "source": [
    "1. Crear una matriz de 4x9 que esté inicializa con el valor 3.5.\n",
    "2. Crear un vector de longitud 4.\n",
    "3. Crear una matriz identidad de tamaño 4.\n"
   ]
  },
  {
   "cell_type": "code",
   "metadata": {
    "id": "z9xllHuqEgf7",
    "ExecuteTime": {
     "end_time": "2023-09-09T00:59:46.242465Z",
     "start_time": "2023-09-09T00:59:46.198160900Z"
    }
   },
   "source": [
    "# Tu código aquí ...\n",
    "matriz_1 = np.ones((4,9)) * 3.5\n",
    "print(matriz_1)\n",
    "np.arange(4)\n",
    "\n",
    "np.eye(4, k=0)"
   ],
   "execution_count": 26,
   "outputs": [
    {
     "name": "stdout",
     "output_type": "stream",
     "text": [
      "[[3.5 3.5 3.5 3.5 3.5 3.5 3.5 3.5 3.5]\n",
      " [3.5 3.5 3.5 3.5 3.5 3.5 3.5 3.5 3.5]\n",
      " [3.5 3.5 3.5 3.5 3.5 3.5 3.5 3.5 3.5]\n",
      " [3.5 3.5 3.5 3.5 3.5 3.5 3.5 3.5 3.5]]\n"
     ]
    },
    {
     "data": {
      "text/plain": "array([[1., 0., 0., 0.],\n       [0., 1., 0., 0.],\n       [0., 0., 1., 0.],\n       [0., 0., 0., 1.]])"
     },
     "execution_count": 26,
     "metadata": {},
     "output_type": "execute_result"
    }
   ]
  },
  {
   "cell_type": "markdown",
   "metadata": {
    "id": "oUtrPxf4Egf8"
   },
   "source": [
    "<font color='green'>**Fin actividad 1**</font>"
   ]
  },
  {
   "cell_type": "markdown",
   "metadata": {
    "id": "g_nOdgNK9i-B"
   },
   "source": [
    "## <font color='blue'>**Operaciones con matrices**</font>"
   ]
  },
  {
   "cell_type": "markdown",
   "metadata": {
    "id": "WlXAmLx39i-B"
   },
   "source": [
    "Las operaciones básicas son simples con NumPy. Una vez que ha creado sus matrices, puede comenzar a trabajar con ellas. Por ejemplo, se han creado dos matrices, una llamada *a* y otra llamada *b*."
   ]
  },
  {
   "cell_type": "code",
   "metadata": {
    "id": "HxocIoQy9i-C",
    "ExecuteTime": {
     "end_time": "2023-09-09T00:59:56.095372200Z",
     "start_time": "2023-09-09T00:59:56.055370600Z"
    }
   },
   "source": [
    "a = np.array([1, 2, 3, 4, 5])\n",
    "b = np.array([10, 3, 6, 8, 1], dtype=int)\n",
    "a + b"
   ],
   "execution_count": 27,
   "outputs": [
    {
     "data": {
      "text/plain": "array([11,  5,  9, 12,  6])"
     },
     "execution_count": 27,
     "metadata": {},
     "output_type": "execute_result"
    }
   ]
  },
  {
   "cell_type": "markdown",
   "metadata": {
    "id": "K8Tj0qui9i-F"
   },
   "source": [
    "Si desea encontrar la suma de los elementos en una matriz, debe usar **sum()**. Esto funciona para matrices 1D, matrices 2D y matrices en dimensiones más altas."
   ]
  },
  {
   "cell_type": "code",
   "metadata": {
    "id": "LRzxmChM9i-G"
   },
   "source": [
    "a = np.array([1, 2, 3, 4])\n",
    "a.sum()"
   ],
   "execution_count": null,
   "outputs": []
  },
  {
   "cell_type": "markdown",
   "metadata": {
    "id": "1xCGCtUO9i-J"
   },
   "source": [
    "Para realizar esta operación en más dimensiones, debe especificar el eje."
   ]
  },
  {
   "cell_type": "code",
   "metadata": {
    "id": "u6Bf7dod9i-J"
   },
   "source": [
    "b = np.array([[0, 1, 2], [3, 4, 5]])\n",
    "print(b)\n",
    "print()\n",
    "print(b.shape)"
   ],
   "execution_count": null,
   "outputs": []
  },
  {
   "cell_type": "markdown",
   "metadata": {
    "id": "T7UM_gFh9i-L"
   },
   "source": [
    "Para sumar por filas:"
   ]
  },
  {
   "cell_type": "code",
   "metadata": {
    "id": "BwxmS45y9i-M"
   },
   "source": [
    "b.sum(axis=0)"
   ],
   "execution_count": null,
   "outputs": []
  },
  {
   "cell_type": "markdown",
   "source": [
    "__IMPORTANTE__: Cuando establecemos `axis = 0`, la función en realidad suma las columnas. El resultado es una nueva matriz NumPy que contiene la suma de cada columna. ¿Por qué? ¿El eje 0 no se refiere a las filas?\n",
    "\n",
    "Esto confunde a muchos principiantes. El parámetro `axis` nos indica qué eje será colapsado (desaparece). Es decir, cuando definimos `axis=0`, `np.sum()`colapsa las filas de la matriz y calcula las sumas.\n",
    "\n",
    "\n",
    "<img src='https://drive.google.com/uc?export=view&id=1VYCaccao-3x7ePrUvM9TFUB4wyaxybxm' width=\"200\" align=\"center\" style=\"margin-right: 20px\">\n",
    "\n",
    "Entonces, cuando establecemos el `axis = 0`, no estamos sumando las filas. Cuando establecemos el `axis = 0`, estamos agregando los datos de modo que colapsamos las filas... colapsamos el eje 0.\n",
    "\n",
    "\n"
   ],
   "metadata": {
    "id": "QgQ3WcRMlkcv"
   }
  },
  {
   "cell_type": "markdown",
   "metadata": {
    "id": "laH3M_4a9i-O"
   },
   "source": [
    "Para sumar por columnas:"
   ]
  },
  {
   "cell_type": "code",
   "metadata": {
    "id": "LzVMKXl69i-O"
   },
   "source": [
    "b.sum(axis=1)"
   ],
   "execution_count": null,
   "outputs": []
  },
  {
   "cell_type": "markdown",
   "source": [
    "Veamos qué ocurre cuando usamos `axis = 1`. Nuevamente, el parámetro `axis` establece el eje que se colapsa durante el proceso, en este caso, la suma.\n",
    "\n",
    "El eje `axis = 1` se refiere a la dirección horizontal a través de las columnas. Eso significa que el código `b.sum(axis = 1)` colapsa las columnas durante la suma.\n",
    "\n",
    "<img src='https://drive.google.com/uc?export=view&id=1uA5db6c9Jz2r30iA_9QOo1s75aSUEBiz' width=\"300\" align=\"center\" style=\"margin-right: 20px\">\n"
   ],
   "metadata": {
    "id": "McgWFRn9smP9"
   }
  },
  {
   "cell_type": "markdown",
   "metadata": {
    "id": "Uv-IndhV9i-Q"
   },
   "source": [
    "Sustracción:"
   ]
  },
  {
   "cell_type": "code",
   "metadata": {
    "id": "nYZRPFq89i-R"
   },
   "source": [
    "a = np.array([1, 2, 3, 4, 5])\n",
    "b = np.array([10, 3, 6, 8, 1], dtype=int)\n",
    "a - b"
   ],
   "execution_count": null,
   "outputs": []
  },
  {
   "cell_type": "markdown",
   "metadata": {
    "id": "GtgehIq19i-U"
   },
   "source": [
    "Multiplicación por elementos:"
   ]
  },
  {
   "cell_type": "code",
   "metadata": {
    "id": "Ff-j_Bgc9i-U"
   },
   "source": [
    "a = np.array( [[1,1],[2,1]] )\n",
    "b = np.array( [[2,4],[3,4]] )\n",
    "print(a)\n",
    "print(b)\n",
    "a * b"
   ],
   "execution_count": null,
   "outputs": []
  },
  {
   "cell_type": "markdown",
   "metadata": {
    "id": "McUdjGXP9i-W"
   },
   "source": [
    "Multiplicación de matrices: se puede realizar utilizando el operador `@` (en Python $\\ge$ 3.5) o la función o método `dot`:"
   ]
  },
  {
   "cell_type": "code",
   "metadata": {
    "id": "i7A1kmMK9i-X"
   },
   "source": [
    "a @ b"
   ],
   "execution_count": null,
   "outputs": []
  },
  {
   "cell_type": "code",
   "metadata": {
    "id": "yPSMwB6K9i-Z"
   },
   "source": [
    "a.dot(b)"
   ],
   "execution_count": null,
   "outputs": []
  },
  {
   "cell_type": "markdown",
   "metadata": {
    "id": "8G_rNcbh9i-b"
   },
   "source": [
    "División:"
   ]
  },
  {
   "cell_type": "code",
   "metadata": {
    "id": "9d3qqvfr9i-b"
   },
   "source": [
    "a / b"
   ],
   "execution_count": null,
   "outputs": []
  },
  {
   "cell_type": "markdown",
   "metadata": {
    "id": "gwP_iXaS9i-f"
   },
   "source": [
    "Otras operaciones:"
   ]
  },
  {
   "cell_type": "code",
   "metadata": {
    "id": "21fm6z5T9i-g"
   },
   "source": [
    "a = np.array([20,30,40,50])\n",
    "b = np.arange(4)\n",
    "# Elevar a una potencia\n",
    "c = b**2\n",
    "print(c)\n",
    "print()\n",
    "# Función seno\n",
    "c = 10 * np.sin(a)\n",
    "print(c)\n",
    "print()\n",
    "# Funciones lógicas\n",
    "c = a < 35\n",
    "print(c)"
   ],
   "execution_count": null,
   "outputs": []
  },
  {
   "cell_type": "code",
   "metadata": {
    "id": "g9NUMzUu9i-i"
   },
   "source": [
    "a = np.array([[0.45053314, 0.17296777, 0.34376245, 0.5510652],\n",
    "              [0.54627315, 0.05093587, 0.40067661, 0.55645993],\n",
    "              [0.12697628, 0.82485143, 0.26590556, 0.56917101]])\n",
    "# Mínimo\n",
    "b = a.min()\n",
    "print(b)\n",
    "print()\n",
    "# Máximo\n",
    "b = a.max()\n",
    "print(b)\n",
    "print()\n",
    "# Máximo por columna\n",
    "b = a.max(axis=1)\n",
    "print(b)\n",
    "print()\n",
    "# Media\n",
    "b = a.mean()\n",
    "print(b)\n",
    "print()\n",
    "# Desviación estándar\n",
    "b = a.std()\n",
    "print(b)\n",
    "print()"
   ],
   "execution_count": null,
   "outputs": []
  },
  {
   "cell_type": "markdown",
   "metadata": {
    "id": "Mdq6eKDV9i-k"
   },
   "source": [
    "NumPy contiene una batería de operaciones sobre matrices: aritméticas, operaciones binarias, estadísticas, funciones, entre otras. Para más información, vea la [guía de uso rápido de Numpy](https://numpy.org/devdocs/user/quickstart.html#the-basics)."
   ]
  },
  {
   "cell_type": "markdown",
   "metadata": {
    "id": "XH4yPaVs9i-l"
   },
   "source": [
    "La generación de números aleatorios es una parte importante en la configuración y evaluación de muchos algoritmos de aprendizaje automático. Ya sea que necesite inicializar pesos aleatoriamente en una red neuronal artificial, dividir datos en conjuntos aleatorios o mezclar aleatoriamente su conjunto de datos, es esencial poder generar números aleatorios (en realidad, números pseudoaleatorios repetibles).\n",
    "\n",
    "Con la clase `Generator`de Numpy, puede acceder a una amplia gama de métodos para generar números aleatorios. Vemos un ejemplo para generar una matriz de 2 x 4 de números enteros aleatorios entre 0 y 4:"
   ]
  },
  {
   "cell_type": "code",
   "source": [
    "# De esta forma creamos el generador con el BitGenerator por defecto (PCG64)\n",
    "np.random.default_rng()"
   ],
   "metadata": {
    "id": "0mA1Tqc1v3HZ"
   },
   "execution_count": null,
   "outputs": []
  },
  {
   "cell_type": "code",
   "metadata": {
    "id": "hUjpDnCX9i-l"
   },
   "source": [
    "# Instanciamos el generador \n",
    "rng = np.random.default_rng()\n",
    "\n",
    "# Creamos un arreglo de números aleatorios entre 0 y 4 de tamaño 2x4\n",
    "rng.integers(5, size=(2, 4))"
   ],
   "execution_count": null,
   "outputs": []
  },
  {
   "cell_type": "markdown",
   "metadata": {
    "id": "nkd6vN-D9i-n"
   },
   "source": [
    "Veamos otro ejemplo:"
   ]
  },
  {
   "cell_type": "code",
   "metadata": {
    "id": "K2MbMEIP9i-o"
   },
   "source": [
    "rng = np.random.default_rng(0)\n",
    "rng.random(3)"
   ],
   "execution_count": null,
   "outputs": []
  },
  {
   "cell_type": "markdown",
   "metadata": {
    "id": "GBjkeafT9i-q"
   },
   "source": [
    "Algunas operaciones, como `+=` y `*=`, actúan para modificar una matriz existente en lugar de crear una nueva."
   ]
  },
  {
   "cell_type": "code",
   "metadata": {
    "id": "CNoOGEI49i-r"
   },
   "source": [
    "rg = np.random.default_rng(1)\n",
    "a = np.ones((2,3), dtype=int)\n",
    "b = rg.random((2,3))\n",
    "a *= 3\n",
    "print(a)\n",
    "print()\n",
    "b += a\n",
    "print(b)"
   ],
   "execution_count": null,
   "outputs": []
  },
  {
   "cell_type": "markdown",
   "metadata": {
    "id": "ZReAA7mO9i-v"
   },
   "source": [
    "Es posible realizar una operación entre una matriz y un solo número (operación entre un vector y un escalar) o entre matrices de dos tamaños diferentes. Por ejemplo:"
   ]
  },
  {
   "cell_type": "code",
   "metadata": {
    "id": "ppjf7CNG9i-v"
   },
   "source": [
    "distancia_millas = np.array([1.0, 2.0])\n",
    "distancia_km = distancia_millas * 1.6\n",
    "print(distancia_km)"
   ],
   "execution_count": null,
   "outputs": []
  },
  {
   "cell_type": "markdown",
   "metadata": {
    "id": "130dOJNT9i-z"
   },
   "source": [
    "## <font color='green'>**Actividad 2**</font>"
   ]
  },
  {
   "cell_type": "markdown",
   "metadata": {
    "id": "uPq-IqNu9i-0"
   },
   "source": [
    "1. Crear una matriz de dos dimensiones en que una dimensión represente el sexo y la otra la edad de los integrantes del grupo. Luego, convertir la dimensión edad en años a la edad en meses.\n",
    "1. Generar una matriz de 7 por 9. Las primeras 3 columnas de la matriz tienen que tener el valor 0. La cuarta columna debe tener el valor 0.5, excepto por el último valor de esa columna, que tiene que ser 0.7. Las otras cinco columnas deben tener el valor 1."
   ]
  },
  {
   "cell_type": "code",
   "metadata": {
    "id": "FC6uMh9G9i-1"
   },
   "source": [
    "# Tu código aquí ...\n"
   ],
   "execution_count": null,
   "outputs": []
  },
  {
   "cell_type": "markdown",
   "metadata": {
    "id": "s2SBgyDBkVbb"
   },
   "source": [
    "<font color='green'>**Fin actividad 2**</font>"
   ]
  }
 ]
}
