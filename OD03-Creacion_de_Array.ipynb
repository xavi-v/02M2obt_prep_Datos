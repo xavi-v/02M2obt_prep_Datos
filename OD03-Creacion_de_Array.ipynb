{
 "nbformat": 4,
 "nbformat_minor": 0,
 "metadata": {
  "colab": {
   "provenance": [],
   "collapsed_sections": []
  },
  "kernelspec": {
   "display_name": "Python 3 (ipykernel)",
   "language": "python",
   "name": "python3"
  },
  "language_info": {
   "codemirror_mode": {
    "name": "ipython",
    "version": 3
   },
   "file_extension": ".py",
   "mimetype": "text/x-python",
   "name": "python",
   "nbconvert_exporter": "python",
   "pygments_lexer": "ipython3",
   "version": "3.8.11"
  }
 },
 "cells": [
  {
   "cell_type": "markdown",
   "metadata": {
    "id": "aIhkbYcsHKH7"
   },
   "source": [
    "# **Obtención y preparación de datos**\n",
    "# OD03. Creación de Array"
   ]
  },
  {
   "cell_type": "code",
   "metadata": {
    "id": "hvT7HkK3HzZ6",
    "ExecuteTime": {
     "end_time": "2023-09-15T21:11:00.269124500Z",
     "start_time": "2023-09-15T21:11:00.029598800Z"
    }
   },
   "source": [
    "import numpy as np"
   ],
   "execution_count": 1,
   "outputs": []
  },
  {
   "cell_type": "markdown",
   "metadata": {
    "id": "UAf2kncw9i9h"
   },
   "source": [
    "## <font color='blue'>**Creando vectores y matrices** </font>"
   ]
  },
  {
   "cell_type": "markdown",
   "metadata": {
    "id": "238Emlgc9i9h"
   },
   "source": [
    "Para crear una matriz NumPy, se puede utilizar la función `np.array()`.\n",
    "\n",
    "Todo lo que necesita hacer para crear una matriz simple es pasarle una lista. Si lo desea, también puede especificar el tipo de datos en su lista."
   ]
  },
  {
   "cell_type": "code",
   "metadata": {
    "id": "e6C2M_KH9i9i",
    "ExecuteTime": {
     "end_time": "2023-09-13T22:19:06.396556600Z",
     "start_time": "2023-09-13T22:19:06.378552Z"
    }
   },
   "source": [
    "a = np.array([1, 2, 3])\n",
    "b = np.array([[1, 2, 3],[4, 5, 6]])\n",
    "c = np.array([[[1, 2, 3],[4, 5, 6]], [[7, 8, 9],[10, 11, 12]]])\n",
    "print(a)\n",
    "print()\n",
    "print(b)\n",
    "print()\n",
    "print(c)\n",
    "print(a.shape)\n",
    "print(b.shape)\n",
    "print(c.shape)"
   ],
   "execution_count": 4,
   "outputs": [
    {
     "name": "stdout",
     "output_type": "stream",
     "text": [
      "[1 2 3]\n",
      "\n",
      "[[1 2 3]\n",
      " [4 5 6]]\n",
      "\n",
      "[[[ 1  2  3]\n",
      "  [ 4  5  6]]\n",
      "\n",
      " [[ 7  8  9]\n",
      "  [10 11 12]]]\n",
      "(3,)\n",
      "(2, 3)\n",
      "(2, 2, 3)\n"
     ]
    }
   ]
  },
  {
   "cell_type": "code",
   "source": [
    "# Especificamos el tipo de los datos\n",
    "d = np.array([[[1, 2, 3],[4, 5, 6]], [[7, 8, 9],[10, 11, 12]]], dtype=np.float64)\n",
    "print(d)"
   ],
   "metadata": {
    "id": "9LU-nSQ_cvDW",
    "ExecuteTime": {
     "end_time": "2023-09-09T00:25:06.799692900Z",
     "start_time": "2023-09-09T00:25:06.782377900Z"
    }
   },
   "execution_count": 4,
   "outputs": [
    {
     "name": "stdout",
     "output_type": "stream",
     "text": [
      "[[[ 1.  2.  3.]\n",
      "  [ 4.  5.  6.]]\n",
      "\n",
      " [[ 7.  8.  9.]\n",
      "  [10. 11. 12.]]]\n"
     ]
    }
   ]
  },
  {
   "cell_type": "markdown",
   "metadata": {
    "id": "bTEl5Sat9i9k"
   },
   "source": [
    "Además de crear una matriz a partir de una secuencia de elementos, puede crear fácilmente un vector o una matriz llena de ceros:"
   ]
  },
  {
   "cell_type": "code",
   "metadata": {
    "id": "NhN-xYbq9i9l",
    "ExecuteTime": {
     "end_time": "2023-09-13T22:26:04.908831900Z",
     "start_time": "2023-09-13T22:26:04.882832200Z"
    }
   },
   "source": [
    "vector_ceros = np.zeros(5)\n",
    "matriz_ceros = np.zeros((2,5))\n",
    "print(vector_ceros)\n",
    "print()\n",
    "print(matriz_ceros)"
   ],
   "execution_count": 8,
   "outputs": [
    {
     "name": "stdout",
     "output_type": "stream",
     "text": [
      "[0. 0. 0. 0. 0.]\n",
      "\n",
      "[[0. 0. 0. 0. 0.]\n",
      " [0. 0. 0. 0. 0.]]\n"
     ]
    }
   ]
  },
  {
   "cell_type": "markdown",
   "metadata": {
    "id": "_48CR0V69i9s"
   },
   "source": [
    "o un vector o matriz de 1s:"
   ]
  },
  {
   "cell_type": "code",
   "metadata": {
    "id": "G0kO6M_j9i9s",
    "ExecuteTime": {
     "end_time": "2023-09-13T22:28:37.671670900Z",
     "start_time": "2023-09-13T22:28:37.630667400Z"
    }
   },
   "source": [
    "vector_unos = np.ones(5)\n",
    "matriz_unos = np.ones((2,5))\n",
    "print(vector_unos)\n",
    "print()\n",
    "print(matriz_unos)"
   ],
   "execution_count": 13,
   "outputs": [
    {
     "name": "stdout",
     "output_type": "stream",
     "text": [
      "[1. 1. 1. 1. 1.]\n",
      "\n",
      "[[1. 1. 1. 1. 1.]\n",
      " [1. 1. 1. 1. 1.]]\n"
     ]
    }
   ]
  },
  {
   "cell_type": "markdown",
   "metadata": {
    "id": "3CPcoslQ9i9v"
   },
   "source": [
    "o un vector o matriz vacía. La función vacía crea una matriz cuyo contenido inicial es aleatorio y depende del estado de la memoria. La razón para usar vacío sobre ceros (o algo similar) es la velocidad, ¡solo asegúrese de completar todos los elementos después!."
   ]
  },
  {
   "cell_type": "code",
   "metadata": {
    "id": "LnxtkbyJ9i9v",
    "ExecuteTime": {
     "end_time": "2023-09-13T22:30:35.569917200Z",
     "start_time": "2023-09-13T22:30:35.513912100Z"
    }
   },
   "source": [
    "np.empty(5)"
   ],
   "execution_count": 16,
   "outputs": [
    {
     "data": {
      "text/plain": "array([1., 1., 1., 1., 1.])"
     },
     "execution_count": 16,
     "metadata": {},
     "output_type": "execute_result"
    }
   ]
  },
  {
   "cell_type": "markdown",
   "metadata": {
    "id": "kJYDvmDg9i9x"
   },
   "source": [
    "También es posible crear un vector con elementos dentro de un rango:"
   ]
  },
  {
   "cell_type": "code",
   "metadata": {
    "id": "hNJ4dNO29i9y",
    "ExecuteTime": {
     "end_time": "2023-09-13T22:31:41.150333600Z",
     "start_time": "2023-09-13T22:31:41.125331500Z"
    }
   },
   "source": [
    "np.arange(4)"
   ],
   "execution_count": 18,
   "outputs": [
    {
     "data": {
      "text/plain": "array([0, 1, 2, 3])"
     },
     "execution_count": 18,
     "metadata": {},
     "output_type": "execute_result"
    }
   ]
  },
  {
   "cell_type": "markdown",
   "metadata": {
    "id": "tR_0NWrw9i91"
   },
   "source": [
    "Un vector que contiene un rango de intervalos espaciados uniformemente. Para hacer esto, debe especificar el primer número, el último número y el tamaño del paso."
   ]
  },
  {
   "cell_type": "code",
   "metadata": {
    "id": "7kalX1_89i91",
    "ExecuteTime": {
     "end_time": "2023-09-13T22:32:02.483480100Z",
     "start_time": "2023-09-13T22:32:02.453481800Z"
    }
   },
   "source": [
    "np.arange(3, 10, 2)"
   ],
   "execution_count": 20,
   "outputs": [
    {
     "data": {
      "text/plain": "array([3, 5, 7, 9])"
     },
     "execution_count": 20,
     "metadata": {},
     "output_type": "execute_result"
    }
   ]
  },
  {
   "cell_type": "markdown",
   "metadata": {
    "id": "ic7Bl_Hs9i93"
   },
   "source": [
    "También puede utilizar `np.linspace()` para crear una matriz con valores espaciados linealmente en un intervalo especificado:"
   ]
  },
  {
   "cell_type": "code",
   "metadata": {
    "id": "wW3kKZgV9i94",
    "ExecuteTime": {
     "end_time": "2023-09-13T22:35:32.422409400Z",
     "start_time": "2023-09-13T22:35:32.391407400Z"
    }
   },
   "source": [
    "np.linspace(0, 15, num=5)"
   ],
   "execution_count": 23,
   "outputs": [
    {
     "data": {
      "text/plain": "array([ 0.  ,  3.75,  7.5 , 11.25, 15.  ])"
     },
     "execution_count": 23,
     "metadata": {},
     "output_type": "execute_result"
    }
   ]
  },
  {
   "cell_type": "markdown",
   "metadata": {
    "id": "Eihq6Hor9i98"
   },
   "source": [
    "El tipo de datos predeterminado es punto flotante (*np.float64*), pero es posible especificar explícitamente qué tipo de datos desea, utilizando la palabra clave `dtype`. Para más información sobre tipo de datos, refiera a la documentación oficial de [arrays-dtypes](https://numpy.org/devdocs/reference/arrays.dtypes.html#arrays-dtypes)."
   ]
  },
  {
   "cell_type": "code",
   "metadata": {
    "id": "D3X8V3hV9i98",
    "ExecuteTime": {
     "end_time": "2023-09-13T22:35:35.125608200Z",
     "start_time": "2023-09-13T22:35:35.109609500Z"
    }
   },
   "source": [
    "x = np.ones(5, dtype=np.int64)\n",
    "x"
   ],
   "execution_count": 24,
   "outputs": [
    {
     "data": {
      "text/plain": "array([1, 1, 1, 1, 1], dtype=int64)"
     },
     "execution_count": 24,
     "metadata": {},
     "output_type": "execute_result"
    }
   ]
  },
  {
   "cell_type": "markdown",
   "metadata": {
    "id": "RYQnTW1u9i9-"
   },
   "source": [
    "La __matriz de identidad__ es una matriz cuadrada con unos en la diagonal principal:"
   ]
  },
  {
   "cell_type": "code",
   "metadata": {
    "id": "ZFfshoGM9i9_",
    "ExecuteTime": {
     "end_time": "2023-09-13T22:38:53.664326Z",
     "start_time": "2023-09-13T22:38:53.616324200Z"
    }
   },
   "source": [
    "np.identity(3)"
   ],
   "execution_count": 26,
   "outputs": [
    {
     "data": {
      "text/plain": "array([[1., 0., 0.],\n       [0., 1., 0.],\n       [0., 0., 1.]])"
     },
     "execution_count": 26,
     "metadata": {},
     "output_type": "execute_result"
    }
   ]
  },
  {
   "cell_type": "markdown",
   "metadata": {
    "id": "kF-4ENk7Egf6"
   },
   "source": [
    "## <font color='green'>**Actividad 1**</font>"
   ]
  },
  {
   "cell_type": "markdown",
   "metadata": {
    "id": "r1Y9KLVLEgf6"
   },
   "source": [
    "1. Crear una matriz de 4x9 que esté inicializa con el valor 3.5.\n",
    "2. Crear un vector de longitud 4.\n",
    "3. Crear una matriz identidad de tamaño 4.\n"
   ]
  },
  {
   "cell_type": "code",
   "metadata": {
    "id": "z9xllHuqEgf7",
    "ExecuteTime": {
     "end_time": "2023-09-13T22:38:59.444345300Z",
     "start_time": "2023-09-13T22:38:59.429349200Z"
    }
   },
   "source": [
    "# Tu código aquí ...\n",
    "matriz_1 = np.ones((4,9)) * 3.5\n",
    "print(matriz_1)\n",
    "np.arange(4)\n",
    "\n",
    "np.eye(4, k=0)"
   ],
   "execution_count": 27,
   "outputs": [
    {
     "name": "stdout",
     "output_type": "stream",
     "text": [
      "[[3.5 3.5 3.5 3.5 3.5 3.5 3.5 3.5 3.5]\n",
      " [3.5 3.5 3.5 3.5 3.5 3.5 3.5 3.5 3.5]\n",
      " [3.5 3.5 3.5 3.5 3.5 3.5 3.5 3.5 3.5]\n",
      " [3.5 3.5 3.5 3.5 3.5 3.5 3.5 3.5 3.5]]\n"
     ]
    },
    {
     "data": {
      "text/plain": "array([[1., 0., 0., 0.],\n       [0., 1., 0., 0.],\n       [0., 0., 1., 0.],\n       [0., 0., 0., 1.]])"
     },
     "execution_count": 27,
     "metadata": {},
     "output_type": "execute_result"
    }
   ]
  },
  {
   "cell_type": "markdown",
   "metadata": {
    "id": "oUtrPxf4Egf8"
   },
   "source": [
    "<font color='green'>**Fin actividad 1**</font>"
   ]
  },
  {
   "cell_type": "markdown",
   "metadata": {
    "id": "g_nOdgNK9i-B"
   },
   "source": [
    "## <font color='blue'>**Operaciones con matrices**</font>"
   ]
  },
  {
   "cell_type": "markdown",
   "metadata": {
    "id": "WlXAmLx39i-B"
   },
   "source": [
    "Las operaciones básicas son simples con NumPy. Una vez que ha creado sus matrices, puede comenzar a trabajar con ellas. Por ejemplo, se han creado dos matrices, una llamada *a* y otra llamada *b*."
   ]
  },
  {
   "cell_type": "code",
   "metadata": {
    "id": "HxocIoQy9i-C",
    "ExecuteTime": {
     "end_time": "2023-09-13T22:39:10.896513800Z",
     "start_time": "2023-09-13T22:39:10.883515100Z"
    }
   },
   "source": [
    "a = np.array([1, 2, 3, 4, 5])\n",
    "b = np.array([10, 3, 6, 8, 1], dtype=int)\n",
    "a + b"
   ],
   "execution_count": 28,
   "outputs": [
    {
     "data": {
      "text/plain": "array([11,  5,  9, 12,  6])"
     },
     "execution_count": 28,
     "metadata": {},
     "output_type": "execute_result"
    }
   ]
  },
  {
   "cell_type": "markdown",
   "metadata": {
    "id": "K8Tj0qui9i-F"
   },
   "source": [
    "Si desea encontrar la suma de los elementos en una matriz, debe usar **sum()**. Esto funciona para matrices 1D, matrices 2D y matrices en dimensiones más altas."
   ]
  },
  {
   "cell_type": "code",
   "metadata": {
    "id": "LRzxmChM9i-G",
    "ExecuteTime": {
     "end_time": "2023-09-13T22:40:38.485543400Z",
     "start_time": "2023-09-13T22:40:38.471546400Z"
    }
   },
   "source": [
    "a = np.array([1, 2, 3, 4])\n",
    "a.sum()"
   ],
   "execution_count": 29,
   "outputs": [
    {
     "data": {
      "text/plain": "10"
     },
     "execution_count": 29,
     "metadata": {},
     "output_type": "execute_result"
    }
   ]
  },
  {
   "cell_type": "markdown",
   "metadata": {
    "id": "1xCGCtUO9i-J"
   },
   "source": [
    "Para realizar esta operación en más dimensiones, debe especificar el eje."
   ]
  },
  {
   "cell_type": "code",
   "metadata": {
    "id": "u6Bf7dod9i-J",
    "ExecuteTime": {
     "end_time": "2023-09-13T22:41:32.413343100Z",
     "start_time": "2023-09-13T22:41:32.403343Z"
    }
   },
   "source": [
    "b = np.array([[0, 1, 2], [3, 4, 5]])\n",
    "print(b)\n",
    "print()\n",
    "print(b.shape)"
   ],
   "execution_count": 30,
   "outputs": [
    {
     "name": "stdout",
     "output_type": "stream",
     "text": [
      "[[0 1 2]\n",
      " [3 4 5]]\n",
      "\n",
      "(2, 3)\n"
     ]
    }
   ]
  },
  {
   "cell_type": "markdown",
   "metadata": {
    "id": "T7UM_gFh9i-L"
   },
   "source": [
    "Para sumar por filas:"
   ]
  },
  {
   "cell_type": "code",
   "metadata": {
    "id": "BwxmS45y9i-M",
    "ExecuteTime": {
     "end_time": "2023-09-13T22:44:40.692710100Z",
     "start_time": "2023-09-13T22:44:40.658707100Z"
    }
   },
   "source": [
    "b.sum(axis=0)"
   ],
   "execution_count": 32,
   "outputs": [
    {
     "data": {
      "text/plain": "array([3, 5, 7])"
     },
     "execution_count": 32,
     "metadata": {},
     "output_type": "execute_result"
    }
   ]
  },
  {
   "cell_type": "markdown",
   "source": [
    "__IMPORTANTE__: Cuando establecemos `axis = 0`, la función en realidad suma las columnas. El resultado es una nueva matriz NumPy que contiene la suma de cada columna. ¿Por qué? ¿El eje 0 no se refiere a las filas?\n",
    "\n",
    "Esto confunde a muchos principiantes. El parámetro `axis` nos indica qué eje será colapsado (desaparece). Es decir, cuando definimos `axis=0`, `np.sum()`colapsa las filas de la matriz y calcula las sumas.\n",
    "\n",
    "\n",
    "<img src='https://drive.google.com/uc?export=view&id=1VYCaccao-3x7ePrUvM9TFUB4wyaxybxm' width=\"200\" align=\"center\" style=\"margin-right: 20px\">\n",
    "\n",
    "Entonces, cuando establecemos el `axis = 0`, no estamos sumando las filas. Cuando establecemos el `axis = 0`, estamos agregando los datos de modo que colapsamos las filas... colapsamos el eje 0.\n",
    "\n",
    "\n"
   ],
   "metadata": {
    "id": "QgQ3WcRMlkcv"
   }
  },
  {
   "cell_type": "markdown",
   "metadata": {
    "id": "laH3M_4a9i-O"
   },
   "source": [
    "Para sumar por columnas:"
   ]
  },
  {
   "cell_type": "code",
   "metadata": {
    "id": "LzVMKXl69i-O",
    "ExecuteTime": {
     "end_time": "2023-09-13T22:46:11.577711100Z",
     "start_time": "2023-09-13T22:46:11.552710300Z"
    }
   },
   "source": [
    "b.sum(axis=1)"
   ],
   "execution_count": 34,
   "outputs": [
    {
     "data": {
      "text/plain": "array([ 3, 12])"
     },
     "execution_count": 34,
     "metadata": {},
     "output_type": "execute_result"
    }
   ]
  },
  {
   "cell_type": "markdown",
   "source": [
    "Veamos qué ocurre cuando usamos `axis = 1`. Nuevamente, el parámetro `axis` establece el eje que se colapsa durante el proceso, en este caso, la suma.\n",
    "\n",
    "El eje `axis = 1` se refiere a la dirección horizontal a través de las columnas. Eso significa que el código `b.sum(axis = 1)` colapsa las columnas durante la suma.\n",
    "\n",
    "<img src='https://drive.google.com/uc?export=view&id=1uA5db6c9Jz2r30iA_9QOo1s75aSUEBiz' width=\"300\" align=\"center\" style=\"margin-right: 20px\">\n"
   ],
   "metadata": {
    "id": "McgWFRn9smP9"
   }
  },
  {
   "cell_type": "markdown",
   "metadata": {
    "id": "Uv-IndhV9i-Q"
   },
   "source": [
    "Sustracción:"
   ]
  },
  {
   "cell_type": "code",
   "metadata": {
    "id": "nYZRPFq89i-R",
    "ExecuteTime": {
     "end_time": "2023-09-13T22:47:02.119538300Z",
     "start_time": "2023-09-13T22:47:02.074536900Z"
    }
   },
   "source": [
    "a = np.array([1, 2, 3, 4, 5])\n",
    "b = np.array([10, 3, 6, 8, 1], dtype=int)\n",
    "a - b"
   ],
   "execution_count": 36,
   "outputs": [
    {
     "data": {
      "text/plain": "array([-9, -1, -3, -4,  4])"
     },
     "execution_count": 36,
     "metadata": {},
     "output_type": "execute_result"
    }
   ]
  },
  {
   "cell_type": "markdown",
   "metadata": {
    "id": "GtgehIq19i-U"
   },
   "source": [
    "Multiplicación por elementos:"
   ]
  },
  {
   "cell_type": "code",
   "metadata": {
    "id": "Ff-j_Bgc9i-U",
    "ExecuteTime": {
     "end_time": "2023-09-13T22:47:05.250482700Z",
     "start_time": "2023-09-13T22:47:05.236481800Z"
    }
   },
   "source": [
    "a = np.array( [[1,1],[2,1]] )\n",
    "b = np.array( [[2,4],[3,4]] )\n",
    "print(a)\n",
    "print(b)\n",
    "a * b"
   ],
   "execution_count": 37,
   "outputs": [
    {
     "name": "stdout",
     "output_type": "stream",
     "text": [
      "[[1 1]\n",
      " [2 1]]\n",
      "[[2 4]\n",
      " [3 4]]\n"
     ]
    },
    {
     "data": {
      "text/plain": "array([[2, 4],\n       [6, 4]])"
     },
     "execution_count": 37,
     "metadata": {},
     "output_type": "execute_result"
    }
   ]
  },
  {
   "cell_type": "markdown",
   "metadata": {
    "id": "McUdjGXP9i-W"
   },
   "source": [
    "Multiplicación de matrices: se puede realizar utilizando el operador `@` (en Python $\\ge$ 3.5) o la función o método `dot`:"
   ]
  },
  {
   "cell_type": "code",
   "metadata": {
    "id": "i7A1kmMK9i-X",
    "ExecuteTime": {
     "end_time": "2023-09-13T22:48:11.647672400Z",
     "start_time": "2023-09-13T22:48:11.633671500Z"
    }
   },
   "source": [
    "a @ b"
   ],
   "execution_count": 38,
   "outputs": [
    {
     "data": {
      "text/plain": "array([[ 5,  8],\n       [ 7, 12]])"
     },
     "execution_count": 38,
     "metadata": {},
     "output_type": "execute_result"
    }
   ]
  },
  {
   "cell_type": "code",
   "metadata": {
    "id": "yPSMwB6K9i-Z",
    "ExecuteTime": {
     "end_time": "2023-09-13T22:48:37.388641400Z",
     "start_time": "2023-09-13T22:48:37.378643500Z"
    }
   },
   "source": [
    "a.dot(b)"
   ],
   "execution_count": 39,
   "outputs": [
    {
     "data": {
      "text/plain": "array([[ 5,  8],\n       [ 7, 12]])"
     },
     "execution_count": 39,
     "metadata": {},
     "output_type": "execute_result"
    }
   ]
  },
  {
   "cell_type": "markdown",
   "metadata": {
    "id": "8G_rNcbh9i-b"
   },
   "source": [
    "División:"
   ]
  },
  {
   "cell_type": "code",
   "metadata": {
    "id": "9d3qqvfr9i-b",
    "ExecuteTime": {
     "end_time": "2023-09-13T22:49:51.129479Z",
     "start_time": "2023-09-13T22:49:51.101474700Z"
    }
   },
   "source": [
    "a / b"
   ],
   "execution_count": 43,
   "outputs": [
    {
     "name": "stderr",
     "output_type": "stream",
     "text": [
      "C:\\Users\\javie\\AppData\\Local\\Temp\\ipykernel_19404\\221305628.py:1: RuntimeWarning: divide by zero encountered in divide\n",
      "  a / b\n"
     ]
    },
    {
     "data": {
      "text/plain": "array([        inf, 30.        , 20.        , 16.66666667])"
     },
     "execution_count": 43,
     "metadata": {},
     "output_type": "execute_result"
    }
   ]
  },
  {
   "cell_type": "markdown",
   "metadata": {
    "id": "gwP_iXaS9i-f"
   },
   "source": [
    "Otras operaciones:"
   ]
  },
  {
   "cell_type": "code",
   "metadata": {
    "id": "21fm6z5T9i-g",
    "ExecuteTime": {
     "end_time": "2023-09-13T22:57:47.030222Z",
     "start_time": "2023-09-13T22:57:47.023226700Z"
    }
   },
   "source": [
    "a = np.array([20,30,40,50])\n",
    "b = np.arange(4)\n",
    "print(a)\n",
    "print(b)\n",
    "# Elevar a una potencia\n",
    "c = b**2\n",
    "print(c)\n",
    "print()\n",
    "# Función seno\n",
    "c = 10 * np.sin(a)\n",
    "print(c)\n",
    "print()\n",
    "# Funciones lógicas\n",
    "c = a < 35\n",
    "print(c)"
   ],
   "execution_count": 49,
   "outputs": [
    {
     "name": "stdout",
     "output_type": "stream",
     "text": [
      "[20 30 40 50]\n",
      "[0 1 2 3]\n",
      "[0 1 4 9]\n",
      "\n",
      "[ 9.12945251 -9.88031624  7.4511316  -2.62374854]\n",
      "\n",
      "[ True  True False False]\n"
     ]
    }
   ]
  },
  {
   "cell_type": "code",
   "metadata": {
    "id": "g9NUMzUu9i-i",
    "ExecuteTime": {
     "end_time": "2023-09-13T22:57:50.524173600Z",
     "start_time": "2023-09-13T22:57:50.517176500Z"
    }
   },
   "source": [
    "a = np.array([[0.45053314, 0.17296777, 0.34376245, 0.5510652],\n",
    "              [0.54627315, 0.05093587, 0.40067661, 0.55645993],\n",
    "              [0.12697628, 0.82485143, 0.26590556, 0.56917101]])\n",
    "# Mínimo\n",
    "b = a.min()\n",
    "print(b)\n",
    "print()\n",
    "# Máximo\n",
    "b = a.max()\n",
    "print(b)\n",
    "print()\n",
    "# Máximo por columna\n",
    "b = a.max(axis=1)\n",
    "print(b)\n",
    "print()\n",
    "# Media\n",
    "b = a.mean()\n",
    "print(b)\n",
    "print()\n",
    "# Desviación estándar\n",
    "b = a.std()\n",
    "print(b)\n",
    "print()"
   ],
   "execution_count": 50,
   "outputs": [
    {
     "name": "stdout",
     "output_type": "stream",
     "text": [
      "0.05093587\n",
      "\n",
      "0.82485143\n",
      "\n",
      "[0.5510652  0.55645993 0.82485143]\n",
      "\n",
      "0.4049648666666667\n",
      "\n",
      "0.21392120766089617\n",
      "\n"
     ]
    }
   ]
  },
  {
   "cell_type": "markdown",
   "metadata": {
    "id": "Mdq6eKDV9i-k"
   },
   "source": [
    "NumPy contiene una batería de operaciones sobre matrices: aritméticas, operaciones binarias, estadísticas, funciones, entre otras. Para más información, vea la [guía de uso rápido de Numpy](https://numpy.org/devdocs/user/quickstart.html#the-basics)."
   ]
  },
  {
   "cell_type": "markdown",
   "metadata": {
    "id": "XH4yPaVs9i-l"
   },
   "source": [
    "La generación de números aleatorios es una parte importante en la configuración y evaluación de muchos algoritmos de aprendizaje automático. Ya sea que necesite inicializar pesos aleatoriamente en una red neuronal artificial, dividir datos en conjuntos aleatorios o mezclar aleatoriamente su conjunto de datos, es esencial poder generar números aleatorios (en realidad, números pseudoaleatorios repetibles).\n",
    "\n",
    "Con la clase `Generator`de Numpy, puede acceder a una amplia gama de métodos para generar números aleatorios. Vemos un ejemplo para generar una matriz de 2 x 4 de números enteros aleatorios entre 0 y 4:"
   ]
  },
  {
   "cell_type": "code",
   "source": [
    "# De esta forma creamos el generador con el BitGenerator por defecto (PCG64)\n",
    "np.random.default_rng()"
   ],
   "metadata": {
    "id": "0mA1Tqc1v3HZ",
    "ExecuteTime": {
     "end_time": "2023-09-13T22:57:55.821311300Z",
     "start_time": "2023-09-13T22:57:55.810314200Z"
    }
   },
   "execution_count": 51,
   "outputs": [
    {
     "data": {
      "text/plain": "Generator(PCG64) at 0x2A365AFB820"
     },
     "execution_count": 51,
     "metadata": {},
     "output_type": "execute_result"
    }
   ]
  },
  {
   "cell_type": "code",
   "metadata": {
    "id": "hUjpDnCX9i-l",
    "ExecuteTime": {
     "end_time": "2023-09-13T22:59:16.361631600Z",
     "start_time": "2023-09-13T22:59:16.350634Z"
    }
   },
   "source": [
    "# Instanciamos el generador \n",
    "rng = np.random.default_rng()\n",
    "\n",
    "# Creamos un arreglo de números aleatorios entre 0 y 4 de tamaño 2x4\n",
    "rng.integers(5, size=(2, 4))"
   ],
   "execution_count": 53,
   "outputs": [
    {
     "data": {
      "text/plain": "array([[2, 0, 2, 2],\n       [0, 2, 2, 4]], dtype=int64)"
     },
     "execution_count": 53,
     "metadata": {},
     "output_type": "execute_result"
    }
   ]
  },
  {
   "cell_type": "markdown",
   "metadata": {
    "id": "nkd6vN-D9i-n"
   },
   "source": [
    "Veamos otro ejemplo:"
   ]
  },
  {
   "cell_type": "code",
   "metadata": {
    "id": "K2MbMEIP9i-o",
    "ExecuteTime": {
     "end_time": "2023-09-13T23:00:48.518008900Z",
     "start_time": "2023-09-13T23:00:48.503006100Z"
    }
   },
   "source": [
    "rng = np.random.default_rng(0)\n",
    "rng.random(3)"
   ],
   "execution_count": 54,
   "outputs": [
    {
     "data": {
      "text/plain": "array([0.63696169, 0.26978671, 0.04097352])"
     },
     "execution_count": 54,
     "metadata": {},
     "output_type": "execute_result"
    }
   ]
  },
  {
   "cell_type": "markdown",
   "metadata": {
    "id": "GBjkeafT9i-q"
   },
   "source": [
    "Algunas operaciones, como `+=` y `*=`, actúan para modificar una matriz existente en lugar de crear una nueva."
   ]
  },
  {
   "cell_type": "code",
   "metadata": {
    "id": "CNoOGEI49i-r",
    "ExecuteTime": {
     "end_time": "2023-09-13T23:03:02.622854700Z",
     "start_time": "2023-09-13T23:03:02.613856400Z"
    }
   },
   "source": [
    "rg = np.random.default_rng(1)\n",
    "a = np.ones((2,3), dtype=int)\n",
    "b = rg.random((2,3))\n",
    "a *= 3\n",
    "print(a)\n",
    "print()\n",
    "b += a\n",
    "print(b)"
   ],
   "execution_count": 55,
   "outputs": [
    {
     "name": "stdout",
     "output_type": "stream",
     "text": [
      "[[3 3 3]\n",
      " [3 3 3]]\n",
      "\n",
      "[[3.51182162 3.9504637  3.14415961]\n",
      " [3.94864945 3.31183145 3.42332645]]\n"
     ]
    }
   ]
  },
  {
   "cell_type": "markdown",
   "metadata": {
    "id": "ZReAA7mO9i-v"
   },
   "source": [
    "Es posible realizar una operación entre una matriz y un solo número (operación entre un vector y un escalar) o entre matrices de dos tamaños diferentes. Por ejemplo:"
   ]
  },
  {
   "cell_type": "code",
   "metadata": {
    "id": "ppjf7CNG9i-v",
    "ExecuteTime": {
     "end_time": "2023-09-13T23:07:30.732024200Z",
     "start_time": "2023-09-13T23:07:30.693023Z"
    }
   },
   "source": [
    "distancia_millas = np.array([1.0, 2.0])\n",
    "distancia_km = distancia_millas * 1.6\n",
    "print(distancia_km)"
   ],
   "execution_count": 59,
   "outputs": [
    {
     "name": "stdout",
     "output_type": "stream",
     "text": [
      "[1.6 3.2]\n"
     ]
    }
   ]
  },
  {
   "cell_type": "markdown",
   "metadata": {
    "id": "130dOJNT9i-z"
   },
   "source": [
    "## <font color='green'>**Actividad 2**</font>"
   ]
  },
  {
   "cell_type": "markdown",
   "metadata": {
    "id": "uPq-IqNu9i-0"
   },
   "source": [
    "1. Crear una matriz de dos dimensiones en que una dimensión represente el sexo y la otra la edad de los integrantes del grupo. Luego, convertir la dimensión edad en años a la edad en meses.\n",
    "1. Generar una matriz de 7 por 9. Las primeras 3 columnas de la matriz tienen que tener el valor 0. La cuarta columna debe tener el valor 0.5, excepto por el último valor de esa columna, que tiene que ser 0.7. Las otras cinco columnas deben tener el valor 1."
   ]
  },
  {
   "cell_type": "code",
   "metadata": {
    "id": "FC6uMh9G9i-1",
    "ExecuteTime": {
     "end_time": "2023-09-13T23:32:15.376248300Z",
     "start_time": "2023-09-13T23:32:15.344247100Z"
    }
   },
   "source": [
    "# Tu código aquí ...\n",
    "matriz = np.array([[0,0,1,1,1,1],\n",
    "                  [43, 33, 30,34,34,29]])\n",
    "print(matriz)"
   ],
   "execution_count": 71,
   "outputs": [
    {
     "name": "stdout",
     "output_type": "stream",
     "text": [
      "[[ 0  0  1  1  1  1]\n",
      " [43 33 30 34 34 29]]\n"
     ]
    }
   ]
  },
  {
   "cell_type": "markdown",
   "metadata": {
    "id": "s2SBgyDBkVbb"
   },
   "source": [
    "<font color='green'>**Fin actividad 2**</font>"
   ]
  }
 ]
}
