{
 "nbformat": 4,
 "nbformat_minor": 0,
 "metadata": {
  "colab": {
   "provenance": [],
   "collapsed_sections": []
  },
  "kernelspec": {
   "display_name": "Python 3 (ipykernel)",
   "language": "python",
   "name": "python3"
  },
  "language_info": {
   "codemirror_mode": {
    "name": "ipython",
    "version": 3
   },
   "file_extension": ".py",
   "mimetype": "text/x-python",
   "name": "python",
   "nbconvert_exporter": "python",
   "pygments_lexer": "ipython3",
   "version": "3.8.11"
  }
 },
 "cells": [
  {
   "cell_type": "markdown",
   "metadata": {
    "id": "xWabdib-HUnO"
   },
   "source": [
    "# **Obtención y preparación de datos**\n",
    "# OD04. Operaciones con Array"
   ]
  },
  {
   "cell_type": "code",
   "metadata": {
    "id": "A_eEjYSwH5pD",
    "ExecuteTime": {
     "end_time": "2023-09-13T23:53:02.667388500Z",
     "start_time": "2023-09-13T23:53:02.661388800Z"
    }
   },
   "source": [
    "import numpy as np"
   ],
   "execution_count": 2,
   "outputs": []
  },
  {
   "cell_type": "markdown",
   "metadata": {
    "id": "jf4brU719i-4"
   },
   "source": [
    "## <font color='blue'>**Ordenar y agregar elementos a una matriz**</font>"
   ]
  },
  {
   "cell_type": "markdown",
   "metadata": {
    "id": "Quy7OtbJ9i-5"
   },
   "source": [
    "Ordenar un elemento es simple con `np.sort()`. Puede especificar el eje, el tipo y el orden cuando llama a la función."
   ]
  },
  {
   "cell_type": "code",
   "metadata": {
    "id": "qtNqi_-59i-5",
    "ExecuteTime": {
     "end_time": "2023-09-14T00:00:07.278074Z",
     "start_time": "2023-09-14T00:00:07.266074300Z"
    }
   },
   "source": [
    "arr = np.array([2, 1, 5, 10, 3, 7, 4, 9, 6, 8])\n",
    "np.sort(arr)"
   ],
   "execution_count": 4,
   "outputs": [
    {
     "data": {
      "text/plain": "array([ 1,  2,  3,  4,  5,  6,  7,  8,  9, 10])"
     },
     "execution_count": 4,
     "metadata": {},
     "output_type": "execute_result"
    }
   ]
  },
  {
   "cell_type": "code",
   "metadata": {
    "id": "PwDn9BPJ9i-7",
    "ExecuteTime": {
     "end_time": "2023-09-14T00:01:29.132411700Z",
     "start_time": "2023-09-14T00:01:29.102405600Z"
    }
   },
   "source": [
    "a = np.array([1, 2, 3, 4])\n",
    "b = np.array([5, 6, 7, 8])\n",
    "a.shape"
   ],
   "execution_count": 6,
   "outputs": [
    {
     "data": {
      "text/plain": "(4,)"
     },
     "execution_count": 6,
     "metadata": {},
     "output_type": "execute_result"
    }
   ]
  },
  {
   "cell_type": "markdown",
   "metadata": {
    "id": "p878Vbef9i-9"
   },
   "source": [
    "Para agregar elementos, se utiliza la función `np.concatenate()`:"
   ]
  },
  {
   "cell_type": "code",
   "metadata": {
    "id": "iW5VWwJ19i-9",
    "ExecuteTime": {
     "end_time": "2023-09-14T00:01:39.192580Z",
     "start_time": "2023-09-14T00:01:39.176580700Z"
    }
   },
   "source": [
    "c = np.concatenate((a, b))\n",
    "print(c.shape)\n",
    "c"
   ],
   "execution_count": 7,
   "outputs": [
    {
     "name": "stdout",
     "output_type": "stream",
     "text": [
      "(8,)\n"
     ]
    },
    {
     "data": {
      "text/plain": "array([1, 2, 3, 4, 5, 6, 7, 8])"
     },
     "execution_count": 7,
     "metadata": {},
     "output_type": "execute_result"
    }
   ]
  },
  {
   "cell_type": "code",
   "metadata": {
    "id": "qXlQp9JvbLEC"
   },
   "source": [
    "x = np.array([[1, 2], [3, 4]])\n",
    "y = np.array([[5, 6]])"
   ],
   "execution_count": null,
   "outputs": []
  },
  {
   "cell_type": "code",
   "metadata": {
    "id": "N9h2zs7B9i_B"
   },
   "source": [
    "print(x)\n",
    "print()\n",
    "print(y)\n",
    "print()\n",
    "np.concatenate((x, y), axis=0)"
   ],
   "execution_count": null,
   "outputs": []
  },
  {
   "cell_type": "markdown",
   "metadata": {
    "id": "BQEeQ4PZ9i_F"
   },
   "source": [
    "## <font color='blue'>**Forma y Tamaño de una matriz**</font>"
   ]
  },
  {
   "cell_type": "markdown",
   "metadata": {
    "id": "N9cFOb179i_F"
   },
   "source": [
    "`ndarray.ndim` entrega el número de ejes, o dimensiones, de la matriz.\n",
    "\n",
    "`ndarray.size` entrega el número total de elementos de la matriz.\n",
    "\n",
    "`ndarray.shape` entrega una tupla de números enteros que indican el número de elementos almacenados a lo largo de cada dimensión de la matriz. Si, por ejemplo, tiene una matriz 2D con 2 filas y 3 columnas, la forma de su matriz es (2, 3).\n",
    "\n",
    "Por ejemplo:"
   ]
  },
  {
   "cell_type": "code",
   "metadata": {
    "id": "V4yq-UqC9i_G"
   },
   "source": [
    "arr_ejemplo = np.array([[[0, 1, 2, 3],[4, 5, 6, 7]],\n",
    "                        [[0, 1, 2, 3],[4, 5, 6, 7]],\n",
    "                        [[0 ,1 ,2, 3],[4, 5, 6, 7]]])"
   ],
   "execution_count": null,
   "outputs": []
  },
  {
   "cell_type": "code",
   "metadata": {
    "id": "GGva_cNq9i_I"
   },
   "source": [
    "arr_ejemplo.ndim"
   ],
   "execution_count": null,
   "outputs": []
  },
  {
   "cell_type": "code",
   "metadata": {
    "id": "Bqxh400H9i_L"
   },
   "source": [
    "arr_ejemplo.size"
   ],
   "execution_count": null,
   "outputs": []
  },
  {
   "cell_type": "code",
   "metadata": {
    "id": "ySotF0Ok9i_P"
   },
   "source": [
    "arr_ejemplo.shape"
   ],
   "execution_count": null,
   "outputs": []
  },
  {
   "cell_type": "markdown",
   "metadata": {
    "id": "T7r1a_cF9i_V"
   },
   "source": [
    "## <font color='blue'>**Redimensionamiento de matrices**</font>"
   ]
  },
  {
   "cell_type": "markdown",
   "metadata": {
    "id": "IFn5Mpyf9i_V"
   },
   "source": [
    "El método de `reshape()` le dará una nueva forma a una matriz sin cambiar los datos. Recuerde que cuando usa el método de redimensionamiento, la matriz que desea generar debe tener la misma cantidad de elementos que la matriz original. Si comienza con una matriz con 12 elementos, deberá asegurarse de que su nueva matriz también tenga un total de 12 elementos."
   ]
  },
  {
   "cell_type": "code",
   "metadata": {
    "id": "LIpNN-Md9i_W"
   },
   "source": [
    "a = np.arange(6)\n",
    "print(a)"
   ],
   "execution_count": null,
   "outputs": []
  },
  {
   "cell_type": "code",
   "metadata": {
    "id": "kSCqLbgj9i_Y"
   },
   "source": [
    "b = a.reshape(3, 2)\n",
    "print(b)"
   ],
   "execution_count": null,
   "outputs": []
  },
  {
   "cell_type": "markdown",
   "metadata": {
    "id": "oqqmNBdB9i_c"
   },
   "source": [
    "## <font color='blue'>**Transponer una matriz**</font>"
   ]
  },
  {
   "cell_type": "code",
   "metadata": {
    "id": "fBwj39dT9i_d"
   },
   "source": [
    "arr = np.arange(6).reshape((2, 3))\n",
    "arr"
   ],
   "execution_count": null,
   "outputs": []
  },
  {
   "cell_type": "code",
   "metadata": {
    "id": "OSgt5cEf9i_g"
   },
   "source": [
    "arr.transpose()"
   ],
   "execution_count": null,
   "outputs": []
  },
  {
   "cell_type": "markdown",
   "metadata": {
    "id": "4iCDRwg_9i_j"
   },
   "source": [
    "## <font color='blue'>**¿Cómo agregar nuevos ejes (dimensiones) a una matriz?**</font>\n",
    "\n",
    "Con las funcionaes `np.newaxis` y `np.expand_dims` se puede aumentar las dimensiones de su matriz existente.\n",
    "\n",
    "El uso de `np.newaxis` aumentará las dimensiones de su matriz en una dimensión cuando se use una vez. Esto significa que una matriz 1D se convertirá en una matriz 2D, una matriz 2D se convertirá en una matriz 3D, y así sucesivamente. Por ejemplo:"
   ]
  },
  {
   "cell_type": "code",
   "metadata": {
    "id": "UPW2-hlN9i_j"
   },
   "source": [
    "a = np.array([1, 2, 3, 4, 5, 6, 7])\n",
    "print(a)\n",
    "a.shape"
   ],
   "execution_count": null,
   "outputs": []
  },
  {
   "cell_type": "code",
   "metadata": {
    "id": "WugE0vgM9i_l"
   },
   "source": [
    "a2 = a[np.newaxis, :]\n",
    "print(a2)\n",
    "a2.shape"
   ],
   "execution_count": null,
   "outputs": []
  },
  {
   "cell_type": "markdown",
   "metadata": {
    "id": "zoq8FHQU9i_m"
   },
   "source": [
    "Es posible convertir explícitamente una matriz 1D a un vector de fila o a un vector de columna usando `np.newaxis`. Por ejemplo, puede convertir una matriz 1D en un vector de fila insertando un eje a lo largo de la primera dimensión:"
   ]
  },
  {
   "cell_type": "code",
   "metadata": {
    "id": "4Nt1J8JM9i_n"
   },
   "source": [
    "row_vector = a[np.newaxis, :]\n",
    "print(row_vector)\n",
    "row_vector.shape"
   ],
   "execution_count": null,
   "outputs": []
  },
  {
   "cell_type": "markdown",
   "metadata": {
    "id": "CQVjfd659i_p"
   },
   "source": [
    "o convertirlo en un vector columna, insertando un eje en la segunda dimensión:"
   ]
  },
  {
   "cell_type": "code",
   "metadata": {
    "id": "kn_qV_BK9i_q"
   },
   "source": [
    "col_vector = a[:, np.newaxis]\n",
    "print(col_vector)\n",
    "col_vector.shape"
   ],
   "execution_count": null,
   "outputs": []
  },
  {
   "cell_type": "markdown",
   "metadata": {
    "id": "TxN1GYoG9i_v"
   },
   "source": [
    "También es posible expandir una matriz insertando un nuevo eje en una posición específica con la función `np.expand_dims()`:"
   ]
  },
  {
   "cell_type": "code",
   "metadata": {
    "id": "0NIxWD4e9i_v"
   },
   "source": [
    "a = np.array([1, 2, 3, 4, 5, 6])\n",
    "a.shape"
   ],
   "execution_count": null,
   "outputs": []
  },
  {
   "cell_type": "code",
   "metadata": {
    "id": "-sZmcKZ69i_x"
   },
   "source": [
    "b = np.expand_dims(a, axis=1)\n",
    "print(b.shape)\n",
    "b"
   ],
   "execution_count": null,
   "outputs": []
  },
  {
   "cell_type": "code",
   "metadata": {
    "id": "VUL1Mhf_9i_z"
   },
   "source": [
    "c = np.expand_dims(a, axis=0)\n",
    "print(c.shape)\n",
    "c"
   ],
   "execution_count": null,
   "outputs": []
  },
  {
   "cell_type": "markdown",
   "metadata": {
    "id": "r6VHpJTJ9i__"
   },
   "source": [
    "## <font color='green'>**Actividad 1**</font>"
   ]
  },
  {
   "cell_type": "markdown",
   "metadata": {
    "id": "G-Q9SVlemfnj"
   },
   "source": [
    "Crear un matriz bidimensional _A_ de 5x5 con todos los valores cero. Usando el indexado de matrices, asignar 1 a todos los elementos de la última fila y 5 a todos los elementos de la primera columna. Finalmente, asignar el valor 100 a todos los elementos de la submatriz central de 3x3 de la matriz de 5x5.\n"
   ]
  },
  {
   "cell_type": "code",
   "metadata": {
    "id": "p4kwdZ3e9jAA"
   },
   "source": [
    "# Tu código aquí ...\n"
   ],
   "execution_count": null,
   "outputs": []
  },
  {
   "cell_type": "markdown",
   "metadata": {
    "id": "6H_2sJOAlIxb"
   },
   "source": [
    "<font color='green'>**Fin actividad 1**</font>"
   ]
  },
  {
   "cell_type": "markdown",
   "metadata": {
    "id": "_e8g5UfV9i_0"
   },
   "source": [
    "## <font color='blue'>**Elementos únicos y conteo**</font>"
   ]
  },
  {
   "cell_type": "code",
   "metadata": {
    "id": "RTHmOAUF9i_1"
   },
   "source": [
    "a = np.array([11, 11, 12, 13, 14, 15, 16, 17, 12, 13, 11, 14, 18, 19, 20])\n",
    "valores_unicos = np.unique(a)\n",
    "print(valores_unicos)"
   ],
   "execution_count": null,
   "outputs": []
  },
  {
   "cell_type": "markdown",
   "metadata": {
    "id": "vZvwSZ909i_2"
   },
   "source": [
    "Para obtener los índices de los valores únicos en una matriz NumPy se debe usar el argumento `return_index` en la función `np.unique()`:"
   ]
  },
  {
   "cell_type": "code",
   "metadata": {
    "id": "obLjqFcT9i_2"
   },
   "source": [
    "valores_unicos, indices_list = np.unique(a, return_index=True)\n",
    "print(indices_list)"
   ],
   "execution_count": null,
   "outputs": []
  },
  {
   "cell_type": "markdown",
   "metadata": {
    "id": "5bFvnWl19i_4"
   },
   "source": [
    "Puede pasar el argumento `return_counts` en `np.unique()` junto con su matriz para obtener el recuento de frecuencia de valores únicos en una matriz de NumPy:"
   ]
  },
  {
   "cell_type": "code",
   "metadata": {
    "id": "uUFTEObX9i_4"
   },
   "source": [
    "valores_unicos, contar_ocurrencia = np.unique(a, return_counts=True)\n",
    "print(contar_ocurrencia)"
   ],
   "execution_count": null,
   "outputs": []
  },
  {
   "cell_type": "markdown",
   "metadata": {
    "id": "4Ty1Um1A9i_5"
   },
   "source": [
    "## <font color='blue'>**Aplicar una función sobre una fila o columna de una matriz**</font>"
   ]
  },
  {
   "cell_type": "markdown",
   "metadata": {
    "id": "IHfReGgY9i_6"
   },
   "source": [
    "La función `np.apply_along_axis()` permite aplicar una función sobre una de las dimisiones de un matriz. Por lo que es una herramienta con muchas posibilidades. La función tiene tres parámetros, en el primero se indica la función que se desea aplicar, en la segunda el eje sobre el que se desea aplicar la función y finalmente la matriz. Obteniéndose como salida de la función una matriz con un eje menos que el original.\n",
    "\n",
    "Por ejemplo:"
   ]
  },
  {
   "cell_type": "code",
   "metadata": {
    "id": "YTWxxC5G9i_6"
   },
   "source": [
    "arr = np.arange(1, 10).reshape(3,3)\n",
    "print(arr)\n",
    "np.apply_along_axis(sum, 0, arr)"
   ],
   "execution_count": null,
   "outputs": []
  },
  {
   "cell_type": "code",
   "metadata": {
    "id": "8Fm_rbdN9i_7"
   },
   "source": [
    "# Función que calcula el promedio entre el primero y el último elemento de un vector\n",
    "def my_func(a):\n",
    "    return (a[0] + a[-1]) * 0.5\n",
    "\n",
    "b = np.array([[1,2,3], [4,5,6], [7,8,9]])\n",
    "print(b)\n",
    "np.apply_along_axis(my_func, 0, b)"
   ],
   "execution_count": null,
   "outputs": []
  },
  {
   "cell_type": "code",
   "metadata": {
    "id": "iL-0nQTB9i_-"
   },
   "source": [
    "np.apply_along_axis(my_func, 1, b)"
   ],
   "execution_count": null,
   "outputs": []
  },
  {
   "cell_type": "markdown",
   "metadata": {
    "id": "x2JVn3iUmaMC"
   },
   "source": [
    "## <font color='green'>**Actividad 2**</font>"
   ]
  },
  {
   "cell_type": "markdown",
   "metadata": {
    "id": "Dl6EyB0Q9jAA"
   },
   "source": [
    "Los diámetros de las esporas del _lycopodium_ pueden medirse por métodos interferométricos &#129299; &#129299; &#129299;. Los resultados de uno de estos experimentos son los siguientes:\n",
    "\n",
    "<img src='https://drive.google.com/uc?export=view&id=1te4LaaTF_WzyjPShqDOMnP9qDiswwZGG' width=\"600\" align=\"center\" style=\"margin-right: 50px\">\n",
    "\n",
    "donde $k$ = 5880.\n",
    "\n",
    "Calcular, usando funciones de NumPy, el diámetro medio de las esporas y la desviación estándar de la muestra. Separar, en matrices independientes, las medidas de los diámetros:\n",
    "\n",
    "* Que tengan valores inferiores a la media ($\\mu$) menos la desviación estándar ($\\sigma$), es decir $d < \\mu_{d} - \\sigma_{d}$\n",
    "* Que tengan valores superiores a la media más la desviación estándar, es decir $d > \\mu_{d} + \\sigma_{d}$\n",
    "* Que tengan valores entre $\\mu_{d} - \\sigma_{d} < d < \\mu_{d} + \\sigma_{d}$\n",
    "\n",
    "*Fuente: Adaptado de Curso de Computación Científica, J. Pérez, T. Roca y C. López*"
   ]
  },
  {
   "cell_type": "code",
   "metadata": {
    "id": "3e-cfJ6zmjiH"
   },
   "source": [
    "# Tu código aquí ...\n"
   ],
   "execution_count": null,
   "outputs": []
  },
  {
   "cell_type": "markdown",
   "metadata": {
    "id": "B6jnUlWvmmjJ"
   },
   "source": [
    "<font color='green'>**Fin actividad 2**</font>"
   ]
  }
 ]
}
