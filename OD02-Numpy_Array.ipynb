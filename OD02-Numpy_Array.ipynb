{
 "nbformat": 4,
 "nbformat_minor": 0,
 "metadata": {
  "colab": {
   "provenance": [],
   "collapsed_sections": []
  },
  "kernelspec": {
   "display_name": "Python 3 (ipykernel)",
   "language": "python",
   "name": "python3"
  },
  "language_info": {
   "codemirror_mode": {
    "name": "ipython",
    "version": 3
   },
   "file_extension": ".py",
   "mimetype": "text/x-python",
   "name": "python",
   "nbconvert_exporter": "python",
   "pygments_lexer": "ipython3",
   "version": "3.8.11"
  }
 },
 "cells": [
  {
   "cell_type": "markdown",
   "metadata": {
    "id": "VMvDkUomGtXP"
   },
   "source": [
    "# **Obtención y preparación de datos**\n",
    "# OD02. Numpy Array"
   ]
  },
  {
   "cell_type": "code",
   "metadata": {
    "id": "7YJnpZ5zHtqL",
    "ExecuteTime": {
     "end_time": "2023-09-08T23:20:19.088448700Z",
     "start_time": "2023-09-08T23:20:19.077448500Z"
    }
   },
   "source": [
    "import numpy as np"
   ],
   "execution_count": 15,
   "outputs": []
  },
  {
   "cell_type": "markdown",
   "metadata": {
    "id": "3t_jEFXa9i9N"
   },
   "source": [
    "### <font color='blue'>**¿Qué es un matriz?**</font>\n",
    "\n",
    "Una matriz (o arreglo) es la estructura de datos central de la biblioteca NumPy. Una matriz es una cuadrícula de valores y contiene información sobre los datos sin procesar, cómo ubicar un elemento y cómo interpretar un elemento. Tiene una cuadrícula de elementos que se pueden indexar de varias formas. Los elementos son todos del mismo tipo, denominados `array dtype`.\n",
    "\n",
    "<img src='https://drive.google.com/uc?export=view&id=1gzNzhv_B2Dcu5NzozSAXqmNp3zio6Mc1' width=\"500\" align=\"center\" style=\"margin-right: 20px\">\n",
    "\n",
    "**Nota: es posible referirse la estructura `ndarray` de NumPy de las siguientes formas: array, arreglo, y/o matriz.**\n",
    "\n",
    "Una matriz puede ser indexada por una tupla de enteros no negativos, por booleanos, por otra matriz o por enteros. El rango de la matriz es el número de dimensiones. La forma de la matriz es una tupla de números enteros que dan el tamaño de la matriz a lo largo de cada dimensión.\n",
    "\n",
    "Una forma en que podemos inicializar matrices NumPy es a partir de listas de Python, utilizando listas anidadas para datos bidimensionales o de mayor dimensión. Por ejemplo:\n"
   ]
  },
  {
   "cell_type": "code",
   "metadata": {
    "id": "X0foAkMz9i9O",
    "ExecuteTime": {
     "end_time": "2023-09-08T23:15:59.301685200Z",
     "start_time": "2023-09-08T23:15:59.281682300Z"
    }
   },
   "source": [
    "A = np.array([1, 2, 3, 4, 5])\n",
    "print(A)"
   ],
   "execution_count": 11,
   "outputs": [
    {
     "name": "stdout",
     "output_type": "stream",
     "text": [
      "[1 2 3 4 5]\n"
     ]
    }
   ]
  },
  {
   "cell_type": "markdown",
   "metadata": {
    "id": "rMAX7IFM9i9Q"
   },
   "source": [
    "o"
   ]
  },
  {
   "cell_type": "code",
   "metadata": {
    "id": "NJm3BodP9i9R",
    "ExecuteTime": {
     "end_time": "2023-09-08T23:20:15.002373800Z",
     "start_time": "2023-09-08T23:20:14.981373Z"
    }
   },
   "source": [
    "A = np.array([[1, 2, 3], [7, 8, 9], [13, 14, 15], [19, 20, 21]])\n",
    "print(A)"
   ],
   "execution_count": 14,
   "outputs": [
    {
     "name": "stdout",
     "output_type": "stream",
     "text": [
      "[[ 1  2  3]\n",
      " [ 7  8  9]\n",
      " [13 14 15]\n",
      " [19 20 21]]\n"
     ]
    }
   ]
  },
  {
   "cell_type": "markdown",
   "metadata": {
    "id": "hj82Bba09i9U"
   },
   "source": [
    "Podemos acceder a los elementos de la matriz utilizando **corchetes**. Cuando acceda a los elementos de la matriz, recuerde que la **indexación en NumPy comienza en 0**. Eso significa que si desea acceder al primer elemento de su matriz, estará accediendo al elemento \"0\".\n",
    "\n",
    "<img src='https://drive.google.com/uc?export=view&id=18qtkEag596pYiUWuULj1f88v4L-1DEnq' width=\"500\" align=\"center\" style=\"margin-right: 20px\">"
   ]
  },
  {
   "cell_type": "code",
   "metadata": {
    "id": "uwxJsaQZ9i9V",
    "ExecuteTime": {
     "end_time": "2023-09-08T23:15:06.276257200Z",
     "start_time": "2023-09-08T23:15:06.265256400Z"
    }
   },
   "source": [
    "print(A[:,2])"
   ],
   "execution_count": 8,
   "outputs": [
    {
     "name": "stdout",
     "output_type": "stream",
     "text": [
      "[ 3  9 15 21]\n"
     ]
    }
   ]
  },
  {
   "cell_type": "code",
   "metadata": {
    "id": "xFU1P_OV9i9X",
    "ExecuteTime": {
     "end_time": "2023-09-08T23:20:55.042112Z",
     "start_time": "2023-09-08T23:20:55.032110200Z"
    }
   },
   "source": [
    "print(A[2,1])"
   ],
   "execution_count": 17,
   "outputs": [
    {
     "name": "stdout",
     "output_type": "stream",
     "text": [
      "14\n"
     ]
    }
   ]
  },
  {
   "cell_type": "markdown",
   "metadata": {
    "id": "ugHhWBvq9i9a"
   },
   "source": [
    "Una matriz N-dimensional es una matriz con cualquier número de dimensiones. También puede encontrar matrices 1D o matriz unidimensional, 2D o matriz bidimensional, etc.\n",
    "\n",
    "La clase `ndarray` de NumPy se utiliza para representar tanto matrices como vectores. Un vector es una matriz con una sola dimensión (no hay diferencia entre los vectores de fila y columna), mientras que una matriz se refiere a una matriz con dos dimensiones. Para matrices tridimensionales o superiores, el término tensor también se usa comúnmente.\n",
    "\n",
    "#### <font color='blue'>**¿Cuáles son los atributos de una matriz?**</font>\n",
    "\n",
    "Una matriz suele ser un contenedor de tamaño fijo de elementos del mismo tipo y tamaño. El número de dimensiones y elementos de una matriz se define por su forma. La forma de una matriz es una tupla de números enteros no negativos que especifican los tamaños de cada dimensión.\n",
    "\n",
    "En NumPy, las dimensiones se llaman ejes. Esto significa que si tiene una matriz 2D que se ve así:"
   ]
  },
  {
   "cell_type": "code",
   "metadata": {
    "id": "tkLAEqhY9i9a",
    "ExecuteTime": {
     "end_time": "2023-09-08T23:33:35.591950600Z",
     "start_time": "2023-09-08T23:33:35.583952100Z"
    }
   },
   "source": [
    "[[0., 0., 0.],\n",
    " [1., 1., 1.]]"
   ],
   "execution_count": 24,
   "outputs": [
    {
     "data": {
      "text/plain": "[[0.0, 0.0, 0.0], [1.0, 1.0, 1.0]]"
     },
     "execution_count": 24,
     "metadata": {},
     "output_type": "execute_result"
    }
   ]
  },
  {
   "cell_type": "markdown",
   "metadata": {
    "id": "rkM2yewO9i9c"
   },
   "source": [
    "Su matriz tiene 2 ejes. El primer eje tiene una longitud de 2 y el segundo eje tiene una longitud de 3.\n",
    "\n",
    "Al igual que en otros objetos contenedores de Python, se puede acceder y modificar el contenido de una matriz indexando o dividiendo (_slicing_) la matriz. A diferencia de los objetos contenedores típicos, diferentes matrices pueden compartir los mismos datos, por lo que los cambios realizados en una matriz pueden ser visibles en otra.\n",
    "\n",
    "Los atributos de la matriz reflejan información intrínseca a la propia matriz. Si necesita obtener, o incluso establecer, propiedades de una matriz sin crear una nueva matriz, a menudo puede acceder a una matriz a través de sus atributos. Para detalles y más información vea la documentación oficial de [ndarray](https://numpy.org/devdocs/reference/arrays.ndarray.html#arrays-ndarray). "
   ]
  },
  {
   "cell_type": "markdown",
   "metadata": {
    "id": "HrybO6-B9i9d"
   },
   "source": [
    "## <font color='green'>**Actividad 1**</font>"
   ]
  },
  {
   "cell_type": "markdown",
   "metadata": {
    "id": "rhMrjXbM9i9d"
   },
   "source": [
    "A partir de la matriz A definida anteriomente:\n",
    "\n",
    "```python\n",
    "A = np.array([[1, 2, 3], [7, 8, 9], [13, 14, 15], [19, 20, 21]])\n",
    "```\n",
    "\n",
    "1. Indicar el rango y la forma de la matriz _A_.\n",
    "1. Crear un vector *a1* que corresponda a la segunda columna de la matriz _A_.\n",
    "1. Crear una matriz *a2* que incluya los elementos de las filas 2 a 4 y de las columnas 2 a 3 de la matriz A.\n",
    "1. Crear un vector *a3* que contenga los elementos $A[0,0], A[1,2], A[0,1], A[3,2], A[2,2] y A[1,1]$\n",
    "1. Crear una matriz *a4* de 2x3 con las primeras dos filas.\n",
    "1. Crear una matriz *a5* que contenga la última y la primera fila de la matriz A."
   ]
  },
  {
   "cell_type": "code",
   "metadata": {
    "id": "4irU2lyT9i9e",
    "ExecuteTime": {
     "end_time": "2023-09-09T00:19:05.323639100Z",
     "start_time": "2023-09-09T00:19:05.273626100Z"
    }
   },
   "source": [
    "# Tu código aquí ...\n",
    "A = np.array([[1, 2, 3], [7, 8, 9], [13, 14, 15], [19, 20, 21]])\n",
    "len(A)\n",
    "A.shape\n",
    "forma = A.shape\n",
    "print(\"La forma de la matriz A es:\", forma)\n",
    "#2\n",
    "a1 =A[:,1]\n",
    "print(\"a1=\",a1)\n",
    "#3\n",
    "a2 =A[1:4, 1:3]\n",
    "print(\"a2=\",a2)\n",
    "#4\n",
    "A1=np.array((A[0,0], A[1,2], A[0,1], A[3,2], A[2,2], A[1,1]))\n",
    "print(\"A1\", A1)\n",
    "A2=A([0,1,0,3,2,1],[0,2,1,2,2,1])\n",
    "print(\"A2\", A2)"
   ],
   "execution_count": 39,
   "outputs": [
    {
     "name": "stdout",
     "output_type": "stream",
     "text": [
      "La forma de la matriz A es: (4, 3)\n",
      "a1= [ 2  8 14 20]\n",
      "a2= [[ 8  9]\n",
      " [14 15]\n",
      " [20 21]]\n",
      "A1 [ 1  9  2 21 15  8]\n"
     ]
    },
    {
     "ename": "TypeError",
     "evalue": "'numpy.ndarray' object is not callable",
     "output_type": "error",
     "traceback": [
      "\u001B[1;31m---------------------------------------------------------------------------\u001B[0m",
      "\u001B[1;31mTypeError\u001B[0m                                 Traceback (most recent call last)",
      "Cell \u001B[1;32mIn[39], line 16\u001B[0m\n\u001B[0;32m     14\u001B[0m A1\u001B[38;5;241m=\u001B[39mnp\u001B[38;5;241m.\u001B[39marray((A[\u001B[38;5;241m0\u001B[39m,\u001B[38;5;241m0\u001B[39m], A[\u001B[38;5;241m1\u001B[39m,\u001B[38;5;241m2\u001B[39m], A[\u001B[38;5;241m0\u001B[39m,\u001B[38;5;241m1\u001B[39m], A[\u001B[38;5;241m3\u001B[39m,\u001B[38;5;241m2\u001B[39m], A[\u001B[38;5;241m2\u001B[39m,\u001B[38;5;241m2\u001B[39m], A[\u001B[38;5;241m1\u001B[39m,\u001B[38;5;241m1\u001B[39m]))\n\u001B[0;32m     15\u001B[0m \u001B[38;5;28mprint\u001B[39m(\u001B[38;5;124m\"\u001B[39m\u001B[38;5;124mA1\u001B[39m\u001B[38;5;124m\"\u001B[39m, A1)\n\u001B[1;32m---> 16\u001B[0m A2\u001B[38;5;241m=\u001B[39m\u001B[43mA\u001B[49m\u001B[43m(\u001B[49m\u001B[43m[\u001B[49m\u001B[38;5;241;43m0\u001B[39;49m\u001B[43m,\u001B[49m\u001B[38;5;241;43m1\u001B[39;49m\u001B[43m,\u001B[49m\u001B[38;5;241;43m0\u001B[39;49m\u001B[43m,\u001B[49m\u001B[38;5;241;43m3\u001B[39;49m\u001B[43m,\u001B[49m\u001B[38;5;241;43m2\u001B[39;49m\u001B[43m,\u001B[49m\u001B[38;5;241;43m1\u001B[39;49m\u001B[43m]\u001B[49m\u001B[43m,\u001B[49m\u001B[43m[\u001B[49m\u001B[38;5;241;43m0\u001B[39;49m\u001B[43m,\u001B[49m\u001B[38;5;241;43m2\u001B[39;49m\u001B[43m,\u001B[49m\u001B[38;5;241;43m1\u001B[39;49m\u001B[43m,\u001B[49m\u001B[38;5;241;43m2\u001B[39;49m\u001B[43m,\u001B[49m\u001B[38;5;241;43m2\u001B[39;49m\u001B[43m,\u001B[49m\u001B[38;5;241;43m1\u001B[39;49m\u001B[43m]\u001B[49m\u001B[43m)\u001B[49m\n\u001B[0;32m     17\u001B[0m \u001B[38;5;28mprint\u001B[39m(\u001B[38;5;124m\"\u001B[39m\u001B[38;5;124mA2\u001B[39m\u001B[38;5;124m\"\u001B[39m, A2)\n",
      "\u001B[1;31mTypeError\u001B[0m: 'numpy.ndarray' object is not callable"
     ]
    }
   ]
  },
  {
   "cell_type": "markdown",
   "metadata": {
    "id": "sFMmV6Bdjj34"
   },
   "source": [
    "<font color='green'>**Fin actividad 1**</font>"
   ]
  }
 ]
}
