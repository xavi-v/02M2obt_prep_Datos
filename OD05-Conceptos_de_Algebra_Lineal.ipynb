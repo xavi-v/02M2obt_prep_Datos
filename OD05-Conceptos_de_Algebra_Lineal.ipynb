{
 "nbformat": 4,
 "nbformat_minor": 0,
 "metadata": {
  "kernelspec": {
   "display_name": "Python 3",
   "language": "python",
   "name": "python3"
  },
  "language_info": {
   "codemirror_mode": {
    "name": "ipython",
    "version": 3
   },
   "file_extension": ".py",
   "mimetype": "text/x-python",
   "name": "python",
   "nbconvert_exporter": "python",
   "pygments_lexer": "ipython3",
   "version": "3.7.6"
  },
  "colab": {
   "provenance": [],
   "collapsed_sections": []
  }
 },
 "cells": [
  {
   "cell_type": "markdown",
   "metadata": {
    "id": "cb8LIsQOY3ka"
   },
   "source": [
    "# **Obtención y preparación de datos**\n",
    "# OD05. Conceptos de Algebra Lineal"
   ]
  },
  {
   "cell_type": "markdown",
   "metadata": {
    "id": "f7CMXXkQY3kg"
   },
   "source": [
    "## <font color='blue'>**Qué es el algebra lineal?**</font>\n",
    "\n",
    "El **álgebra lineal** es una rama de las matemáticas que estudia conceptos tales como vectores, matrices, espacio dual, sistemas de ecuaciones lineales y, en su enfoque de manera más formal, espacios vectoriales y sus transformaciones lineales.\n",
    "\n",
    "Es un área activa que tiene conexiones con muchas áreas dentro y fuera de las matemáticas, como el análisis funcional, las ecuaciones diferenciales, la investigación de operaciones, las gráficas por computadora, la ingeniería, etc.\n",
    "\n",
    "**Es el lenguaje de muchas teorías matemáticas y físicas, machine learning y computación eficiente.**\n",
    "\n"
   ]
  },
  {
   "cell_type": "code",
   "metadata": {
    "id": "ChcOIPuiY3kb",
    "ExecuteTime": {
     "end_time": "2023-09-20T22:12:42.178377600Z",
     "start_time": "2023-09-20T22:12:42.166374600Z"
    }
   },
   "source": [
    "%matplotlib inline\n",
    "import matplotlib.pyplot as plt\n",
    "from matplotlib import rcParams\n",
    "import seaborn as sns\n",
    "import numpy as np\n",
    "sns.set()\n",
    "rcParams['figure.dpi'] = 144"
   ],
   "execution_count": 2,
   "outputs": []
  },
  {
   "cell_type": "markdown",
   "metadata": {
    "id": "rFVpM4oaY3ki"
   },
   "source": [
    "## <font color='blue'>**Escalares, vectores, matrices y tensores**</font>"
   ]
  },
  {
   "cell_type": "markdown",
   "metadata": {
    "id": "YJp3JazwY3kj"
   },
   "source": [
    "Un **escalar** es únicamente un número, a diferencia de la mayoría de los otros elementos del álgebra lineal que son conjuntos de valores como los vectores y matrices.\n",
    "\n",
    "$$\\omega = 12.5$$\n",
    "$$a = 3$$\n",
    "\n",
    "Un **vector** es un arreglo de números. Un vector de $n$ componentes se define como un conjunto ordenado de $n$ números. Muchas nociones físicas, tales como las fuerzas, velocidades y aceleraciones, involucran una magnitud (el valor de la fuerza, velocidad o aceleración) y una dirección. Cualquier entidad que involucre magnitud y dirección se llama vector. Los vectores se representan por flechas en las que la longitud de ellas define la magnitud; y la dirección de la flecha representa la dirección del vector. Podemos pensar en los vectores como una serie de números. Éstos números tienen una orden preestablecido, y podemos identificar cada número individual por su índice en ese orden. Los vectores identifican puntos en el espacio, en donde cada elemento representa una coordenada del eje en el espacio. Podemos representarlos es las siguientes formas:\n",
    "\n",
    "como vectores columna:\n",
    "\n",
    "$$\\vec{x} = \\begin{pmatrix}t\\\\y\\\\z\\\\w\\end{pmatrix} \\qquad \\vec{a} = \\begin{pmatrix}a_0\\\\a_1\\\\a_2\\\\a_3\\end{pmatrix}$$\n",
    "\n",
    "o como vectores fila:\n",
    "\n",
    "$$\\vec{x} = \\begin{pmatrix}t, y, z, w\\end{pmatrix} \\qquad \\vec{a} = \\begin{pmatrix}a_0, a_1, a_2, a_3\\end{pmatrix}$$\n",
    "\n",
    "Una **matriz** es un arreglo bidimensional de números. Cada elemento de la misma está identificado por dos índices, en lugar de uno como en los vectores.\n",
    "\n",
    "$$\\mathbf{A} = \\begin{pmatrix}a_{0,0} & b_{0,1} & c_{0,2}\\\\a_{1,0} & b_{1,1} & c_{1,2}\\end{pmatrix}\\qquad\n",
    " \\mathbf{B} = \\begin{pmatrix}a_{0,0} & b_{0,1}\\\\a_{1,0} & b_{1,1}\\\\a_{2,0} & b_{2,1}\\end{pmatrix}$$\n",
    "\n",
    "Existen diversos casos en los cuales se precisan mas de dos ejes para almacenar valores. En el caso general, una matriz con un número regular de ejes se lo conoce como __tensor__ (matriz N-dimensional, con $N > 2$). Por ejemplo, cuando almacenamos los valores de los píxeles de una imagen a color necesitamos una matriz con tres ejes (uno para cada canal de color: R, G y B)."
   ]
  },
  {
   "cell_type": "markdown",
   "source": [
    "A continuación crearemos dos fuciones.\n",
    "* `planoCartesiano()`, la cual crea un plano cartesiano de dimensiones $n \\times n$ \n",
    "* `graficarVectores()` la cual dibuja una lista de  vectores en dicho plano.\n",
    "\n",
    "Al final del notebook, dejamos una versión más sofisticadas de la función para dibujar un plano cartesiano: `e_cartesiano()`. Revísela y deconstrúyala hasta entenderla."
   ],
   "metadata": {
    "id": "eY6w4rul_W7T"
   }
  },
  {
   "cell_type": "code",
   "source": [
    "def planoCartesiano(n):\n",
    "    min, max = -1 * n, n\n",
    "    fig, ax = plt.subplots(figsize=(4, 4))\n",
    "    plt.axvline(x=0, color='grey', zorder=0)\n",
    "    plt.axhline(y=0, color='grey', zorder=0)\n",
    "    ax.set_xlim(min, max)\n",
    "    ax.set_ylim(min, max)\n",
    "    plt.xticks(fontsize=6)\n",
    "    plt.yticks(fontsize=6)\n",
    "    return ax\n",
    "    \n",
    "def graficarVector(vec, origen=[0,0], color='k' , alpha=1):\n",
    "    x = np.concatenate((origen, vec), axis=None)\n",
    "    plt.quiver([x[0]],\n",
    "               [x[1]],\n",
    "               [x[2] - x[0]],\n",
    "               [x[3] - x[1]],\n",
    "               angles='xy', scale_units='xy', scale=1,\n",
    "               color=color, \n",
    "               alpha=alpha)\n"
   ],
   "metadata": {
    "id": "QlDA-0pd5q7L",
    "ExecuteTime": {
     "end_time": "2023-09-15T23:04:09.264780700Z",
     "start_time": "2023-09-15T23:04:09.238779400Z"
    }
   },
   "execution_count": 11,
   "outputs": []
  },
  {
   "cell_type": "code",
   "source": [
    "planoCartesiano(6)\n",
    "graficarVector([2,5], color='orange')\n",
    "graficarVector([-4,-3], [-1,-1], color='g')"
   ],
   "metadata": {
    "id": "RT7RTTO59jlv",
    "ExecuteTime": {
     "end_time": "2023-09-15T23:04:15.026218900Z",
     "start_time": "2023-09-15T23:04:14.658190700Z"
    }
   },
   "execution_count": 12,
   "outputs": [
    {
     "data": {
      "text/plain": "<Figure size 576x576 with 1 Axes>",
      "image/png": "[encoded data removed]"
     },
     "metadata": {},
     "output_type": "display_data"
    }
   ]
  },
  {
   "cell_type": "code",
   "source": [
    "a = np.array([[-1, 2]])\n",
    "b = np.array([[3, 4]])\n",
    "planoCartesiano(7)\n",
    "graficarVector(a, color='orange')\n",
    "graficarVector(b, color='orange')\n",
    "graficarVector(a+b, color='g')\n",
    "#graficarVector(b, a, color='g')"
   ],
   "metadata": {
    "id": "0E5Uz6PKfPMf",
    "ExecuteTime": {
     "end_time": "2023-09-15T23:04:19.268158800Z",
     "start_time": "2023-09-15T23:04:18.770125200Z"
    }
   },
   "execution_count": 13,
   "outputs": [
    {
     "data": {
      "text/plain": "<Figure size 576x576 with 1 Axes>",
      "image/png": "[encoded data removed]"
     },
     "metadata": {},
     "output_type": "display_data"
    }
   ]
  },
  {
   "cell_type": "markdown",
   "metadata": {
    "id": "ycneXayjY3kk"
   },
   "source": [
    "## <font color='green'>Actividad 1</font>"
   ]
  },
  {
   "cell_type": "markdown",
   "metadata": {
    "id": "NmM1U0wJY3kk"
   },
   "source": [
    "Utilizando la librería NumPy, crear las siguientes matrices e indicar el número de ejes, tamaño y forma para cada una.\n",
    "\n",
    "$$\\mathbf{A_1} = \\begin{pmatrix}4 & 5 & 6\\\\8 & -1 & 7\\end{pmatrix}\\qquad\n",
    "\\mathbf{A_2} = \\begin{pmatrix}3 & -5\\\\ -2 & 5\\\\8 & 8\\end{pmatrix}\\qquad\n",
    "\\mathbf{A_3} = \\begin{pmatrix}4 & 7 & 5\\end{pmatrix}$$\n",
    "$$\\mathbf{A_4} = \\begin{pmatrix}4\\\\ 9 \\\\ 2\\end{pmatrix}\\qquad\n",
    "\\mathbf{A_5} = \\begin{pmatrix}3&1\\\\7&8\\end{pmatrix}\\qquad\n",
    "\\mathbf{A_6} = \\begin{pmatrix}5&0\\\\3&2\\end{pmatrix}$$"
   ]
  },
  {
   "cell_type": "code",
   "metadata": {
    "id": "lZyXCQYeaMt8",
    "ExecuteTime": {
     "end_time": "2023-09-15T23:09:56.453347500Z",
     "start_time": "2023-09-15T23:09:56.395342900Z"
    }
   },
   "source": [
    "# Tu código aquí ...\n",
    "A1= np.array([[4, 5, 6], [8, -1, 7]])\n",
    "A2= np.array([[3, -5], [-2, 5], [8, 8]])\n",
    "A3= np.array([[4, 7, 5]])\n",
    "A4= np.array([[4], [9], [2]])\n",
    "A5= np.array([[3, 1], [7, 8]])\n",
    "A6= np.array([[5, 0], [3, 2]])\n",
    "\n",
    "print(f'La matriz A1 tiene {A1.ndim} ejes, tamaño {A1.size} y forma {A1.shape}')\n",
    "print(f'La matriz A2 tiene {A2.ndim} ejes, tamaño {A2.size} y forma {A2.shape}')\n",
    "print(f'La matriz A3 tiene {A3.ndim} ejes, tamaño {A3.size} y forma {A3.shape}')\n",
    "print(f'La matriz A4 tiene {A4.ndim} ejes, tamaño {A4.size} y forma {A4.shape}')\n",
    "print(f'La matriz A5 tiene {A5.ndim} ejes, tamaño {A5.size} y forma {A5.shape}')\n",
    "print(f'La matriz A6 tiene {A6.ndim} ejes, tamaño {A6.size} y forma {A6.shape}')\n"
   ],
   "execution_count": 15,
   "outputs": [
    {
     "name": "stdout",
     "output_type": "stream",
     "text": [
      "La matriz A1 tiene 2 ejes, tamaño 6 y forma (2, 3)\n",
      "La matriz A2 tiene 2 ejes, tamaño 6 y forma (3, 2)\n",
      "La matriz A3 tiene 2 ejes, tamaño 3 y forma (1, 3)\n",
      "La matriz A4 tiene 2 ejes, tamaño 3 y forma (3, 1)\n",
      "La matriz A5 tiene 2 ejes, tamaño 4 y forma (2, 2)\n",
      "La matriz A6 tiene 2 ejes, tamaño 4 y forma (2, 2)\n"
     ]
    }
   ]
  },
  {
   "cell_type": "markdown",
   "metadata": {
    "id": "_ldL9uNlaOed"
   },
   "source": [
    "<font color='green'>Fin actividad 1</font>"
   ]
  },
  {
   "cell_type": "markdown",
   "metadata": {
    "id": "ruEhNBmBY3kl"
   },
   "source": [
    "## <font color='green'>Actividad 2</font>"
   ]
  },
  {
   "cell_type": "markdown",
   "metadata": {
    "id": "jYHK0m8rY3ko"
   },
   "source": [
    "Crear un tensor de nombre *A* de 15x15x3 de valores aleatorios enteros en el rango de 0 a 255 (niveles de intensidad de un pixel en el rango RGB) y graficarlo como si fuera una imagen. Utilizar la función `imshow()`."
   ]
  },
  {
   "cell_type": "code",
   "metadata": {
    "id": "iDGl8C9iY3kp",
    "ExecuteTime": {
     "end_time": "2023-09-15T23:20:04.396127900Z",
     "start_time": "2023-09-15T23:20:04.178825300Z"
    }
   },
   "source": [
    "# Tu código aquí ...\n",
    "\n",
    "# Libería para visualizar la imagen\n",
    "import matplotlib.pyplot as plt\n",
    "A = np.random.randint(0, 255, (15, 15, 3))\n",
    "plt.axis('off')\n",
    "plt.imshow(A)\n"
   ],
   "execution_count": 18,
   "outputs": [
    {
     "data": {
      "text/plain": "<matplotlib.image.AxesImage at 0x22d444ac580>"
     },
     "execution_count": 18,
     "metadata": {},
     "output_type": "execute_result"
    },
    {
     "data": {
      "text/plain": "<Figure size 921.6x691.2 with 1 Axes>",
      "image/png": "[encoded data removed]"
     },
     "metadata": {},
     "output_type": "display_data"
    }
   ]
  },
  {
   "cell_type": "markdown",
   "metadata": {
    "id": "JSJdjUJfaaKT"
   },
   "source": [
    "<font color='green'>Fin actividad 2</font>"
   ]
  },
  {
   "cell_type": "markdown",
   "metadata": {
    "id": "ONbJMHtXY3ks"
   },
   "source": [
    "## <font color='blue'>**Operaciones con vectores y matrices**</font>"
   ]
  },
  {
   "cell_type": "markdown",
   "metadata": {
    "id": "nPYZPYg8Y3kt"
   },
   "source": [
    "### <font color='blue'>**Multiplicación de matrices**</font>\n",
    "\n",
    "Sean las siguientes matrices:\n",
    "\n",
    "$$\\mathbf{A} = \\begin{pmatrix}a_{00} & a_{01} & a_{02} & a_{03}\\\\a_{10} & a_{11} & a_{12} & a_{13}\\\\\n",
    "a_{20} & a_{21} & a_{22} & a_{23}\\\\ a_{30} & a_{31} & a_{32} & a_{33}\\end{pmatrix} \\qquad \\vec{x} = \n",
    "\\begin{pmatrix}x_0 \\\\ x_1 \\\\ x_2 \\\\ x_3\\end{pmatrix}$$\n",
    "<br>\n",
    "La multiplicación de matrices se puede definir como:\n",
    "<br>\n",
    "$$\\vec{p} = \\mathbf{A} \\vec{x}$$\n",
    "\n",
    "donde\n",
    "\n",
    "$$p_{i} = \\sum_j a_{i j} x_j$$\n",
    "\n",
    "Lo anterior nos permite pasar desde la representación matricial al sistema de ecuaciones, por ejemplo:\n",
    "<br><br>\n",
    "$$p_{0} = a_{00} x_0 + a_{01} x_1 + a_{02} x_2 + a_{03} x_3 $$\n",
    "<br><br>\n",
    "Multiplicando todo, obtenemos:\n",
    "<br><br>\n",
    "$$\\quad \\begin{pmatrix}a_{00} x_0 + a_{01} x_1 + a_{02} x_2 + a_{03} x_3 \\\\\n",
    "a_{10} x_0 + a_{11} x_1 + a_{12} x_2 + a_{13} x_3\\\\a_{20} x_0 + a_{21} x_1 + a_{22} x_2 + a_{23} x_3\\\\a_{30} x_0 + a_{31} x_1 + a_{32} x_2 + a_{33} x_3 \\end{pmatrix} = \n",
    "\\begin{pmatrix}p_0\\\\p_1\\\\p_2\\\\p_3\\end{pmatrix}$$\n",
    "<br><br>\n",
    "que corresponde a la representación como sistema de ecuaciones lineales.\n",
    "\n",
    "La definición general para la multiplicación de matrices es:\n",
    "\n",
    "$$\\mathbf{C} = \\mathbf{A}\\mathbf{B}$$\n",
    "\n",
    "entonces,\n",
    "\n",
    "$$c_{i j} = \\sum_k a_{i k} b_{k j}$$\n",
    "\n",
    "<img src='https://drive.google.com/uc?export=view&id=1s5v3KJVjvq4BfNsiwou6mq6Za1jyr6Rf' width=\"800\" align=\"center\" style=\"margin-right: 20px\">\n",
    "\n",
    "Esta definición genera restricciones sobre lo que podemos multiplicar: solo funcionan aquellos casos en los que el **número de columnas en la primera matriz es igual al número de filas en la segunda matriz**. \n",
    "\n",
    "La multiplicación de matrices no es conmutativa, es decir, $\\mathbf{A} \\mathbf{B} \\neq \\mathbf{B} \\mathbf{A}$.\n",
    "\n",
    "En Numpy, la multiplicacion de matrices se realiza con la función `dot`."
   ]
  },
  {
   "cell_type": "code",
   "metadata": {
    "id": "N_ZoE78oBYVG",
    "ExecuteTime": {
     "end_time": "2023-09-16T00:35:25.835327400Z",
     "start_time": "2023-09-16T00:35:25.809314500Z"
    }
   },
   "source": [
    "A = np.array ([[1,2], [3,4], [5,6]]) \n",
    "B = np.array ([[1,2,3], [3,4,5]])\n",
    "\n",
    "# A x B\n",
    "np.dot(A, B)"
   ],
   "execution_count": 38,
   "outputs": [
    {
     "data": {
      "text/plain": "array([[ 7, 10, 13],\n       [15, 22, 29],\n       [23, 34, 45]])"
     },
     "execution_count": 38,
     "metadata": {},
     "output_type": "execute_result"
    }
   ]
  },
  {
   "cell_type": "code",
   "source": [
    "# Alternativa\n",
    "np.matmul(A, B)"
   ],
   "metadata": {
    "id": "0-CAT8ztcHmT",
    "ExecuteTime": {
     "end_time": "2023-09-16T00:35:44.478318600Z",
     "start_time": "2023-09-16T00:35:44.457320400Z"
    }
   },
   "execution_count": 39,
   "outputs": [
    {
     "data": {
      "text/plain": "array([[ 7, 10, 13],\n       [15, 22, 29],\n       [23, 34, 45]])"
     },
     "execution_count": 39,
     "metadata": {},
     "output_type": "execute_result"
    }
   ]
  },
  {
   "cell_type": "code",
   "source": [
    "# Alternativa\n",
    "A @ B"
   ],
   "metadata": {
    "id": "44q4VRoScHeB",
    "ExecuteTime": {
     "end_time": "2023-09-16T00:35:46.683175900Z",
     "start_time": "2023-09-16T00:35:46.611804100Z"
    }
   },
   "execution_count": 40,
   "outputs": [
    {
     "data": {
      "text/plain": "array([[ 7, 10, 13],\n       [15, 22, 29],\n       [23, 34, 45]])"
     },
     "execution_count": 40,
     "metadata": {},
     "output_type": "execute_result"
    }
   ]
  },
  {
   "cell_type": "markdown",
   "metadata": {
    "id": "p-OWT7IeY3kt"
   },
   "source": [
    "### <font color='blue'>**Adición de matrices**</font>\n",
    "La adición de matrices es simplemente agregar los elementos correspondientes. Aunque se debe tener en cuenta que esto solo tiene sentido para matrices que tienen la misma forma. Por lo tanto, puede sumar dos matrices de tamaño (3 x 2), pero no una (3 x 2) con una (2 x 3).\n",
    "\n",
    "La adición de matrices es conmutativa, por lo tanto, $\\mathbf{A} + \\mathbf{B} = \\mathbf{B} + \\mathbf{A}$\n",
    "\n",
    "En Numpy, la suma de matrices se realiza con el operador `+`.\n",
    "\n"
   ]
  },
  {
   "cell_type": "code",
   "metadata": {
    "id": "eJFfecxwFLPE",
    "ExecuteTime": {
     "end_time": "2023-09-15T23:57:08.914045100Z",
     "start_time": "2023-09-15T23:57:08.884049400Z"
    }
   },
   "source": [
    "A = np.array ([[1, 2, 3], [4, 5 ,6], [7, 8, 9]]) \n",
    "B = np.array ([[9, 8, 7], [6, 5, 4], [3, 2, 1]])\n",
    "\n",
    "# A + B\n",
    "A + B"
   ],
   "execution_count": 21,
   "outputs": [
    {
     "data": {
      "text/plain": "array([[10, 10, 10],\n       [10, 10, 10],\n       [10, 10, 10]])"
     },
     "execution_count": 21,
     "metadata": {},
     "output_type": "execute_result"
    }
   ]
  },
  {
   "cell_type": "markdown",
   "metadata": {
    "id": "YZgNkOW4FE0m"
   },
   "source": [
    "Se tiene la siguiente suma de ecuaciones:\n",
    "<br><br>\n",
    "$$(a x + b y) + (c x + d y) = (a + c) x + (b + d) y$$\n",
    "<br><br>\n",
    "Lo anterior, lo podemos representar como un sistema de ecuaciones:\n",
    "<br><br>\n",
    "$$\\begin{pmatrix}a_0 x + b_0 y\\\\a_1 x + b_1 y\\\\a_2 x + b_2 y\\end{pmatrix} + \n",
    "\\begin{pmatrix}c_0 x + d_0 y\\\\c_1 x + d_1 y\\\\c_2 x + d_2 y\\end{pmatrix} = \n",
    "\\begin{pmatrix}(a_0 + c_0) x + (b_0 + d_0) y\\\\(a_1 + c_1) x + (b_1 + d_1) y\\\\(a_2 + c_2) x + \n",
    "(b_2 + c_2) y\\end{pmatrix}$$\n",
    "<br><br>\n",
    "En notación matricial, quedaría como una combinación de multiplicaciones y sumas de matrices:\n",
    "<br><br>\n",
    "$$\\begin{pmatrix}a_0 & b_0\\\\a_1 & b_1\\\\a_2 & b_2\\end{pmatrix} \\begin{pmatrix}x\\\\y\\end{pmatrix} + \n",
    "\\begin{pmatrix}c_0 & d_0\\\\c_1 & d_1\\\\c_2 & d_2\\end{pmatrix} \\begin{pmatrix}x\\\\y\\end{pmatrix} = \n",
    "\\begin{pmatrix}(a_0 + c_0) & (b_0 + d_0)\\\\(a_1 + c_1) & (b_1 + d_1)\\\\(a_2 + c_2) & (b_2 + c_2)\\end{pmatrix}\n",
    "\\begin{pmatrix}x\\\\y\\end{pmatrix}$$"
   ]
  },
  {
   "cell_type": "markdown",
   "metadata": {
    "id": "4caUUwZ2Y3kh"
   },
   "source": [
    "## <font color='blue'>**Ecuaciones lineales**</font>"
   ]
  },
  {
   "cell_type": "markdown",
   "metadata": {
    "id": "-Up8fbPbY3ki"
   },
   "source": [
    "Una ecuación lineal o de primer orden es una igualdad que involucra una o más variables a la primera potencia y no contiene productos entre las variables, es decir, una ecuación que involucra solamente sumas y restas de una variable a la primera potencia. Por ejemplo:\n",
    "\n",
    " 1. $y = 1.75$\n",
    " 1. $\\pi w - e y = 3 x$\n",
    " 1. $5(x + y + z) = 7y$"
   ]
  },
  {
   "cell_type": "markdown",
   "metadata": {
    "id": "_t0sKfapY3kr"
   },
   "source": [
    "## <font color='blue'>**Sistemas de ecuaciones lineales**</font>"
   ]
  },
  {
   "cell_type": "markdown",
   "metadata": {
    "id": "TH9sglTIY3ks"
   },
   "source": [
    "Un sistema de ecuaciones lineales es un conjunto de ecuaciones lineales de la forma:\n",
    "<br><br>\n",
    "$$a_{11} x_1 + a_{12} x_2 + a_{13} x_3 + ··· + a_{1n} x_n = b_1$$\n",
    "$$a_{21} x_1 + a_{22} x_2 + a_{23} x_3 + ··· + a_{2n} x_n = b_2$$\n",
    "$$.$$\n",
    "$$.$$\n",
    "$$.$$\n",
    "$$a_{m1} x_1 + a_{m2} x_2 + a_{m3} x_3 + ··· + a_{mn} x_n = b_m$$\n",
    "<br><br>\n",
    "En este caso tenemos $m$ ecuaciones y $n$ incógnitas. Los números reales $a_{ij}$ se denominan coeficientes y los $x_i$ se denominan incógnitas (o números a determinar) y $b_j$ se denominan términos independientes.\n",
    "\n",
    "Resolver el sistema consiste en calcular las incógnitas para que se cumplan todas las ecuaciones del sistema simultáneamente.\n",
    "\n",
    "Veamos un ejemplo de 2 incoógnitas y dos ecuaciones:\n",
    "\n",
    "$$5 x + 2.45 y = 3.6$$\n",
    "$$6 x - 1.2 y = 0$$\n",
    "\n",
    "O uno genérico de 4 variables y 4 ecuaciones:\n",
    "\n",
    "$$a_0 t + b_0 y + c_0 z + d_0 w = e_0$$\n",
    "$$a_1 t + b_1 y + c_1 z + d_1 w = e_1$$\n",
    "$$a_2 t + b_2 y + c_2 z + d_2 w = e_2$$\n",
    "$$a_3 t + b_3 y + c_3 z + d_3 w = e_3$$\n",
    "\n",
    "En notación matricial:\n",
    "<br><br>\n",
    "$$\\begin{pmatrix}a_0 & b_0 & c_0 & d_0\\\\a_1 & b_1 & c_1 & d_1\\\\\n",
    "a_2 & b_2 & c_2 & d_2\\\\ a_3 & b_3 & c_3 & d_3\\end{pmatrix}\n",
    "\\begin{pmatrix}t\\\\y\\\\z\\\\w\\end{pmatrix} = \\begin{pmatrix}e_0\\\\e_1\\\\e_2\\\\e_3\\end{pmatrix}$$\n",
    "<br><br>\n",
    "Esto dice exactamente lo mismo, solo que en una forma diferente. Pero usa vectores y matrices, nuestros dos nuevos objetos y las ideas de multiplicación y suma de matrices. En este caso tenemos 2 vectores y 1 matriz, que puede ser escrito como:\n",
    "<br><br>\n",
    "$$\\mathbf{A} = \\begin{pmatrix}a_0 & b_0 & c_0 & d_0\\\\a_1 & b_1 & c_1 & d_1\\\\\n",
    "a_2 & b_2 & c_2 & d_2\\\\ a_3 & b_3 & c_3 & d_3\\end{pmatrix}\\qquad \\vec{x} = \\begin{pmatrix}t\\\\y\\\\z\\\\w\\end{pmatrix}\n",
    "\\qquad \\vec{e} = \\begin{pmatrix}e_0\\\\e_1\\\\e_2\\\\e_3\\end{pmatrix}$$\n",
    "\n",
    "O de forma compacta\n",
    "\n",
    "$$\\mathbf{A}\\mathbf{x} = \\mathbf{e}$$\n",
    "\n",
    "Despejando $x$, obtenemos\n",
    "\n",
    "$$\\mathbf{x} = \\mathbf{A^{-1}}\\mathbf{e}$$\n",
    "\n",
    "Veamos esto con el ejemplo del sistema de ecuaciones de $2\\times2$ anterior:\n"
   ]
  },
  {
   "cell_type": "code",
   "metadata": {
    "id": "mbcc9sbH5Zkv",
    "ExecuteTime": {
     "end_time": "2023-09-16T00:04:45.305564900Z",
     "start_time": "2023-09-16T00:04:45.266560400Z"
    }
   },
   "source": [
    "# Creamos la matrix 'A' con los coeficientes\n",
    "A = np.array([[5, 2.45], [6, 1.2]])\n",
    "# Creamos el vector 'e' con los términos independientes \n",
    "e = np.array([[3.6], [0]])\n",
    "print('Coeficientes\\n', A, '\\n')\n",
    "print('Términos independientes \\n', e, '\\n')\n",
    "# Aplicamos la fórmula; con np.linealg.inv() invertimos la matriz pasada como argumento\n",
    "x = np.dot(np.linalg.inv(A), e)\n",
    "print(f'El valor de la incógnita x es: {x[0][0]: 3.1f}')\n",
    "print(f'El valor de la incógnita y es: {x[1][0]: 3.1f}')"
   ],
   "execution_count": 22,
   "outputs": [
    {
     "name": "stdout",
     "output_type": "stream",
     "text": [
      "Coeficientes\n",
      " [[5.   2.45]\n",
      " [6.   1.2 ]] \n",
      "\n",
      "Términos independientes \n",
      " [[3.6]\n",
      " [0. ]] \n",
      "\n",
      "El valor de la incógnita x es: -0.5\n",
      "El valor de la incógnita y es:  2.5\n"
     ]
    }
   ]
  },
  {
   "cell_type": "markdown",
   "metadata": {
    "id": "LlhGaxfeY3ku"
   },
   "source": [
    "## <font color='green'>Actividad 3</font>"
   ]
  },
  {
   "cell_type": "markdown",
   "metadata": {
    "id": "SQ3WAPraY3ku"
   },
   "source": [
    "1. ¿Cuál de las matrices del ejercicio 1 se pueden multiplicar y en qué orden? ¿cuál es la forma de su producto?.\n",
    "Seleccione 3 casos y realice la multiplicación.\n",
    "1. Realice la suma de matrices del ejercicio 1."
   ]
  },
  {
   "cell_type": "code",
   "metadata": {
    "id": "IUPjy9adbAaD",
    "ExecuteTime": {
     "end_time": "2023-09-16T00:43:17.552434900Z",
     "start_time": "2023-09-16T00:43:17.488065200Z"
    }
   },
   "source": [
    "# Tu código aquí ...\n",
    "A1= np.array([[4, 5, 6], [8, -1, 7]])\n",
    "A2= np.array([[3, -5], [-2, 5], [8, 8]])\n",
    "A3= np.array([[4, 7, 5]])\n",
    "A4= np.array([[4], [9], [2]])\n",
    "A5= np.array([[3, 1], [7, 8]])\n",
    "A6= np.array([[5, 0], [3, 2]])\n",
    "\n",
    "A2 @ A1\n",
    "A3 @ A4\n",
    "A5 @ A6\n",
    "\n",
    "\n",
    "print(x1)\n",
    "print(x2)\n",
    "print(X3)\n",
    "A5 + A6\n",
    "\n",
    "A1 + A2.T"
   ],
   "execution_count": 45,
   "outputs": [
    {
     "name": "stdout",
     "output_type": "stream",
     "text": [
      "[[-28  20 -17]\n",
      " [ 32 -15  23]\n",
      " [ 96  32 104]]\n",
      "[[89]]\n",
      "[[18  2]\n",
      " [59 16]]\n"
     ]
    },
    {
     "data": {
      "text/plain": "array([[ 7,  3, 14],\n       [ 3,  4, 15]])"
     },
     "execution_count": 45,
     "metadata": {},
     "output_type": "execute_result"
    }
   ]
  },
  {
   "cell_type": "markdown",
   "metadata": {
    "id": "ROQUvD0abBep"
   },
   "source": [
    "<font color='green'>Fin actividad 3</font>"
   ]
  },
  {
   "cell_type": "markdown",
   "metadata": {
    "id": "TKUyuGmDY3kv"
   },
   "source": [
    "## <font color='blue'>**Producto escalar**</font>"
   ]
  },
  {
   "cell_type": "markdown",
   "metadata": {
    "id": "-ll3m_7PY3kw"
   },
   "source": [
    "Un caso especial de multiplicación de matrices es multiplicar dos vectores. Por supuesto, no podemos multiplicar directamente dos vectores de 4 x 1; su forma es incompatible.\n",
    "\n",
    "Para poder realizar esta multiplicación es necesario transponer el vector, lo que corresponde a intercambiar filas por columnas. Se denota con una 𝑇 mayúscula como exponente.\n",
    "\n",
    "Trabajando con las matrices anteriores:\n",
    "\n",
    "$$\\mathbf{B} = \\begin{pmatrix}a_0 & b_0 & c_0\\\\a_1 & b_1 & c_1\\end{pmatrix}\\qquad\n",
    " \\mathbf{C} = \\begin{pmatrix}a_0 & b_0\\\\a_1 & b_1\\\\a_2 & b_2\\end{pmatrix}$$\n",
    "\n",
    "$$\\mathbf{B}^T = \\begin{pmatrix}a_0 & a_1\\\\b_0 & b_1\\\\c_0 & c_1\\end{pmatrix}\\qquad\n",
    " \\mathbf{C}^T = \\begin{pmatrix}a_0 & a_1 & a_2\\\\b_0 & b_1 & b_2\\end{pmatrix}$$\n",
    "<br><br>\n",
    "Lo anterior, es equivalente a cambiar el orden de los índices de los elementos:\n",
    "\n",
    "$$a_{ij} \\rightarrow a_{ji}$$\n",
    "\n"
   ]
  },
  {
   "cell_type": "code",
   "metadata": {
    "id": "wRBPFoAjGpdx",
    "ExecuteTime": {
     "end_time": "2023-09-16T00:13:29.329556600Z",
     "start_time": "2023-09-16T00:13:29.314558400Z"
    }
   },
   "source": [
    "# Matriz A\n",
    "print('Matriz A')\n",
    "print(A, '\\n')\n",
    "print('Matriz A traspuesta')\n",
    "# Matriz A traspuesta\n",
    "print(A.T)"
   ],
   "execution_count": 23,
   "outputs": [
    {
     "name": "stdout",
     "output_type": "stream",
     "text": [
      "Matriz A\n",
      "[[5.   2.45]\n",
      " [6.   1.2 ]] \n",
      "\n",
      "Matriz A traspuesta\n",
      "[[5.   6.  ]\n",
      " [2.45 1.2 ]]\n"
     ]
    }
   ]
  },
  {
   "cell_type": "markdown",
   "metadata": {
    "id": "_nqLreLrHRas"
   },
   "source": [
    "Tenga en cuenta que esto cambia la forma de la matriz. En particular, convertirá los vectores de columna en vectores de fila y viceversa."
   ]
  },
  {
   "cell_type": "code",
   "metadata": {
    "id": "K15p3SryHSb0",
    "ExecuteTime": {
     "end_time": "2023-09-16T00:13:32.226297300Z",
     "start_time": "2023-09-16T00:13:32.209298700Z"
    }
   },
   "source": [
    "c = np.array([1, 2, 3, 4])\n",
    "print(f'c es un vector de forma {c.shape}, luego tiene una sola dimensión (1-D)')\n",
    "print(c, '\\n')\n",
    "# No odemos trasponer un objeto de 1-D\n",
    "# Debemos darle una segunda dimensión aun cuando esta sea cero\n",
    "c = np.array([[1, 2, 3, 4]]) # Atención a los dos pares de brackets\n",
    "print(f'c es un vector de forma {c.shape}, ahora tiene dos dimensiones (2-D)')\n",
    "print(c, '\\n')\n",
    "print(f'c traspuesto es un vector de forma {c.T.shape}')\n",
    "print(c.T)\n"
   ],
   "execution_count": 24,
   "outputs": [
    {
     "name": "stdout",
     "output_type": "stream",
     "text": [
      "c es un vector de forma (4,), luego tiene una sola dimensión (1-D)\n",
      "[1 2 3 4] \n",
      "\n",
      "c es un vector de forma (1, 4), ahora tiene dos dimensiones (2-D)\n",
      "[[1 2 3 4]] \n",
      "\n",
      "c traspuesto es un vector de forma (4, 1)\n",
      "[[1]\n",
      " [2]\n",
      " [3]\n",
      " [4]]\n"
     ]
    }
   ]
  },
  {
   "cell_type": "code",
   "source": [
    "# La traspuesta de un vector no funciona\n",
    "d = np.array([1, 2, 3, 4])\n",
    "print(d.shape)\n",
    "print(d.T.shape)"
   ],
   "metadata": {
    "id": "-HGdDaDBgF-E",
    "ExecuteTime": {
     "end_time": "2023-09-16T00:13:42.686422400Z",
     "start_time": "2023-09-16T00:13:42.666422800Z"
    }
   },
   "execution_count": 25,
   "outputs": [
    {
     "name": "stdout",
     "output_type": "stream",
     "text": [
      "(4,)\n",
      "(4,)\n"
     ]
    }
   ]
  },
  {
   "cell_type": "markdown",
   "metadata": {
    "id": "U7t8Wu7RGp_m"
   },
   "source": [
    "Es posible definir el **producto escalar** de dos vectores como:\n",
    "<br><br>\n",
    "$$\\mathrm{dot}(\\vec{a},\\vec{b}) = \\vec{a}\\cdot\\vec{b} = \\vec{a}^T \\;\\vec{b}$$\n",
    "<br><br>\n",
    "El objeto resultante de esta operación es de $1x1$, es decir, un escalar. Por ejemplo:\n",
    "\n",
    "$$\\vec{x}\\cdot\\vec{e} = \\begin{pmatrix}t & y & z & w\\end{pmatrix}\n",
    "\\begin{pmatrix}e_0\\\\e_1\\\\e_2\\\\e_3\\end{pmatrix} = e_0 t + e_1 y + e_2 z + e_3 w$$\n",
    "\n",
    "Un caso aún más especial es el producto escalar de un vector consigo mismo. Esto da una medida escalar del vector y da lugar a la norma o magnitud (el largo) del vector.\n",
    "\n",
    "$$\\lVert \\vec{v} \\lVert^2 = \\vec{v}\\cdot\\vec{v}$$\n",
    "\n",
    "o\n",
    "\n",
    "$$\\lVert \\vec{v} \\lVert = \\sqrt{\\vec{v}\\cdot\\vec{v}}$$\n",
    "\n",
    "Si estos vectores están en $\\mathbb{R}^n$, entonces corresponde a la distancia euclidiana tradicional dada por el teorema de Pitágoras.\n",
    "\n"
   ]
  },
  {
   "cell_type": "code",
   "metadata": {
    "id": "Alac-KUVJuIV",
    "ExecuteTime": {
     "end_time": "2023-09-16T00:16:30.788263200Z",
     "start_time": "2023-09-16T00:16:30.734260200Z"
    }
   },
   "source": [
    "print(f'Vector c de forma {c.shape}')\n",
    "print(c, '\\n')\n",
    "d = np.array([[1], [2], [3], [4]])\n",
    "print(f'Vector d de forma {d.shape}')\n",
    "print(d, '\\n')\n",
    "print(f'Producto escalar de c y d = {np.dot(c, d)[0][0]}')"
   ],
   "execution_count": 26,
   "outputs": [
    {
     "name": "stdout",
     "output_type": "stream",
     "text": [
      "Vector c de forma (1, 4)\n",
      "[[1 2 3 4]] \n",
      "\n",
      "Vector d de forma (4, 1)\n",
      "[[1]\n",
      " [2]\n",
      " [3]\n",
      " [4]] \n",
      "\n",
      "Producto escalar de c y d = 30\n"
     ]
    }
   ]
  },
  {
   "cell_type": "code",
   "metadata": {
    "id": "tduw6W6AONoM",
    "ExecuteTime": {
     "end_time": "2023-09-16T00:16:33.589032400Z",
     "start_time": "2023-09-16T00:16:33.569033200Z"
    }
   },
   "source": [
    "import math\n",
    "\n",
    "e = np.array([[3], [4]]) \n",
    "print(f'Vector e de forma {e.shape}')\n",
    "print(e, '\\n')\n",
    "print(f'Vector e traspuesto {e.T.shape}')\n",
    "print(e.T, '\\n')\n",
    "print(f'Producto escalar de e traspuesto y e = {np.dot(e.T, e)}')\n",
    "\n",
    "print(f'Y la norma de e = {math.sqrt(np.dot(e.T, e))}')"
   ],
   "execution_count": 27,
   "outputs": [
    {
     "name": "stdout",
     "output_type": "stream",
     "text": [
      "Vector e de forma (2, 1)\n",
      "[[3]\n",
      " [4]] \n",
      "\n",
      "Vector e traspuesto (1, 2)\n",
      "[[3 4]] \n",
      "\n",
      "Producto escalar de e traspuesto y e = [[25]]\n",
      "Y la norma de e = 5.0\n"
     ]
    },
    {
     "name": "stderr",
     "output_type": "stream",
     "text": [
      "C:\\Users\\javie\\AppData\\Local\\Temp\\ipykernel_12692\\3275505270.py:10: DeprecationWarning: Conversion of an array with ndim > 0 to a scalar is deprecated, and will error in future. Ensure you extract a single element from your array before performing this operation. (Deprecated NumPy 1.25.)\n",
      "  print(f'Y la norma de e = {math.sqrt(np.dot(e.T, e))}')\n"
     ]
    }
   ]
  },
  {
   "cell_type": "code",
   "source": [
    "f = np.array([[-2], [2]])\n",
    "print(f'Producto escalar de e y f = {np.dot(e.T, f)}\\n')\n",
    "t = e - f\n",
    "dist = math.sqrt(np.dot(t.T, t))\n",
    "print(f'Y la distancia Euclidiana entre ambos es = {dist:3.1f}\\n')\n",
    "planoCartesiano(5)\n",
    "graficarVector(e, color='b')\n",
    "graficarVector(f, color='b')\n",
    "graficarVector(e, f, color='g')"
   ],
   "metadata": {
    "id": "c8ISuErclkJF",
    "ExecuteTime": {
     "end_time": "2023-09-16T00:18:32.838672200Z",
     "start_time": "2023-09-16T00:18:32.515650Z"
    }
   },
   "execution_count": 29,
   "outputs": [
    {
     "name": "stdout",
     "output_type": "stream",
     "text": [
      "Producto escalar de e y f = [[2]]\n",
      "\n",
      "Y la distancia Euclidiana entre ambos es = 5.4\n",
      "\n"
     ]
    },
    {
     "name": "stderr",
     "output_type": "stream",
     "text": [
      "C:\\Users\\javie\\AppData\\Local\\Temp\\ipykernel_12692\\761680371.py:4: DeprecationWarning: Conversion of an array with ndim > 0 to a scalar is deprecated, and will error in future. Ensure you extract a single element from your array before performing this operation. (Deprecated NumPy 1.25.)\n",
      "  dist = math.sqrt(np.dot(t.T, t))\n"
     ]
    },
    {
     "data": {
      "text/plain": "<Figure size 576x576 with 1 Axes>",
      "image/png": "[encoded data removed]"
     },
     "metadata": {},
     "output_type": "display_data"
    }
   ]
  },
  {
   "cell_type": "code",
   "metadata": {
    "id": "FDK-zUdmOT5I",
    "ExecuteTime": {
     "end_time": "2023-09-16T00:20:27.867189300Z",
     "start_time": "2023-09-16T00:20:27.833191600Z"
    }
   },
   "source": [
    "# Dos formas de calcularlo\n",
    "\n",
    "print(f'{np.linalg.norm(e - f): 3.1f}')\n",
    "print(f'{math.sqrt(np.dot(t.T, t)): 3.1f}')"
   ],
   "execution_count": 30,
   "outputs": [
    {
     "name": "stdout",
     "output_type": "stream",
     "text": [
      " 5.4\n",
      " 5.4\n"
     ]
    },
    {
     "name": "stderr",
     "output_type": "stream",
     "text": [
      "C:\\Users\\javie\\AppData\\Local\\Temp\\ipykernel_12692\\2838179406.py:4: DeprecationWarning: Conversion of an array with ndim > 0 to a scalar is deprecated, and will error in future. Ensure you extract a single element from your array before performing this operation. (Deprecated NumPy 1.25.)\n",
      "  print(f'{math.sqrt(np.dot(t.T, t)): 3.1f}')\n"
     ]
    }
   ]
  },
  {
   "cell_type": "markdown",
   "metadata": {
    "id": "tj74KJCRJurE"
   },
   "source": [
    "## <font color='blue'>**Ortogonalidad**</font>\n",
    "\n",
    "Dos vectoree son __ortogonales__ si son perpendiculares, es decir, dos líneas trazadas en las direcciones respectivas se cruzan en ángulo recto. En 2-D, podríamos elegir los ejes 𝑥 e 𝑦 (vectores rojos), o los dos vectores a 45 grados entre ellos (azules). Ejecute la siguiente celda para ver lo anteriormente expuesto."
   ]
  },
  {
   "cell_type": "code",
   "metadata": {
    "id": "yiIVNe4OgYRj",
    "ExecuteTime": {
     "end_time": "2023-09-16T00:24:06.018060900Z",
     "start_time": "2023-09-16T00:24:05.716039600Z"
    }
   },
   "source": [
    "planoCartesiano(2)  \n",
    "graficarVector([0,1], color='r')\n",
    "graficarVector([1,0], color='r')\n",
    "graficarVector([1,1], color='b')\n",
    "graficarVector([0,-1], color='r')"
   ],
   "execution_count": 32,
   "outputs": [
    {
     "data": {
      "text/plain": "<Figure size 576x576 with 1 Axes>",
      "image/png": "[encoded data removed]"
     },
     "metadata": {},
     "output_type": "display_data"
    }
   ]
  },
  {
   "cell_type": "markdown",
   "metadata": {
    "id": "M1_5FUhlY3kz"
   },
   "source": [
    "Por ejemplo consideremos los siguientes vectores:\n",
    "<br><br>\n",
    "$$\\begin{pmatrix}1\\\\0\\end{pmatrix}\\cdot\\begin{pmatrix}0\\\\1\\end{pmatrix} = 0\\qquad\n",
    "\\begin{pmatrix}1\\\\1\\end{pmatrix}\\cdot\\begin{pmatrix}1\\\\-1\\end{pmatrix} = 0$$\n",
    "<br><br>\n",
    "**Dos vectores son ortogonales si y solo si su producto escalar es cero**. \n",
    "<br><br>\n",
    "$$\\vec{a} \\cdot \\vec{b} = 0 \\qquad \\iff \\qquad \\vec{a}\\; \\mathrm{and}\\; \\vec{b}\\ \n",
    "\\mathrm{son\\ ortogonales}$$\n",
    "<br><br>\n",
    "Esto nos permite definir el ángulo entre dos vectores\n",
    "<br><br> \n",
    "$$\n",
    "\\cos(\\theta) = \\frac{\\vec{a} \\cdot \\vec{b}}{\\lVert \\vec{a} \\lVert \\,\\lVert \\vec{b} \\lVert}\n",
    "$$\n",
    "<br><br>  \n",
    "**¿Por qué es tan importante la ortogonalidad?** Porque los vectores ortogonales llevan información independiente entre sí, al igual que nuestras direcciones $x$ e $y$. También son extremadamente importantes en la interpretación geométrica, ya que definen diferentes direcciones en un espacio."
   ]
  },
  {
   "cell_type": "code",
   "metadata": {
    "id": "PylkGf3SPe2R",
    "ExecuteTime": {
     "end_time": "2023-09-16T00:26:40.155649800Z",
     "start_time": "2023-09-16T00:26:40.067643500Z"
    }
   },
   "source": [
    "v1 = np.array([[1], [-2], [4]])\n",
    "v2 = np.array([[2], [5], [2]])\n",
    "print(f'Producto escalar de v1 y v2 = {np.dot(v1.T, v2)[0][0]}')\n",
    "if np.dot(v1.T, v2)[0] == 0:\n",
    "    print('Los vectores son ortogonales')\n",
    "else:\n",
    "    print('Los vectores no son ortogonales')"
   ],
   "execution_count": 33,
   "outputs": [
    {
     "name": "stdout",
     "output_type": "stream",
     "text": [
      "Producto escalar de v1 y v2 = 0\n",
      "Los vectores son ortogonales\n"
     ]
    }
   ]
  },
  {
   "cell_type": "markdown",
   "metadata": {
    "id": "1PEKommR4ELU"
   },
   "source": [
    "## <font color='green'>Actividad 4</font>\n",
    "1. Determine qué pares de vectores son ortogonales.<br> \n",
    "2. Para aquellos que no lo son, calcule su ángulo."
   ]
  },
  {
   "cell_type": "code",
   "metadata": {
    "id": "tmmaRmHN33ms"
   },
   "source": [
    "# Vectores\n",
    "v1 = np.array([2, 1, -1])\n",
    "v2 = np.array([0, 1, 1])\n",
    "v3 = np.array([1, -1, 2])\n",
    "\n",
    "# Tu código aquí ...\n",
    "\n"
   ],
   "execution_count": null,
   "outputs": []
  },
  {
   "cell_type": "markdown",
   "metadata": {
    "id": "hTAo7ipCKDo_"
   },
   "source": [
    "<font color='green'>Fin actividad 4</font>"
   ]
  },
  {
   "cell_type": "markdown",
   "metadata": {
    "id": "GMNyzUxdLABH"
   },
   "source": [
    "## <font color='blue'>**Determinante**</font>\n",
    "El determinante es un número especial que puede calcularse sobre las matrices cuadradas. Este número nos va a decir muchas cosas sobre la matriz, por ejemplo, si la matriz es invertible o no. Si el determinante es igual a cero, la matriz no es invertible. Cuando la matriz es invertible, el determinante de $A^{−1}=1/(det A)$. \n",
    "\n",
    "Para obtener el determinante de una matriz debemos calcular la suma de los productos de las diagonales de la matriz en una dirección menos la suma de los productos de las diagonales en la otra dirección. Se represente con el símbolo $|A|$ o $detA$.\n",
    "\n",
    "Algunas de sus propiedades que debemos tener en cuenta son:\n",
    "\n",
    "* El determinante de la matriz identidad es igual a 1; $detI=1$.\n",
    "* Una matriz $A$ es singular (no tiene inversa) si su determinante es igual a cero.\n",
    "* El determinante cambia de signo cuando dos columnas (o filas) son intercambiadas.\n",
    "* Si dos filas de una matriz $A$ son iguales, entonces el determinante es cero.\n",
    "* Si alguna fila de la matriz $A$ son todos ceros, entonces el determinante es cero.\n",
    "* La matriz transpuesta $A^T$, tiene el mismo determinante que $A$.\n",
    "* El determinante de $AB$ es igual al determinante de $A$ multiplicado por el determinante de $B$.\n",
    "\n",
    " $$det(AB)=detA⋅detB$$\n",
    "\n",
    "* El determinante es una función lineal de cada una de las filas en forma separada. Si multiplicamos solo una fila por $\\alpha$, entonces el determinante también es multiplicado por $\\alpha$.\n",
    "\n",
    "Veamos como podemos obtener el determinante con la ayuda de Python:"
   ]
  },
  {
   "cell_type": "code",
   "metadata": {
    "id": "ZwZcRCL9QW2j",
    "ExecuteTime": {
     "end_time": "2023-09-16T00:53:30.145449600Z",
     "start_time": "2023-09-16T00:53:30.131450500Z"
    }
   },
   "source": [
    "A = np.array([[1, 2, 3],\n",
    "              [2,-2, 4],\n",
    "              [2, 2, 5]] )\n",
    "I = np.array([[1, 0, 0, 0],\n",
    "              [0, 1, 0, 0],\n",
    "              [0, 0, 1, 0],\n",
    "              [0, 0, 0, 1]] )\n",
    "B = np.array([[2, -1],\n",
    "              [10, -5]])\n",
    "print(f'Determinante de A es: {np.linalg.det(A):3.1f}')\n",
    "print(f'Determinante de la matriz identidad I es: {np.linalg.det(I):3.1f}')\n",
    "print(f'Determinante de B es: {np.linalg.det(B):3.1f}')\n"
   ],
   "execution_count": 46,
   "outputs": [
    {
     "name": "stdout",
     "output_type": "stream",
     "text": [
      "Determinante de A es: 2.0\n",
      "Determinante de la matriz identidad I es: 1.0\n",
      "Determinante de B es: 0.0\n"
     ]
    }
   ]
  },
  {
   "cell_type": "markdown",
   "source": [
    "Los vectores ortogonales tiene determinante igual a 1 o -1.\n"
   ],
   "metadata": {
    "id": "imrTvgfRo4Pe"
   }
  },
  {
   "cell_type": "code",
   "source": [
    "C = np.array([[1, 0], [0, 1]])\n",
    "print(\"Ortogonales y linealmente independientes\")\n",
    "print(C)\n",
    "print(np.linalg.det(C))\n",
    "D = np.array([[2, -2, 1], [2, 1, -2], [1, 2, 2]]) * -1/3\n",
    "print(\"Ortogonales y linealmente independientes\")\n",
    "print(D)\n",
    "print(np.linalg.det(D))"
   ],
   "metadata": {
    "id": "fB0vh-2ho39d",
    "ExecuteTime": {
     "end_time": "2023-09-20T22:15:52.941508400Z",
     "start_time": "2023-09-20T22:15:52.887506100Z"
    }
   },
   "execution_count": 4,
   "outputs": [
    {
     "name": "stdout",
     "output_type": "stream",
     "text": [
      "Ortogonales y linealmente independientes\n",
      "[[1 0]\n",
      " [0 1]]\n",
      "1.0\n",
      "Ortogonales y linealmente independientes\n",
      "[[-0.66666667  0.66666667 -0.33333333]\n",
      " [-0.66666667 -0.33333333  0.66666667]\n",
      " [-0.33333333 -0.66666667 -0.66666667]]\n",
      "-1.0\n"
     ]
    }
   ]
  },
  {
   "cell_type": "markdown",
   "metadata": {
    "id": "zKayufBcswS3"
   },
   "source": [
    "### Para qué sirven los determinantes\n",
    "* Nos permiten estudiar la posición relativa de rectas y planos (sabemos que la posición relativa que ocupan rectas y planos se puede calcular a través de sistemas de ecuaciones lineales, que son resueltas por determinantes de matrices).\n",
    "* Podemos obtener la ecuación implícita de un plano (a través de un determinante nulo).\n",
    "* Son un instrumento para calcular áreas de figuras en el plano.\n",
    "* Nos ayudan a calcular el rango de una matriz con parámetros.\n",
    "* Son útiles para calcular el volumen de los paralelepípedos."
   ]
  },
  {
   "cell_type": "markdown",
   "metadata": {
    "id": "YPzFW4KlY3k0"
   },
   "source": [
    "## <font color='blue'>**Vectores linealmente independientes**</font>"
   ]
  },
  {
   "cell_type": "markdown",
   "metadata": {
    "id": "RUVH1AYNY3k1"
   },
   "source": [
    "Un conjunto de vectores es linealmente independiente si no es posible escribir ninguno de ellos como una combinación lineal de los demás.\n",
    "\n",
    "Los vectores ortogonales son automáticamente linealmente independientes, pero otros también pueden serlo. En general, se puede decir que los vectores $\\{ \\vec{v}_0, \\ldots, \\vec{v}_i, \\ldots, \\vec{v}_n \\}$ son linealmente dependientes si podemos encontrar un conjunto de constantes $c_i$, que no es igual a 0, tal que:\n",
    "\n",
    "$$\\sum_i c_i \\vec{v}_i = c_0 \\vec{v}_0 + c_1 \\vec{v}_1 + ... + c_n \\vec{v}_n = 0$$\n",
    "\n",
    "Ejemplo de vector dependiente es:\n",
    "\n",
    "$$\\begin{pmatrix}1\\\\1\\\\1\\end{pmatrix} \\qquad \\begin{pmatrix}1\\\\1\\\\-1\\end{pmatrix}\n",
    "\\qquad \\begin{pmatrix}1\\\\1\\\\0\\end{pmatrix}$$\n",
    "\n",
    "ya que es posible sumar los dos primeros vectores para obtener un vector que es el doble del tercero:\n",
    "\n",
    "$$\\begin{pmatrix}1\\\\1\\\\1\\end{pmatrix} + \\begin{pmatrix}1\\\\1\\\\-1\\end{pmatrix} =\n",
    "\\begin{pmatrix}2\\\\2\\\\0\\end{pmatrix}\n",
    "= 2\\begin{pmatrix}1\\\\1\\\\0\\end{pmatrix}$$\n",
    "\n",
    "Sin embargo, este conjunto de vectores, muy similar al anterior, si son linealmente independientes:\n",
    "\n",
    "$$\\begin{pmatrix}1\\\\1\\\\1\\end{pmatrix} \\qquad \\begin{pmatrix}1\\\\1\\\\-1\\end{pmatrix}\n",
    "\\qquad \\begin{pmatrix}1\\\\-1\\\\0\\end{pmatrix}$$\n",
    "\n",
    "En un sistema con $n$ vectores linealmente independientes, se pueden definir exactamente $n$ direcciones ortogonales. Esta es la **dimensión del sistema**. Es una medida del contenido de la información.\n",
    "\n",
    "La determinación de la independencia lineal es difícil de realizar mediante inspección. Incluso calcular el determinante se vuelve difícil a medida que aumentan las dimensiones de una matriz. Afortunadamente, podemos usar NumPy para calcular el determinante de una matriz de manera fácil usando la función `linalg.det()`."
   ]
  },
  {
   "cell_type": "code",
   "metadata": {
    "id": "cbBTxzVEY3k2",
    "ExecuteTime": {
     "end_time": "2023-09-20T22:13:21.885309300Z",
     "start_time": "2023-09-20T22:13:21.807305200Z"
    }
   },
   "source": [
    "A = np.array([[0, 1, -3], [1, 0, 1], [4, 1, 1]])\n",
    "print(\"Linealmente dependiente\")\n",
    "print(A)\n",
    "print(np.linalg.det(A))\n",
    "print()\n",
    "\n",
    "B = np.array([[0, 1, 1], [1, 0, 1], [4, 1, 1]])\n",
    "print(\"Linealmente independiente\")\n",
    "print(B)\n",
    "print(np.linalg.det(B))"
   ],
   "execution_count": 3,
   "outputs": [
    {
     "name": "stdout",
     "output_type": "stream",
     "text": [
      "Linealmente dependiente\n",
      "[[ 0  1 -3]\n",
      " [ 1  0  1]\n",
      " [ 4  1  1]]\n",
      "0.0\n",
      "\n",
      "Linealmente independiente\n",
      "[[0 1 1]\n",
      " [1 0 1]\n",
      " [4 1 1]]\n",
      "4.0\n"
     ]
    }
   ]
  },
  {
   "cell_type": "markdown",
   "metadata": {
    "id": "9--Ud0mmY3k4"
   },
   "source": [
    "Si el determinante es no nulo, el conjunto de vectores es linealmente independiente."
   ]
  },
  {
   "cell_type": "markdown",
   "metadata": {
    "id": "5504fG9w-piE"
   },
   "source": [
    "## <font color='blue'>**Rango**</font>\n",
    "Un concepto que está ligado a la independencia lineal es el de __rango__. Los números $m \\times n$, filas y columnas, de una matriz nos dan el  darnos el tamaño de ella, pero esto no necesariamente representa el verdadero tamaño del sistema lineal. Si por ejemplo, existen dos filas iguales en una matriz $A$, la segunda fila desaparecía en el proceso de eliminación. El verdadero tamaño de $A$ va a estar dado por su rango. El rango de una matriz es el número máximo de columnas (filas respectivamente) que son linealmente independientes. El rango de $A$ será, por tanto, un número no negativo, menor o igual que el mínimo entre $m$ y $n$. \n",
    "<br><br>\n",
    "$$\n",
    "A \\in M_{m\\times n} \\Rightarrow 0 \\le rang(A) \\le min(m,n)\n",
    "$$\n",
    "<br>\n",
    "Para calcularlo seguiremos los siguientes pasos:\n",
    "* Descartamos las filas (o columnas) que cumplan con alguna de las condiciones:\n",
    "    * Todos sus coeficientes son ceros.\n",
    "    * Hay dos filas (o columnas) iguales.\n",
    "    * Una fila (o columna) es proporcional a otra.\n",
    "    * Una fila (o columna) es combinación lineal de otras.\n",
    "* De la matriz resultante del punto anterior, el rango resultante será el rango mayor o igual que $i$, con $i=2,3, \\dots, min(m,n)$, si existe alguna submatriz cuadrada de orden $i$, tal que su determinante no sea nulo.\n",
    "\n",
    "\n",
    "\n",
    "Por ejemplo, si tenemos la siguiente matriz de 3 x 4:\n",
    "\n"
   ]
  },
  {
   "cell_type": "code",
   "metadata": {
    "id": "vP58C05q_KI8",
    "ExecuteTime": {
     "end_time": "2023-09-20T22:21:51.291169100Z",
     "start_time": "2023-09-20T22:21:51.250167800Z"
    }
   },
   "source": [
    "A = np.array([[1, 1, 2, 4], [1, 2, 2, 5], [1, 3, 2, 6]])\n",
    "A"
   ],
   "execution_count": 5,
   "outputs": [
    {
     "data": {
      "text/plain": "array([[1, 1, 2, 4],\n       [1, 2, 2, 5],\n       [1, 3, 2, 6]])"
     },
     "execution_count": 5,
     "metadata": {},
     "output_type": "execute_result"
    }
   ]
  },
  {
   "cell_type": "markdown",
   "metadata": {
    "id": "HP4a6PuV-pNe"
   },
   "source": [
    "Podemos ver que la tercer columna $(2,2,2)$ es un múltiplo de la primera y que la cuarta columna $(4,5,6)$ es la suma de las primeras 3 columnas. Por tanto el rango de $A$ va a ser igual a 2; ya que la tercer y cuarta columna pueden ser eliminadas."
   ]
  },
  {
   "cell_type": "code",
   "metadata": {
    "id": "qe7ewwnt_qtH",
    "ExecuteTime": {
     "end_time": "2023-09-20T22:22:17.199695Z",
     "start_time": "2023-09-20T22:22:17.126692Z"
    }
   },
   "source": [
    "# Veamos el rango de A\n",
    "np.linalg.matrix_rank(A)"
   ],
   "execution_count": 6,
   "outputs": [
    {
     "data": {
      "text/plain": "2"
     },
     "execution_count": 6,
     "metadata": {},
     "output_type": "execute_result"
    }
   ]
  },
  {
   "cell_type": "markdown",
   "source": [
    "Veamos otro ejemplo:"
   ],
   "metadata": {
    "id": "35sDUVh9Dfmj"
   }
  },
  {
   "cell_type": "code",
   "source": [
    "A = np.array([[1, 1, 2, 4], [1, 2, 2, 5], [1, 3, 2, 6], [2, 2, 4, 8]])\n",
    "A"
   ],
   "metadata": {
    "id": "NAxbB1WFD4je",
    "ExecuteTime": {
     "end_time": "2023-09-20T22:22:39.941641300Z",
     "start_time": "2023-09-20T22:22:39.911640Z"
    }
   },
   "execution_count": 7,
   "outputs": [
    {
     "data": {
      "text/plain": "array([[1, 1, 2, 4],\n       [1, 2, 2, 5],\n       [1, 3, 2, 6],\n       [2, 2, 4, 8]])"
     },
     "execution_count": 7,
     "metadata": {},
     "output_type": "execute_result"
    }
   ]
  },
  {
   "cell_type": "markdown",
   "source": [
    "La columna 3 es una combinación lineal de la columna 1, y la fila 4 es una combinación lineal de la fila 1. Las eliminamos."
   ],
   "metadata": {
    "id": "KNKnyOUVEJ7s"
   }
  },
  {
   "cell_type": "code",
   "source": [
    "A = A[:3, [0,1,3]]\n",
    "A"
   ],
   "metadata": {
    "id": "AR__N-zeELH5",
    "ExecuteTime": {
     "end_time": "2023-09-20T22:22:52.385249700Z",
     "start_time": "2023-09-20T22:22:52.366249300Z"
    }
   },
   "execution_count": 8,
   "outputs": [
    {
     "data": {
      "text/plain": "array([[1, 1, 4],\n       [1, 2, 5],\n       [1, 3, 6]])"
     },
     "execution_count": 8,
     "metadata": {},
     "output_type": "execute_result"
    }
   ]
  },
  {
   "cell_type": "markdown",
   "source": [
    "Buscamos las determinantes no nulas de la submatrices de orden $i=2,3$."
   ],
   "metadata": {
    "id": "zzUrv8p-EWbn"
   }
  },
  {
   "cell_type": "code",
   "source": [
    "# Buscamos el determinante de la primera submatriz de orden 2\n",
    "print(A[:2,:2], '\\n')\n",
    "\n",
    "print(f'El determinante de la primera submatriz es: {np.linalg.det(A[:2,:2])}')"
   ],
   "metadata": {
    "id": "JsI-5wdzEYS-",
    "ExecuteTime": {
     "end_time": "2023-09-20T22:22:55.207426200Z",
     "start_time": "2023-09-20T22:22:55.185422500Z"
    }
   },
   "execution_count": 9,
   "outputs": [
    {
     "name": "stdout",
     "output_type": "stream",
     "text": [
      "[[1 1]\n",
      " [1 2]] \n",
      "\n",
      "El determinante de la primera submatriz es: 1.0\n"
     ]
    }
   ]
  },
  {
   "cell_type": "markdown",
   "source": [
    "En el orden $i=2$ ya encontramos al menos una submatriz con determinante no nulo, entonces el rango no es 2. Veamos en el orden &i=3$, en el cual hay una sola submatriz."
   ],
   "metadata": {
    "id": "f85_8vorE2kp"
   }
  },
  {
   "cell_type": "code",
   "source": [
    "print(f'El determinante de la primera submatriz de orden 3 es: {np.linalg.det(A)}')"
   ],
   "metadata": {
    "id": "pmMbYFAJE4WY",
    "ExecuteTime": {
     "end_time": "2023-09-20T22:25:40.560599Z",
     "start_time": "2023-09-20T22:25:40.383480900Z"
    }
   },
   "execution_count": 11,
   "outputs": [
    {
     "name": "stdout",
     "output_type": "stream",
     "text": [
      "El determinante de la primera submatriz de orden 3 es: 0.0\n"
     ]
    }
   ]
  },
  {
   "cell_type": "markdown",
   "source": [
    "El determinante es nulo, con lo cual el rango de la matriz es 2. Comprobémoslo de forma directa."
   ],
   "metadata": {
    "id": "AFsZrQWtFf9w"
   }
  },
  {
   "cell_type": "code",
   "source": [
    "A = np.array([[1, 1, 2, 4], [1, 2, 2, 5], [1, 3, 2, 6], [2, 2, 4, 8]])\n",
    "print(A, '\\n')\n",
    "print(f'El rango de A es: {np.linalg.matrix_rank(A)}')"
   ],
   "metadata": {
    "id": "q9Vu6L21Fgac",
    "ExecuteTime": {
     "end_time": "2023-09-20T22:25:37.849782600Z",
     "start_time": "2023-09-20T22:25:37.834781100Z"
    }
   },
   "execution_count": 10,
   "outputs": [
    {
     "name": "stdout",
     "output_type": "stream",
     "text": [
      "[[1 1 2 4]\n",
      " [1 2 2 5]\n",
      " [1 3 2 6]\n",
      " [2 2 4 8]] \n",
      "\n",
      "El rango de A es: 2\n"
     ]
    }
   ]
  },
  {
   "cell_type": "markdown",
   "source": [
    "### Aplicaciones del rango:\n",
    "El rango de una matriz se utiliza para determinar el número de soluciones al sistema de ecuaciones lineales, enunciado del Teorema de Rouché–Frobenius. El sistema tiene por lo menos una solución si el rango de la matriz de coeficientes equivale al rango de la matriz aumentada. En ese caso, ésta tiene exactamente una solución si el rango equivale al número de incógnitas; en otro caso, la solución general tiene k parámetros libres, donde k es la diferencia entre el número de incógnitas y el rango.\n",
    "\n",
    "Una matriz de $n\\times n$ es invertible (tiene inversa) si y sólo si su rango es máximo, es decir, igual a $n$."
   ],
   "metadata": {
    "id": "ml6gVh6PRGVA"
   }
  },
  {
   "cell_type": "markdown",
   "metadata": {
    "id": "vM_F4e8QY3k5"
   },
   "source": [
    "## <font color='blue'>**Transformación lineal**</font>"
   ]
  },
  {
   "cell_type": "markdown",
   "metadata": {
    "id": "Hk6t2GhEY3k5"
   },
   "source": [
    "Una función lineal 1-D se puede representar como:\n",
    "\n",
    "$$f(x) = a x$$\n",
    "\n",
    "donde $a$ es una constante. Pero también es posible definir funcionales lineales en más dimensiones, por ejemplo:\n",
    "\n",
    "$$\\vec{f}(\\vec{x}) = \\begin{pmatrix}a_x x + a_y y + a_z z\\\\b_x x + b_y y + b_z z\\end{pmatrix}$$\n",
    "\n",
    "donde $a_i$ y $b_i$ son constantes. \n",
    "\n",
    "Podemos también representar las funciones lineales de forma matricial, en este caso:\n",
    "\n",
    "$$\\begin{pmatrix}a_x&a_y&a_z\\\\b_x&b_y&b_z\\end{pmatrix}\\begin{pmatrix}x\\\\y\\\\z\\end{pmatrix}$$\n",
    "\n",
    "Lo anterior, nos permite definir que es una transformación lineal en general mediante la siguiente propiedad:\n",
    "\n",
    "$$\\vec{f}(\\alpha \\vec{x} + \\beta \\vec{y}) = \\alpha\\,\\vec{f}(\\vec{x}) + \n",
    "\\beta\\,\\vec{f}(\\vec{y})$$"
   ]
  },
  {
   "cell_type": "markdown",
   "metadata": {
    "id": "HG0_CyOhY3k5"
   },
   "source": [
    "## <font color='blue'>**Autovalores - Vectores propios y valores propios**</font>\n",
    "Cuando estamos resolviendo ecuaciones lineales del tipo $Ax=b$, estamos trabajando con problemas estáticos. ¿Pero qué pasa si quisiéramos trabajar con problemas dinámicos?. Es en este tipo de situaciones donde los __valores propios__ (Eigenvectors) y __vectores propios__ (Eigenvalues) tienen su mayor importancia.\n",
    "\n",
    "Supongamos que tenemos una matriz cuadrada $A$ de $n×n$. Una pregunta natural que nos podríamos hacer sobre $A$ es: ¿Existe algún vector $x$ distinto de cero para el cual $Ax$ es un escalar múltiplo de $x$?. Si llevamos esta pregunta al lenguaje matemático nos vamos a encontrar con la siguiente ecuación:\n",
    "\n",
    "$Ax=λx$\n",
    "\n",
    "Cuando esta ecuación es válida y $x$ no es cero, decimos que $λ$ es el __valor propio__ de $A$ y $x$ es su correspondinte __vector propio__."
   ]
  },
  {
   "cell_type": "markdown",
   "metadata": {
    "id": "jqRZ0rAZHcqt"
   },
   "source": [
    "### Calculando autovalores\n",
    "Podemos comenzar por observar que la ecuación $Ax=λx$ es equivalente a $(A−λI)x=0$. Dado que estamos interesados en soluciones a esta ecuación que sean distintas de cero, la matriz $A−λI$ debe ser singular, es decir, no invertible, y con __determinante__ igual a cero, $det(A−λI)=0$.\n",
    "\n",
    "De esta forma, podemos utilizar esta ecuación para encontrar los Eigenvalores de $A$. Particularmente, podríamos formar el polinomio característico de la matriz $A$, el cual va a tener grado $n$ y por lo tanto va a tener $n$ soluciones, es decir, que vamos a encontrar $n$ Eigenvalores. Algo que debemos tener en cuenta es, que a pesar de que la matriz $A$ sea real, debemos estar preparados para encontrar Eigenvalores que sean complejos.\n",
    "\n",
    "Para que quede más claro, veamos un ejemplo de como podemos calcular los Eigenvalores. Supongamos que tenemos la siguiente matriz:\n",
    "\n",
    "$$A = \\begin{pmatrix}3&2\\\\7& -2\\end{pmatrix}$$\n",
    " \n",
    "Su polinomio característico va a ser igual a:\n",
    "\n",
    "$$\n",
    "\\begin{split}\n",
    "p(λ)&=det(A−λI) \\\\\n",
    "&=det\\begin{pmatrix}3−λ&2 \\\\7& -2−λ\\end{pmatrix} \\\\\n",
    "&=(3−λ)(−2−λ)−14 \\\\\n",
    "&=λ2−λ−20 \\\\\n",
    "&=(λ−5)(λ+4)\n",
    "\\end{split}\n",
    "$$\n",
    " \n",
    "Por lo tanto los Eigenvalores de $A$ van a ser 5 y −4.\n",
    "\n",
    "Obviamente, también los podemos obtener mucho más fácilmente con la ayuda de Python."
   ]
  },
  {
   "cell_type": "code",
   "metadata": {
    "id": "9t0AYRPdiaHb"
   },
   "source": [
    "# Eigenvalores con numpy\n",
    "A = np.array([[3, 2],\n",
    "              [7, -2]])\n",
    "\n",
    "w, v = np.linalg.eig(A)\n",
    "\n",
    "# w Eigenvalor, v Eigenvector\n",
    "print(f'Valores propios de A:\\n{w}\\n')\n",
    "print(f'Vectores propios de A:\\n\\n{v}')"
   ],
   "execution_count": null,
   "outputs": []
  },
  {
   "cell_type": "markdown",
   "metadata": {
    "id": "yyiN67ULmJWU"
   },
   "source": [
    "Observe las dos variables $w$ y $v$ asignadas a la salida de `numpy.linalg.eig()`. A la primera variable $w$ se le asigna una matriz de autovalores calculados y a la segunda variable $v$ se le asigna la matriz cuyas columnas son los autovectores normalizados correspondientes a los autovalores en ese orden.\n",
    "\n",
    "Luego, el valor propio <br>\n",
    "$w[0]$ va con $v[:,0]$<br>\n",
    "$w[1]$ va con $v[:,1]$\n",
    "\n",
    "Verifiquemos la condición\n",
    "$$Av = \\lambda v$$"
   ]
  },
  {
   "cell_type": "code",
   "metadata": {
    "id": "JUjCNM6knObJ"
   },
   "source": [
    "# La parte izquierda es \n",
    "Av = np.dot(A, v[:,0])\n",
    "# La parte derecha es \n",
    "λv = np.dot(w[0],v[:,0])\n",
    "# Verificamos\n",
    "Av == λv"
   ],
   "execution_count": null,
   "outputs": []
  },
  {
   "cell_type": "code",
   "metadata": {
    "id": "Lb_9UEuooE_W"
   },
   "source": [
    "# y los vectores propios si están normalizados deben tener una norma = 1\n",
    "print(np.linalg.norm(v[:,0]))\n",
    "print(np.linalg.norm(v[:,1]))"
   ],
   "execution_count": null,
   "outputs": []
  },
  {
   "cell_type": "markdown",
   "metadata": {
    "id": "ErYqaMUhY3k6"
   },
   "source": [
    "Conside la matriz:\n",
    "\n",
    "$$\\mathbf{A} = \\begin{pmatrix}3&2\\\\1&4\\end{pmatrix}$$\n",
    "\n",
    "Queremos ver cuál es el efecto de esa matriz para los valores de $\\mathbb{R}^2$. ¿Qué pasa cuando uno multiplica esa matriz A por un vector?\n",
    "\n",
    "$$\\mathbf{A} \\begin{pmatrix}x\\\\y\\end{pmatrix} = \\begin{pmatrix}3&2\\\\1&4\\end{pmatrix}\\begin{pmatrix}x\\\\y\\end{pmatrix} = \\begin{pmatrix}3x+2y\\\\x+4y\\end{pmatrix}$$\n",
    "\n",
    "Tomamos un cuadrado con vértice en el origen y lado de tamaño unitario en el primer cuadrante:\n",
    "\n",
    "<img src='https://drive.google.com/uc?export=view&id=1-O1C0-yk7tMUlBqr9bRGSocrZ1k9K1nJ' width=\"400\" align=\"center\" style=\"margin-right: 20px\">\n",
    "\n",
    "Llamamos $R$ a la zona formada por los vertices de los vectores unitarios. ¿En qué se transformará esta área bajo el efecto de nuestra matriz? Para responder esta pregunta podemos ver en que se transforman sus vértices.\n",
    "\n",
    "$$\\mathbf{A} \\begin{pmatrix}0\\\\0\\end{pmatrix} = \\begin{pmatrix}0\\\\0\\end{pmatrix}$$\n",
    "\n",
    "$$\\mathbf{A} \\begin{pmatrix}1\\\\0\\end{pmatrix} = \\begin{pmatrix}3\\\\1\\end{pmatrix}$$\n",
    "\n",
    "$$\\mathbf{A} \\begin{pmatrix}0\\\\1\\end{pmatrix} = \\begin{pmatrix}2\\\\4\\end{pmatrix}$$\n",
    "\n",
    "$$\\mathbf{A} \\begin{pmatrix}1\\\\1\\end{pmatrix} = \\begin{pmatrix}5\\\\5\\end{pmatrix}$$\n",
    "\n",
    "<img src='https://drive.google.com/uc?export=view&id=1cQCffFHcmBDtcZpvD7EuW2Dl54rC-wCp' width=\"400\" align=\"center\" style=\"margin-right: 20px\">\n",
    "\n",
    "¿Habrá vectores que después de la deformación conservaron la dirección?\n",
    "\n",
    "* El vector (1,0) se transformó en el (3,1). No conserva la dirección.\n",
    "* El (0,1) se transforma en el (2,4). No conserva la dirección.\n",
    "* El (1,1) se transformó el (5,5). Entonces se produjo una dilatación de factor 5, y se conservó la dirección.\n",
    "\n",
    "Ese vector que mantuvo su dirección se denomina **vector propio**, y el factor por el cual se dilató es el **autovalor** correspondiente.\n",
    "\n",
    "En términos matemáticos:\n",
    "\n",
    "Una matriz cuadrada posee vectores especiales que realmente no cambian. Estos se denominan **vectores propios** (*eigenvectors*), y los definimos simplemente como vectores distintos de cero donde:\n",
    "\n",
    "$$\\mathbf{M} \\vec{v} = \\lambda \\vec{v}$$\n",
    " \n",
    "donde 𝜆 es solo una constante, denominada **autovalor** para ese vector. Tenga en cuenta que varios vectores pueden tener el mismo valor propio, pero si lo tienen, también lo tendrá cualquier combinación lineal de ellos. Tenga en cuenta que estos autovalores y autovectores pueden ser números complejos, incluso para una matriz de valores reales. Por ejemplo:\n",
    "\n",
    "<br>\n",
    "<br>\n",
    "$$\\begin{pmatrix}1&-1\\\\1&1\\end{pmatrix}\\begin{pmatrix}1\\\\i\\end{pmatrix} = \n",
    "\\begin{pmatrix}1-i\\\\1+i\\end{pmatrix} = (1-i)\\begin{pmatrix}1\\\\i\\end{pmatrix}\\qquad\n",
    "$$\n",
    "<br>\n",
    "$$\n",
    "\\begin{pmatrix}1&-1\\\\1&1\\end{pmatrix}\\begin{pmatrix}1\\\\-i\\end{pmatrix} = \n",
    "\\begin{pmatrix}1+i\\\\1-i\\end{pmatrix} = (1+i)\\begin{pmatrix}1\\\\-i\\end{pmatrix}$$\n",
    "<br>\n",
    "\n",
    "Cada matriz tiene, como máximo, tantos de estos vectores como dimensiones, y conocer estos vectores más el 𝜆 puede permitir reconstruir la matriz original. Los autovectores forman un conjunto de vectores linealmente independientes."
   ]
  },
  {
   "cell_type": "markdown",
   "source": [
    "### Función para graficar planos\n",
    "A continuación dejamos una segunda función para dibujar un plano cartesiano. La misma implementa muchos más detalles que la primera. Analícela y deconstrúyala hasta entenderla perfectamente."
   ],
   "metadata": {
    "id": "jazvUSOsCh07"
   }
  },
  {
   "cell_type": "code",
   "metadata": {
    "id": "abb2CGkQUcyr"
   },
   "source": [
    "def e_cartesiano(n):\n",
    "  \"\"\"\n",
    "  Crea un espacio cartesiano bidimensional de dimension n x n\n",
    "  \"\"\"\n",
    "  fig, ax = plt.subplots(figsize=(6, 6))\n",
    "  min = -1 * n\n",
    "  max = n\n",
    "\n",
    "  # Pocisionamos los ejes (axis) en el centro (0,0) y no en los bordes\n",
    "  # como vienen por defecto\n",
    "  for s in ['left', 'bottom']:\n",
    "    ax.spines[s].set_position('zero')\n",
    "    ax.spines[s].set_color('k')\n",
    "    ax.spines[s].set_linewidth(1)\n",
    "  for s in ['right', 'top']:\n",
    "    ax.spines[s].set_visible(False)\n",
    "  # Añadimos una etiqueta a cada eje\n",
    "  ax.set_xlabel('x', size=8, labelpad=-24, x=1.03)\n",
    "  ax.set_ylabel('y', size=8, labelpad=-21, y=1.02, rotation=0)\n",
    "  ax.set_alpha(0.5)\n",
    "  # Creamos los ticks\n",
    "  x_ticks = np.arange(min, max+1, 1) # Desde, hasta, frecuencia\n",
    "  y_ticks = np.arange(min, max+1, 1)\n",
    "  ax.set_xticks(x_ticks[x_ticks != 0])\n",
    "  ax.set_yticks(y_ticks[y_ticks != 0])\n",
    "  plt.xticks(fontsize=6)\n",
    "  plt.yticks(fontsize=6)\n",
    "  ax.set_xlim(min, max)\n",
    "  ax.set_ylim(min, max)\n",
    "  # Dibujamos la grilla\n",
    "  ax.grid(which='both', color='grey', linewidth=0.2, \n",
    "          linestyle='-', alpha=0.2)\n",
    "  # Y los ejes en color negro\n",
    "  arrow_fmt = dict(markersize=4, color='k', clip_on=False, zorder=5)\n",
    "  ax.plot((1), (0), marker='>', transform=ax.get_yaxis_transform(), **arrow_fmt)\n",
    "  ax.plot((0), (1), marker='^', transform=ax.get_xaxis_transform(), **arrow_fmt)\n",
    "  return ax\n",
    "\n",
    "\n",
    "e_cartesiano(5)  \n",
    "graficarVector([2,4], color='red')"
   ],
   "execution_count": null,
   "outputs": []
  },
  {
   "cell_type": "code",
   "source": [],
   "metadata": {
    "id": "Ii3vSg3lDAvM"
   },
   "execution_count": null,
   "outputs": []
  },
  {
   "cell_type": "markdown",
   "source": [],
   "metadata": {
    "collapsed": false
   }
  },
  {
   "cell_type": "markdown",
   "source": [
    "Extra"
   ],
   "metadata": {
    "collapsed": false
   }
  },
  {
   "cell_type": "markdown",
   "source": [
    "https://www.youtube.com/watch?v=FQ9l4v7zB3I&t"
   ],
   "metadata": {
    "collapsed": false
   }
  },
  {
   "cell_type": "markdown",
   "source": [],
   "metadata": {
    "collapsed": false
   }
  }
 ]
}
