{
 "nbformat": 4,
 "nbformat_minor": 0,
 "metadata": {
  "kernelspec": {
   "display_name": "Python 3",
   "language": "python",
   "name": "python3"
  },
  "language_info": {
   "codemirror_mode": {
    "name": "ipython",
    "version": 3
   },
   "file_extension": ".py",
   "mimetype": "text/x-python",
   "name": "python",
   "nbconvert_exporter": "python",
   "pygments_lexer": "ipython3",
   "version": "3.7.6"
  },
  "colab": {
   "provenance": [],
   "collapsed_sections": []
  }
 },
 "cells": [
  {
   "cell_type": "markdown",
   "metadata": {
    "id": "ZrLjmE2IISUp"
   },
   "source": [
    "# **Obtención y preparación de datos**\n",
    "\n",
    "# OD09. Inspección de Estructuras en Pandas"
   ]
  },
  {
   "cell_type": "code",
   "metadata": {
    "id": "W9lSwzrx0B__",
    "ExecuteTime": {
     "end_time": "2023-09-21T00:53:29.736345500Z",
     "start_time": "2023-09-21T00:53:29.716345600Z"
    }
   },
   "source": [
    "import pandas as pd\n",
    "import numpy as np"
   ],
   "execution_count": 3,
   "outputs": []
  },
  {
   "cell_type": "markdown",
   "metadata": {
    "id": "S3jeoUlk70Mk"
   },
   "source": [
    "## <font color='blue'>**Inspección de series y dataframes**</font>\n",
    "\n",
    "Normalmente, una vez hemos cargado un bloque de datos en una serie o un dataframe, lo primero que haremos será inspeccionarlo para confirmar que los datos cargados son los esperados y que la lectura se ha realizado correctamente. Para esto tenemos los métodos `head`, `tail` y `sample`, con un comportamiento semejante en series y dataframes, que nos muestran un subconjunto de los datos cargados. Además, los métodos `describe` e `info`\n",
    " nos proporcionan información adicional sobre los datos.\n"
   ]
  },
  {
   "cell_type": "markdown",
   "metadata": {
    "id": "NyIKXOcK8OAG"
   },
   "source": [
    "El método `pandas.Series.head` para series y `pandas.DataFrame.head` para dataframes, devuelve los primeros elementos de la estructura (los primeros valores en el caso de una serie y las primeras filas en el caso de un dataframe). Por defecto, se trata de los 5 primeros elementos, pero podemos especificar el número que deseamos como argumento de la función."
   ]
  },
  {
   "cell_type": "code",
   "metadata": {
    "id": "fEE4054V8cy5",
    "ExecuteTime": {
     "end_time": "2023-09-21T00:56:09.686333100Z",
     "start_time": "2023-09-21T00:56:09.671337700Z"
    }
   },
   "source": [
    "entradas = pd.Series([11, 18, 12, 16, 9, 16, 22, 28, 31, 29, 30, 12],\n",
    "                     index = [\"ene\", \"feb\", \"mar\", \"abr\", \"may\", \"jun\", \"jul\", \"ago\", \"sep\", \"oct\", \"nov\", \"dic\"])\n",
    "entradas"
   ],
   "execution_count": 6,
   "outputs": [
    {
     "data": {
      "text/plain": "ene    11\nfeb    18\nmar    12\nabr    16\nmay     9\njun    16\njul    22\nago    28\nsep    31\noct    29\nnov    30\ndic    12\ndtype: int64"
     },
     "execution_count": 6,
     "metadata": {},
     "output_type": "execute_result"
    }
   ]
  },
  {
   "cell_type": "code",
   "metadata": {
    "id": "Ddnqa7O89AUW",
    "ExecuteTime": {
     "end_time": "2023-09-21T00:56:13.855022900Z",
     "start_time": "2023-09-21T00:56:13.840024200Z"
    }
   },
   "source": [
    "salidas = pd.Series([9, 26, 18, 15, 6, 22, 19, 25, 34, 22, 21, 14],\n",
    "                    index = [\"ene\", \"feb\", \"mar\", \"abr\", \"may\", \"jun\", \"jul\", \"ago\", \"sep\", \"oct\", \"nov\", \"dic\"])\n",
    "salidas"
   ],
   "execution_count": 7,
   "outputs": [
    {
     "data": {
      "text/plain": "ene     9\nfeb    26\nmar    18\nabr    15\nmay     6\njun    22\njul    19\nago    25\nsep    34\noct    22\nnov    21\ndic    14\ndtype: int64"
     },
     "execution_count": 7,
     "metadata": {},
     "output_type": "execute_result"
    }
   ]
  },
  {
   "cell_type": "code",
   "metadata": {
    "id": "R2w_kwlT9J6H",
    "ExecuteTime": {
     "end_time": "2023-09-21T00:56:16.352599700Z",
     "start_time": "2023-09-21T00:56:16.309599800Z"
    }
   },
   "source": [
    "almacen = pd.DataFrame({\"entradas\":entradas, \"salidas\":salidas})\n",
    "almacen"
   ],
   "execution_count": 8,
   "outputs": [
    {
     "data": {
      "text/plain": "     entradas  salidas\nene        11        9\nfeb        18       26\nmar        12       18\nabr        16       15\nmay         9        6\njun        16       22\njul        22       19\nago        28       25\nsep        31       34\noct        29       22\nnov        30       21\ndic        12       14",
      "text/html": "<div>\n<style scoped>\n    .dataframe tbody tr th:only-of-type {\n        vertical-align: middle;\n    }\n\n    .dataframe tbody tr th {\n        vertical-align: top;\n    }\n\n    .dataframe thead th {\n        text-align: right;\n    }\n</style>\n<table border=\"1\" class=\"dataframe\">\n  <thead>\n    <tr style=\"text-align: right;\">\n      <th></th>\n      <th>entradas</th>\n      <th>salidas</th>\n    </tr>\n  </thead>\n  <tbody>\n    <tr>\n      <th>ene</th>\n      <td>11</td>\n      <td>9</td>\n    </tr>\n    <tr>\n      <th>feb</th>\n      <td>18</td>\n      <td>26</td>\n    </tr>\n    <tr>\n      <th>mar</th>\n      <td>12</td>\n      <td>18</td>\n    </tr>\n    <tr>\n      <th>abr</th>\n      <td>16</td>\n      <td>15</td>\n    </tr>\n    <tr>\n      <th>may</th>\n      <td>9</td>\n      <td>6</td>\n    </tr>\n    <tr>\n      <th>jun</th>\n      <td>16</td>\n      <td>22</td>\n    </tr>\n    <tr>\n      <th>jul</th>\n      <td>22</td>\n      <td>19</td>\n    </tr>\n    <tr>\n      <th>ago</th>\n      <td>28</td>\n      <td>25</td>\n    </tr>\n    <tr>\n      <th>sep</th>\n      <td>31</td>\n      <td>34</td>\n    </tr>\n    <tr>\n      <th>oct</th>\n      <td>29</td>\n      <td>22</td>\n    </tr>\n    <tr>\n      <th>nov</th>\n      <td>30</td>\n      <td>21</td>\n    </tr>\n    <tr>\n      <th>dic</th>\n      <td>12</td>\n      <td>14</td>\n    </tr>\n  </tbody>\n</table>\n</div>"
     },
     "execution_count": 8,
     "metadata": {},
     "output_type": "execute_result"
    }
   ]
  },
  {
   "cell_type": "code",
   "metadata": {
    "id": "UF0XnEIl9Por",
    "ExecuteTime": {
     "end_time": "2023-09-21T00:56:38.625475Z",
     "start_time": "2023-09-21T00:56:38.352455400Z"
    }
   },
   "source": [
    "almacen = pd.DataFrame({\"entradas\":entradas, \"salidas\":salidas})\n",
    "almacen[\"neto\"] = almacen.entradas - almacen.salidas\n",
    "almacen"
   ],
   "execution_count": 13,
   "outputs": [
    {
     "data": {
      "text/plain": "     entradas  salidas  neto\nene        11        9     2\nfeb        18       26    -8\nmar        12       18    -6\nabr        16       15     1\nmay         9        6     3\njun        16       22    -6\njul        22       19     3\nago        28       25     3\nsep        31       34    -3\noct        29       22     7\nnov        30       21     9\ndic        12       14    -2",
      "text/html": "<div>\n<style scoped>\n    .dataframe tbody tr th:only-of-type {\n        vertical-align: middle;\n    }\n\n    .dataframe tbody tr th {\n        vertical-align: top;\n    }\n\n    .dataframe thead th {\n        text-align: right;\n    }\n</style>\n<table border=\"1\" class=\"dataframe\">\n  <thead>\n    <tr style=\"text-align: right;\">\n      <th></th>\n      <th>entradas</th>\n      <th>salidas</th>\n      <th>neto</th>\n    </tr>\n  </thead>\n  <tbody>\n    <tr>\n      <th>ene</th>\n      <td>11</td>\n      <td>9</td>\n      <td>2</td>\n    </tr>\n    <tr>\n      <th>feb</th>\n      <td>18</td>\n      <td>26</td>\n      <td>-8</td>\n    </tr>\n    <tr>\n      <th>mar</th>\n      <td>12</td>\n      <td>18</td>\n      <td>-6</td>\n    </tr>\n    <tr>\n      <th>abr</th>\n      <td>16</td>\n      <td>15</td>\n      <td>1</td>\n    </tr>\n    <tr>\n      <th>may</th>\n      <td>9</td>\n      <td>6</td>\n      <td>3</td>\n    </tr>\n    <tr>\n      <th>jun</th>\n      <td>16</td>\n      <td>22</td>\n      <td>-6</td>\n    </tr>\n    <tr>\n      <th>jul</th>\n      <td>22</td>\n      <td>19</td>\n      <td>3</td>\n    </tr>\n    <tr>\n      <th>ago</th>\n      <td>28</td>\n      <td>25</td>\n      <td>3</td>\n    </tr>\n    <tr>\n      <th>sep</th>\n      <td>31</td>\n      <td>34</td>\n      <td>-3</td>\n    </tr>\n    <tr>\n      <th>oct</th>\n      <td>29</td>\n      <td>22</td>\n      <td>7</td>\n    </tr>\n    <tr>\n      <th>nov</th>\n      <td>30</td>\n      <td>21</td>\n      <td>9</td>\n    </tr>\n    <tr>\n      <th>dic</th>\n      <td>12</td>\n      <td>14</td>\n      <td>-2</td>\n    </tr>\n  </tbody>\n</table>\n</div>"
     },
     "execution_count": 13,
     "metadata": {},
     "output_type": "execute_result"
    }
   ]
  },
  {
   "cell_type": "code",
   "metadata": {
    "id": "OZ2dVdtD9uea",
    "ExecuteTime": {
     "end_time": "2023-09-21T00:56:41.784030700Z",
     "start_time": "2023-09-21T00:56:41.770031700Z"
    }
   },
   "source": [
    "neto = almacen[\"neto\"]\n",
    "type(neto)"
   ],
   "execution_count": 14,
   "outputs": [
    {
     "data": {
      "text/plain": "pandas.core.series.Series"
     },
     "execution_count": 14,
     "metadata": {},
     "output_type": "execute_result"
    }
   ]
  },
  {
   "cell_type": "markdown",
   "metadata": {
    "id": "5MpWCA-q9lRx"
   },
   "source": [
    "En este ejemplo estamos mostrando todos los elementos de la estructura pues son apenas 12. En un caso real podemos estar hablando de miles o de millones de elementos.\n",
    "\n",
    "Ahora, para mostrar apenas los primeros elementos de la estructura, ejecutamos el método `head`:"
   ]
  },
  {
   "cell_type": "code",
   "metadata": {
    "id": "TWS0Bk4y9p2Z",
    "ExecuteTime": {
     "end_time": "2023-09-21T00:56:44.128955500Z",
     "start_time": "2023-09-21T00:56:44.113953500Z"
    }
   },
   "source": [
    "entradas.head(7)"
   ],
   "execution_count": 15,
   "outputs": [
    {
     "data": {
      "text/plain": "ene    11\nfeb    18\nmar    12\nabr    16\nmay     9\njun    16\njul    22\ndtype: int64"
     },
     "execution_count": 15,
     "metadata": {},
     "output_type": "execute_result"
    }
   ]
  },
  {
   "cell_type": "code",
   "metadata": {
    "id": "hNyUvTAc9tbS",
    "ExecuteTime": {
     "end_time": "2023-09-21T00:56:46.555869300Z",
     "start_time": "2023-09-21T00:56:46.539873Z"
    }
   },
   "source": [
    "almacen[\"neto\"].head()"
   ],
   "execution_count": 16,
   "outputs": [
    {
     "data": {
      "text/plain": "ene    2\nfeb   -8\nmar   -6\nabr    1\nmay    3\nName: neto, dtype: int64"
     },
     "execution_count": 16,
     "metadata": {},
     "output_type": "execute_result"
    }
   ]
  },
  {
   "cell_type": "code",
   "metadata": {
    "id": "G2GESdB65aSz",
    "ExecuteTime": {
     "end_time": "2023-09-21T00:56:48.828045500Z",
     "start_time": "2023-09-21T00:56:48.814048500Z"
    }
   },
   "source": [
    "almacen.head()"
   ],
   "execution_count": 17,
   "outputs": [
    {
     "data": {
      "text/plain": "     entradas  salidas  neto\nene        11        9     2\nfeb        18       26    -8\nmar        12       18    -6\nabr        16       15     1\nmay         9        6     3",
      "text/html": "<div>\n<style scoped>\n    .dataframe tbody tr th:only-of-type {\n        vertical-align: middle;\n    }\n\n    .dataframe tbody tr th {\n        vertical-align: top;\n    }\n\n    .dataframe thead th {\n        text-align: right;\n    }\n</style>\n<table border=\"1\" class=\"dataframe\">\n  <thead>\n    <tr style=\"text-align: right;\">\n      <th></th>\n      <th>entradas</th>\n      <th>salidas</th>\n      <th>neto</th>\n    </tr>\n  </thead>\n  <tbody>\n    <tr>\n      <th>ene</th>\n      <td>11</td>\n      <td>9</td>\n      <td>2</td>\n    </tr>\n    <tr>\n      <th>feb</th>\n      <td>18</td>\n      <td>26</td>\n      <td>-8</td>\n    </tr>\n    <tr>\n      <th>mar</th>\n      <td>12</td>\n      <td>18</td>\n      <td>-6</td>\n    </tr>\n    <tr>\n      <th>abr</th>\n      <td>16</td>\n      <td>15</td>\n      <td>1</td>\n    </tr>\n    <tr>\n      <th>may</th>\n      <td>9</td>\n      <td>6</td>\n      <td>3</td>\n    </tr>\n  </tbody>\n</table>\n</div>"
     },
     "execution_count": 17,
     "metadata": {},
     "output_type": "execute_result"
    }
   ]
  },
  {
   "cell_type": "markdown",
   "metadata": {
    "id": "fWVi2qbN91F6"
   },
   "source": [
    "Los métodos `pandas.Series.tail` (para series) y `pandas.DataFrame.tail` (para dataframes) son semejantes a los anteriores, pero muestran los últimos elementos de la estructura. Si no indicamos otra cosa como argumento, serán los 5 últimos elementos los que se muestren:"
   ]
  },
  {
   "cell_type": "code",
   "metadata": {
    "id": "SFahWe5I98ym",
    "ExecuteTime": {
     "end_time": "2023-09-21T00:56:52.093059800Z",
     "start_time": "2023-09-21T00:56:52.074939200Z"
    }
   },
   "source": [
    "entradas.tail()"
   ],
   "execution_count": 18,
   "outputs": [
    {
     "data": {
      "text/plain": "ago    28\nsep    31\noct    29\nnov    30\ndic    12\ndtype: int64"
     },
     "execution_count": 18,
     "metadata": {},
     "output_type": "execute_result"
    }
   ]
  },
  {
   "cell_type": "code",
   "metadata": {
    "id": "LFX5r9K09-_m",
    "ExecuteTime": {
     "end_time": "2023-09-21T00:56:54.221865100Z",
     "start_time": "2023-09-21T00:56:54.207869400Z"
    }
   },
   "source": [
    "almacen.tail()"
   ],
   "execution_count": 19,
   "outputs": [
    {
     "data": {
      "text/plain": "     entradas  salidas  neto\nago        28       25     3\nsep        31       34    -3\noct        29       22     7\nnov        30       21     9\ndic        12       14    -2",
      "text/html": "<div>\n<style scoped>\n    .dataframe tbody tr th:only-of-type {\n        vertical-align: middle;\n    }\n\n    .dataframe tbody tr th {\n        vertical-align: top;\n    }\n\n    .dataframe thead th {\n        text-align: right;\n    }\n</style>\n<table border=\"1\" class=\"dataframe\">\n  <thead>\n    <tr style=\"text-align: right;\">\n      <th></th>\n      <th>entradas</th>\n      <th>salidas</th>\n      <th>neto</th>\n    </tr>\n  </thead>\n  <tbody>\n    <tr>\n      <th>ago</th>\n      <td>28</td>\n      <td>25</td>\n      <td>3</td>\n    </tr>\n    <tr>\n      <th>sep</th>\n      <td>31</td>\n      <td>34</td>\n      <td>-3</td>\n    </tr>\n    <tr>\n      <th>oct</th>\n      <td>29</td>\n      <td>22</td>\n      <td>7</td>\n    </tr>\n    <tr>\n      <th>nov</th>\n      <td>30</td>\n      <td>21</td>\n      <td>9</td>\n    </tr>\n    <tr>\n      <th>dic</th>\n      <td>12</td>\n      <td>14</td>\n      <td>-2</td>\n    </tr>\n  </tbody>\n</table>\n</div>"
     },
     "execution_count": 19,
     "metadata": {},
     "output_type": "execute_result"
    }
   ]
  },
  {
   "cell_type": "markdown",
   "metadata": {
    "id": "NF15qgBM-DqL"
   },
   "source": [
    "Es frecuente que los datos que hayamos leído estén ordenados según algún criterio, y que el bloque de datos mostrado por los métodos `head` o `tail` estén formados por datos muy parecidos. Y en ocasiones nos puede convenir ver datos aleatorios de nuestra estructura. Para esto podemos utilizar los métodos `pandas.Series.sample` para series y `pandas.DataFrame.sample` para dataframes. Al contrario que `head` o `tail`, el número de elementos devueltos por defecto es uno, por lo que, si deseamos extraer una muestra mayor, tendremos que indicarlo como primer argumento:"
   ]
  },
  {
   "cell_type": "code",
   "metadata": {
    "id": "UvDrLoNb-Pkl",
    "ExecuteTime": {
     "end_time": "2023-09-21T00:57:24.667940700Z",
     "start_time": "2023-09-21T00:57:24.650943800Z"
    }
   },
   "source": [
    "entradas.sample(5)"
   ],
   "execution_count": 20,
   "outputs": [
    {
     "data": {
      "text/plain": "mar    12\nabr    16\ndic    12\nfeb    18\nago    28\ndtype: int64"
     },
     "execution_count": 20,
     "metadata": {},
     "output_type": "execute_result"
    }
   ]
  },
  {
   "cell_type": "code",
   "metadata": {
    "id": "9jhr993z-TbH",
    "ExecuteTime": {
     "end_time": "2023-09-21T00:57:28.381148100Z",
     "start_time": "2023-09-21T00:57:28.363150400Z"
    }
   },
   "source": [
    "almacen.sample(5)"
   ],
   "execution_count": 21,
   "outputs": [
    {
     "data": {
      "text/plain": "     entradas  salidas  neto\noct        29       22     7\nago        28       25     3\nfeb        18       26    -8\nene        11        9     2\nmar        12       18    -6",
      "text/html": "<div>\n<style scoped>\n    .dataframe tbody tr th:only-of-type {\n        vertical-align: middle;\n    }\n\n    .dataframe tbody tr th {\n        vertical-align: top;\n    }\n\n    .dataframe thead th {\n        text-align: right;\n    }\n</style>\n<table border=\"1\" class=\"dataframe\">\n  <thead>\n    <tr style=\"text-align: right;\">\n      <th></th>\n      <th>entradas</th>\n      <th>salidas</th>\n      <th>neto</th>\n    </tr>\n  </thead>\n  <tbody>\n    <tr>\n      <th>oct</th>\n      <td>29</td>\n      <td>22</td>\n      <td>7</td>\n    </tr>\n    <tr>\n      <th>ago</th>\n      <td>28</td>\n      <td>25</td>\n      <td>3</td>\n    </tr>\n    <tr>\n      <th>feb</th>\n      <td>18</td>\n      <td>26</td>\n      <td>-8</td>\n    </tr>\n    <tr>\n      <th>ene</th>\n      <td>11</td>\n      <td>9</td>\n      <td>2</td>\n    </tr>\n    <tr>\n      <th>mar</th>\n      <td>12</td>\n      <td>18</td>\n      <td>-6</td>\n    </tr>\n  </tbody>\n</table>\n</div>"
     },
     "execution_count": 21,
     "metadata": {},
     "output_type": "execute_result"
    }
   ]
  },
  {
   "cell_type": "markdown",
   "metadata": {
    "id": "8DYIPw7A-Y6i"
   },
   "source": [
    "El método `describe` devuelve información estadística de los datos del dataframe o de la serie (de hecho, este método devuelve un dataframe). Esta información incluye el número de muestras, el valor medio, la desviación estándar, el valor mínimo, máximo, la mediana y los valores correspondientes a los percentiles 25% y 75%.\n",
    "\n",
    "Siguiendo con el ejemplo visto en la sección anterior:"
   ]
  },
  {
   "cell_type": "code",
   "metadata": {
    "id": "ewlHNwzf-glf",
    "ExecuteTime": {
     "end_time": "2023-09-21T00:57:34.173633Z",
     "start_time": "2023-09-21T00:57:34.131500100Z"
    }
   },
   "source": [
    "almacen.describe()"
   ],
   "execution_count": 22,
   "outputs": [
    {
     "data": {
      "text/plain": "       entradas    salidas       neto\ncount  12.00000  12.000000  12.000000\nmean   19.50000  19.250000   0.250000\nstd     8.16311   7.641097   5.310795\nmin     9.00000   6.000000  -8.000000\n25%    12.00000  14.750000  -3.750000\n50%    17.00000  20.000000   1.500000\n75%    28.25000  22.750000   3.000000\nmax    31.00000  34.000000   9.000000",
      "text/html": "<div>\n<style scoped>\n    .dataframe tbody tr th:only-of-type {\n        vertical-align: middle;\n    }\n\n    .dataframe tbody tr th {\n        vertical-align: top;\n    }\n\n    .dataframe thead th {\n        text-align: right;\n    }\n</style>\n<table border=\"1\" class=\"dataframe\">\n  <thead>\n    <tr style=\"text-align: right;\">\n      <th></th>\n      <th>entradas</th>\n      <th>salidas</th>\n      <th>neto</th>\n    </tr>\n  </thead>\n  <tbody>\n    <tr>\n      <th>count</th>\n      <td>12.00000</td>\n      <td>12.000000</td>\n      <td>12.000000</td>\n    </tr>\n    <tr>\n      <th>mean</th>\n      <td>19.50000</td>\n      <td>19.250000</td>\n      <td>0.250000</td>\n    </tr>\n    <tr>\n      <th>std</th>\n      <td>8.16311</td>\n      <td>7.641097</td>\n      <td>5.310795</td>\n    </tr>\n    <tr>\n      <th>min</th>\n      <td>9.00000</td>\n      <td>6.000000</td>\n      <td>-8.000000</td>\n    </tr>\n    <tr>\n      <th>25%</th>\n      <td>12.00000</td>\n      <td>14.750000</td>\n      <td>-3.750000</td>\n    </tr>\n    <tr>\n      <th>50%</th>\n      <td>17.00000</td>\n      <td>20.000000</td>\n      <td>1.500000</td>\n    </tr>\n    <tr>\n      <th>75%</th>\n      <td>28.25000</td>\n      <td>22.750000</td>\n      <td>3.000000</td>\n    </tr>\n    <tr>\n      <th>max</th>\n      <td>31.00000</td>\n      <td>34.000000</td>\n      <td>9.000000</td>\n    </tr>\n  </tbody>\n</table>\n</div>"
     },
     "execution_count": 22,
     "metadata": {},
     "output_type": "execute_result"
    }
   ]
  },
  {
   "cell_type": "markdown",
   "metadata": {
    "id": "o69qVvzA-kko"
   },
   "source": [
    "El método acepta el parámetro `percentiles` conteniendo una lista (o semejante) de los percentiles a mostrar. También acepta los parámetros `include` y `exclude` para espcificar los tipos de las características a incluir o excluir del resultado."
   ]
  },
  {
   "cell_type": "markdown",
   "metadata": {
    "id": "zmbYcKxP-wAf"
   },
   "source": [
    "El método `info` muestra un resumen de un dataframe, incluyendo información sobre el tipo de los índices de filas y columnas, los valores no nulos y la memoria usada:"
   ]
  },
  {
   "cell_type": "code",
   "metadata": {
    "id": "m26yenz--0sj",
    "ExecuteTime": {
     "end_time": "2023-09-21T00:59:28.381959900Z",
     "start_time": "2023-09-21T00:59:28.317959Z"
    }
   },
   "source": [
    "almacen.info()"
   ],
   "execution_count": 23,
   "outputs": [
    {
     "name": "stdout",
     "output_type": "stream",
     "text": [
      "<class 'pandas.core.frame.DataFrame'>\n",
      "Index: 12 entries, ene to dic\n",
      "Data columns (total 3 columns):\n",
      " #   Column    Non-Null Count  Dtype\n",
      "---  ------    --------------  -----\n",
      " 0   entradas  12 non-null     int64\n",
      " 1   salidas   12 non-null     int64\n",
      " 2   neto      12 non-null     int64\n",
      "dtypes: int64(3)\n",
      "memory usage: 684.0+ bytes\n"
     ]
    }
   ]
  },
  {
   "cell_type": "markdown",
   "metadata": {
    "id": "o4pJ1-_y-5eU"
   },
   "source": [
    "Solo los dataframes tienen implementado este método."
   ]
  },
  {
   "cell_type": "markdown",
   "metadata": {
    "id": "WZnfcRzC-9Fw"
   },
   "source": [
    "Un método de las series pandas extremadamente útil es `pandas.Series.value_counts`. Este método devuelve una estructura conteniendo los valores presentes en la serie y el número de ocurrencias de cada uno. Estos valores se muestran en orden decreciente:"
   ]
  },
  {
   "cell_type": "code",
   "metadata": {
    "id": "7IQCqFiq_DLs"
   },
   "source": [
    "s = pd.Series([3, 1, 2, 1, 1, 4, 1, 2, np.nan])\n",
    "s.value_counts()"
   ],
   "execution_count": null,
   "outputs": []
  },
  {
   "cell_type": "markdown",
   "metadata": {
    "id": "CLIohuoh_bfc"
   },
   "source": [
    "Como puede apreciarse, por defecto no se incluyen los valores nulos. Este comportamiento puede modificarse haciendo uso del parámetro `dropna`:"
   ]
  },
  {
   "cell_type": "code",
   "metadata": {
    "id": "6JSLD-Lu_fKE"
   },
   "source": [
    "s.value_counts(dropna = False)"
   ],
   "execution_count": null,
   "outputs": []
  },
  {
   "cell_type": "markdown",
   "metadata": {
    "id": "Ba3dvXrM_miR"
   },
   "source": [
    "En lugar de devolver los valores distintos y el número de ocurrencias, este método también puede agrupar los datos en `bins` y devolver una lista de bins (indicando sus márgenes) con el número de valores en cada uno de ellos. Por ejemplo, si quisiéramos agrupar los valores de la serie anterior en dos bins podríamos hacerlo de la siguiente forma:"
   ]
  },
  {
   "cell_type": "code",
   "metadata": {
    "id": "cvG99KZk_rCd"
   },
   "source": [
    "s.value_counts(bins = 2)"
   ],
   "execution_count": null,
   "outputs": []
  },
  {
   "cell_type": "markdown",
   "metadata": {
    "id": "qMY2m0KB_xBq"
   },
   "source": [
    "Vemos que se han creados los dos bins, el primero conteniendo los valores entre 0.996 y 2.5 (intervalo abierto por la izquierda y cerrado por la derecha), bin en el que hay 6 valores, y el segundo conteniendo los valores entre 2.5 y 4 (intervalo también abierto por la izquierda y cerrado por la derecha), bin en el que hay 2 valores."
   ]
  },
  {
   "cell_type": "markdown",
   "metadata": {
    "id": "yh1_5V9Kqj9o"
   },
   "source": [
    "## <font color='green'>Actividad 1</font>\n",
    "\n",
    "Escribir una función que reciba un diccionario con las alturas (en metros) de los integrantes del grupo y devuelva una serie con la altura mínima, la máxima, media y la desviación estándar.\n"
   ]
  },
  {
   "cell_type": "code",
   "metadata": {
    "id": "Hyxg8T9Aif_7"
   },
   "source": [
    "# Tu código aquí ...\n"
   ],
   "execution_count": null,
   "outputs": []
  },
  {
   "cell_type": "markdown",
   "metadata": {
    "id": "Y3Y_22KOi-CL"
   },
   "source": [
    "<font color='green'>Fin Actividad 1</font>"
   ]
  }
 ]
}
