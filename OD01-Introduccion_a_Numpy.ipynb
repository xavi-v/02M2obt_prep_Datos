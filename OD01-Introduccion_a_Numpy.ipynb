{
 "nbformat": 4,
 "nbformat_minor": 0,
 "metadata": {
  "colab": {
   "provenance": [],
   "collapsed_sections": []
  },
  "kernelspec": {
   "display_name": "Python 3 (ipykernel)",
   "language": "python",
   "name": "python3"
  },
  "language_info": {
   "codemirror_mode": {
    "name": "ipython",
    "version": 3
   },
   "file_extension": ".py",
   "mimetype": "text/x-python",
   "name": "python",
   "nbconvert_exporter": "python",
   "pygments_lexer": "ipython3",
   "version": "3.8.11"
  }
 },
 "cells": [
  {
   "cell_type": "markdown",
   "metadata": {
    "id": "U83oOgtfSDJM"
   },
   "source": [
    "# **Obtención y preparación de datos**\n",
    "# OD01. Introducción a Numpy"
   ]
  },
  {
   "cell_type": "markdown",
   "metadata": {
    "id": "6I35N-xQ9i88"
   },
   "source": [
    "### <font color='orange'>**¿Porqué aprenderemos Numpy?**</font>\n",
    "\n",
    "Para poder crear y manipular vectores y matrices... y luego **aplicar estos conocimientos para realizar operaciones de álgebra lineal**.\n",
    "\n",
    "### <font color='orange'>**¿Porqué necesitamos conocer las bases del algebra lineal?**</font>\n",
    "\n",
    "Porque **el álgebra lineal forma una línea de aprendizaje esencial para el machine learning**. Las áreas de las matemáticas, como las estadísticas y el cálculo, requieren un conocimiento previo del álgebra lineal, lo que les ayudará a entender los modelos de machine learning en profundidad.\n",
    "\n",
    "### <font color='orange'>**Finalmente, ¿Qué haremos con Numpy y algebra lineal?**</font>\n",
    "\n",
    "Construiremos un **modelo epidemiológico básico para el Covid 19** que nos permita visualizar la evolución de la enfermedad en el tiempo en distintos escenarios de contagio (como las curvas de la figura).\n",
    "\n",
    "<img src='https://drive.google.com/uc?export=view&id=1JEQuOy062yyASrdO3xmNtCO25nITmvWW' width=\"400\" align=\"center\" style=\"margin-right: 20px\">"
   ]
  },
  {
   "cell_type": "markdown",
   "metadata": {
    "id": "0_32E2Xx9i89"
   },
   "source": [
    "## <font color='blue'>**Librería NumPy**</font>\n",
    "\n",
    "**NumPy** es la librería por excelencia para computación científica en Python. Integra muchas funciones de cálculo matricial de N dimensiones, y una variedad de rutinas para operaciones rápidas con matrices, que incluyen manipulación matemática, lógica, de tamaño y forma, clasificación, selección, I/O, transformada de Fourier, algebra lineal, operaciones estadísticas, simulación aleatoria y muchas otras."
   ]
  },
  {
   "cell_type": "markdown",
   "metadata": {
    "id": "KLxOLg7Q-_-t"
   },
   "source": [
    "<img src='https://drive.google.com/uc?export=view&id=1_foOq3ZJE-GKzm9hDpuTDrT8c_YxkorY' width=\"400\" align=\"center\" style=\"margin-right: 20px\">"
   ]
  },
  {
   "cell_type": "markdown",
   "metadata": {
    "id": "P40p1e1b_BwM"
   },
   "source": [
    "En el núcleo del paquete NumPy está el objeto `ndarray`. Éste encapsula matrices n-dimensionales de tipos de datos homogéneos, con muchas operaciones que se realizan en código compilado (en lenguaje C) para mejorar el rendimiento. Es la librería de cálculo más popular debido a su facilidad de uso y la rapidez de sus cálculos.\n",
    "\n",
    "Existen varias diferencias importantes entre las matrices de NumPy y las secuencias estándar de Python:\n",
    "\n",
    "* Las matrices NumPy tienen un tamaño fijo al momento de la creación, a diferencia de las listas de Python (que pueden crecer dinámicamente). Cambiar el tamaño de un `ndarray` creará una nueva matriz y eliminará la original.\n",
    "\n",
    "\n",
    "* Se requiere que todos los elementos de una matriz NumPy correspondan al mismo tipo de datos y, por lo tanto, tendrán el mismo tamaño en la memoria. La excepción: uno puede tener matrices de objetos (Python, incluido NumPy), lo que permite matrices de elementos de diferentes tamaños.\n",
    "\n",
    "\n",
    "* Las matrices NumPy facilitan las operaciones matemáticas avanzadas en grandes cantidades de datos. Por lo general, estas operaciones se ejecutan de manera más eficiente y con menos código que al usar las secuencias integradas de Python.\n",
    "\n",
    "\n",
    "* Una multitud de paquetes científicos y matemáticos basados en Python utilizan matrices NumPy; aunque estos paquetes suelen admitir la entrada de secuencias estándar de Python, convierten dicha entrada en matrices NumPy antes del procesamiento y, a menudo, generan matrices NumPy. En otras palabras, para usar de manera eficiente gran parte (quizás incluso la mayoría) del software científico/matemático basado en Python de hoy en día, simplemente saber cómo usar los tipos de secuencia incorporados de Python es insuficiente; uno también necesita saber cómo usar las matrices NumPy."
   ]
  },
  {
   "cell_type": "markdown",
   "metadata": {
    "id": "Fk6_al2D9i8-"
   },
   "source": [
    "## <font color='blue'>**Instalando NumPy**</font>"
   ]
  },
  {
   "cell_type": "markdown",
   "metadata": {
    "id": "Lii79DzU9i8_"
   },
   "source": [
    "Para instalar NumPy, se recomienda utilizar una distribución científica de Python. Las instrucciones completas para instalar NumPy en sus sistemas operativos, las pueden encontrar en <a href=\"https://www.scipy.org/install.html\">https://www.scipy.org/install.html</a>.\n",
    "\n",
    "Si ya tienes Python, puedes instalar NumPy con:"
   ]
  },
  {
   "cell_type": "markdown",
   "metadata": {
    "id": "j0br_7xb9i9A"
   },
   "source": [
    "\n",
    "\n",
    "```\n",
    "conda install numpy\n",
    "```\n",
    "\n"
   ]
  },
  {
   "cell_type": "markdown",
   "metadata": {
    "id": "kP0GBMTp9i9A"
   },
   "source": [
    "o"
   ]
  },
  {
   "cell_type": "markdown",
   "metadata": {
    "id": "YLyw_RP19i9B"
   },
   "source": [
    "```\n",
    "!pip install numpy\n",
    "```"
   ]
  },
  {
   "cell_type": "code",
   "execution_count": 4,
   "outputs": [
    {
     "name": "stdout",
     "output_type": "stream",
     "text": [
      "Collecting numpy\n",
      "  Downloading numpy-1.25.2-cp39-cp39-win_amd64.whl (15.6 MB)\n",
      "Installing collected packages: numpy\n",
      "Successfully installed numpy-1.25.2\n"
     ]
    },
    {
     "name": "stderr",
     "output_type": "stream",
     "text": [
      "WARNING: You are using pip version 21.2.4; however, version 23.2.1 is available.\n",
      "You should consider upgrading via the 'C:\\Users\\javie\\AppData\\Local\\Programs\\Python\\Python39\\python.exe -m pip install --upgrade pip' command.\n"
     ]
    }
   ],
   "source": [
    "!pip install numpy"
   ],
   "metadata": {
    "collapsed": false,
    "ExecuteTime": {
     "end_time": "2023-09-08T22:44:19.275739800Z",
     "start_time": "2023-09-08T22:44:02.256526400Z"
    }
   }
  },
  {
   "cell_type": "markdown",
   "metadata": {
    "id": "s8oJyY599i9C"
   },
   "source": [
    "Si aún no tiene Python instalado &#128544; &#128544; &#128544;, se recomienda utilizar **Anaconda**. Es la forma más sencilla de empezar. Lo bueno de obtener esta distribución es el hecho de que no necesita preocuparse demasiado por instalar NumPy por separado o cualquiera de los paquetes principales que utilizará para sus análisis de datos, como pandas, Scikit-Learn, entre otras.\n",
    "\n",
    "Puede encontrar todos los detalles de instalación en la sección Instalación en <a href=\"https://www.scipy.org/install.html\">SciPy</a>. "
   ]
  },
  {
   "cell_type": "markdown",
   "metadata": {
    "id": "BvK1UVkp9i9C"
   },
   "source": [
    "### <font color='blue'>**¿Cómo importar NumPy?**</font>\n",
    "\n",
    "Siempre que desee utilizar un paquete o una biblioteca en su código, **primero debe hacerlo accesible**.\n",
    "\n",
    "Para comenzar a usar NumPy y todas las funciones disponibles en NumPy, necesitará importarlo. Esto se puede hacer fácilmente con esta declaración de importación:"
   ]
  },
  {
   "cell_type": "code",
   "metadata": {
    "id": "U-5_aVRT9i9D",
    "ExecuteTime": {
     "end_time": "2023-09-08T22:47:10.102346Z",
     "start_time": "2023-09-08T22:47:10.091342Z"
    }
   },
   "source": [
    "import numpy as np"
   ],
   "execution_count": 6,
   "outputs": []
  },
  {
   "cell_type": "markdown",
   "metadata": {
    "id": "77TTmC2l9i9H"
   },
   "source": [
    "Acortamos el nombre `numpy` con el alias  `np` para ahorrar tiempo y para mantener el código legible."
   ]
  },
  {
   "cell_type": "markdown",
   "metadata": {
    "id": "BRZG69kL9i9H"
   },
   "source": [
    "### <font color='blue'>**¿Cuál es la diferencia entre una lista y un matriz NumPy?**</font>\n",
    "\n",
    "NumPy ofrece una enorme variedad de formas rápidas y eficientes de crear matrices y manipular datos numéricos. Si bien una lista de Python puede contener diferentes tipos de datos dentro de una sola lista, todos los elementos de una matriz NumPy deben ser homogéneos. Las operaciones matemáticas que deben realizarse en matrices serían extremadamente ineficaces si las matrices no fueran homogéneas.\n",
    "\n",
    "#### <font color='blue'>**¿Por qué usar NumPy?**</font>\n",
    "\n",
    "Las matrices NumPy son más rápidas y compactas que las listas de Python. Una matriz consume menos memoria. NumPy usa mucha menos memoria para almacenar datos y proporciona un mecanismo para especificar los tipos de datos. Esto permite optimizar aún más el código."
   ]
  },
  {
   "cell_type": "code",
   "metadata": {
    "id": "dkBdIUN69i9I",
    "ExecuteTime": {
     "end_time": "2023-09-09T00:59:31.399990800Z",
     "start_time": "2023-09-09T00:59:30.828933900Z"
    }
   },
   "source": [
    "import sys\n",
    "\n",
    "S = range(10000)\n",
    "print('Resultado de memoria asignada a la lista de Python:')\n",
    "print(sys.getsizeof(5) * len(S))\n",
    "print()\n",
    "D = np.arange(10000)\n",
    "print('Resultado de memoria asignada a NumPy array:')\n",
    "print(D.size * D.itemsize)"
   ],
   "execution_count": 1,
   "outputs": [
    {
     "name": "stdout",
     "output_type": "stream",
     "text": [
      "Resultado de memoria asignada a la lista de Python:\n",
      "280000\n",
      "\n"
     ]
    },
    {
     "ename": "NameError",
     "evalue": "name 'np' is not defined",
     "output_type": "error",
     "traceback": [
      "\u001B[1;31m---------------------------------------------------------------------------\u001B[0m",
      "\u001B[1;31mNameError\u001B[0m                                 Traceback (most recent call last)",
      "Cell \u001B[1;32mIn[1], line 7\u001B[0m\n\u001B[0;32m      5\u001B[0m \u001B[38;5;28mprint\u001B[39m(sys\u001B[38;5;241m.\u001B[39mgetsizeof(\u001B[38;5;241m5\u001B[39m) \u001B[38;5;241m*\u001B[39m \u001B[38;5;28mlen\u001B[39m(S))\n\u001B[0;32m      6\u001B[0m \u001B[38;5;28mprint\u001B[39m()\n\u001B[1;32m----> 7\u001B[0m D \u001B[38;5;241m=\u001B[39m \u001B[43mnp\u001B[49m\u001B[38;5;241m.\u001B[39marange(\u001B[38;5;241m10000\u001B[39m)\n\u001B[0;32m      8\u001B[0m \u001B[38;5;28mprint\u001B[39m(\u001B[38;5;124m'\u001B[39m\u001B[38;5;124mResultado de memoria asignada a NumPy array:\u001B[39m\u001B[38;5;124m'\u001B[39m)\n\u001B[0;32m      9\u001B[0m \u001B[38;5;28mprint\u001B[39m(D\u001B[38;5;241m.\u001B[39msize \u001B[38;5;241m*\u001B[39m D\u001B[38;5;241m.\u001B[39mitemsize)\n",
      "\u001B[1;31mNameError\u001B[0m: name 'np' is not defined"
     ]
    }
   ]
  },
  {
   "cell_type": "code",
   "metadata": {
    "id": "XofwE9oH9i9L",
    "ExecuteTime": {
     "end_time": "2023-09-08T23:00:52.369307700Z",
     "start_time": "2023-09-08T23:00:50.070311Z"
    }
   },
   "source": [
    "import time\n",
    "SIZE = 10000\n",
    "\n",
    "L1 = range(SIZE)\n",
    "L2 = range(SIZE)\n",
    "A1 = np.arange(SIZE)\n",
    "A2 = np.arange(SIZE)\n",
    "\n",
    "start = time.time()\n",
    "result = [(x,y) for x,y in zip(L1, L2)]\n",
    "print('Resultado test de velocidad para lista de Python [ms]:')\n",
    "print((time.time() - start) * 1000)\n",
    "print()\n",
    "\n",
    "start = time.time()\n",
    "result = A1 + A2\n",
    "print('Resultado test de velocidad para NumPy array [ms]:')\n",
    "print((time.time() - start) * 1000)\n"
   ],
   "execution_count": 9,
   "outputs": [
    {
     "name": "stdout",
     "output_type": "stream",
     "text": [
      "Resultado test de velocidad para lista de Python [ms]:\n",
      "1710.9508514404297\n",
      "\n",
      "Resultado test de velocidad para NumPy array [ms]:\n",
      "551.0413646697998\n"
     ]
    }
   ]
  }
 ]
}
