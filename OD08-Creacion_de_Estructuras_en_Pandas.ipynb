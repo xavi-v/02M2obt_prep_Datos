{
 "nbformat": 4,
 "nbformat_minor": 0,
 "metadata": {
  "kernelspec": {
   "display_name": "Python 3",
   "language": "python",
   "name": "python3"
  },
  "language_info": {
   "codemirror_mode": {
    "name": "ipython",
    "version": 3
   },
   "file_extension": ".py",
   "mimetype": "text/x-python",
   "name": "python",
   "nbconvert_exporter": "python",
   "pygments_lexer": "ipython3",
   "version": "3.7.6"
  },
  "colab": {
   "provenance": [],
   "collapsed_sections": [
    "PKOfofAv7UaA"
   ]
  }
 },
 "cells": [
  {
   "cell_type": "markdown",
   "metadata": {
    "id": "0xtgTktWIEA8"
   },
   "source": [
    "# **Obtención y preparación de datos**\n",
    "\n",
    "# OD08. Creación de Estructuras en Pandas"
   ]
  },
  {
   "cell_type": "code",
   "metadata": {
    "id": "pMzn4O2j0KUF",
    "ExecuteTime": {
     "end_time": "2023-09-21T00:23:38.163099100Z",
     "start_time": "2023-09-21T00:23:38.151100400Z"
    }
   },
   "source": [
    "import pandas as pd"
   ],
   "execution_count": 29,
   "outputs": []
  },
  {
   "cell_type": "markdown",
   "metadata": {
    "id": "hF4u_dIEdFTk"
   },
   "source": [
    "Hay dos constructores principales para la creación de series y dataframes: `pd.Series` y `pd.DataFrames`, respectivamente. Estos constructores permiten crear estas estructuras a partir e diferentes tipos de variables: diccionarios, listas, etc. También permiten personalizar las etiquetas de los índices, y filtrar y reordenar las etiquetas de columnas."
   ]
  },
  {
   "cell_type": "markdown",
   "metadata": {
    "id": "JVUHKeZz0b-N"
   },
   "source": [
    "## <font color='blue'>**Creación de series**</font>\n",
    "\n",
    "El constructor para la creación de una serie pandas es `pandas.Series`. Este constructor acepta tres parámetros principales:\n",
    "\n",
    "* `data`: estructura de datos tipo array, iterable, diccionario o valor escalar que contendrá los valores a introducir en la serie.\n",
    "\n",
    "* `index`: estructura tipo array con la misma longitud que los datos. Si este argumento no se añade al crear la serie, se agregará un índice por defecto formado por números enteros desde 0 hasta $n-1$, siendo $n$ el número de datos.\n",
    "\n",
    "* `dtype`: tipo de datos para la serie. Si no se especifica, se inferirá a partir de los datos.\n",
    "\n",
    "Los valores del índice, no tienen que ser necesariamente distintos aunque ciertas operaciones pueden generar un error si no soportan la posibilidad de tener índices duplicados."
   ]
  },
  {
   "cell_type": "markdown",
   "metadata": {
    "id": "SI7VIgld1C6s"
   },
   "source": [
    "### Creación de una serie a partir de una lista o de un array NumPy"
   ]
  },
  {
   "cell_type": "code",
   "metadata": {
    "id": "V6F262Y21NKK",
    "ExecuteTime": {
     "end_time": "2023-09-21T00:13:41.433286300Z",
     "start_time": "2023-09-21T00:13:41.414286700Z"
    }
   },
   "source": [
    "s = pd.Series([7, 5, 3])\n",
    "s"
   ],
   "execution_count": 20,
   "outputs": [
    {
     "data": {
      "text/plain": "0    7\n1    5\n2    3\ndtype: int64"
     },
     "execution_count": 20,
     "metadata": {},
     "output_type": "execute_result"
    }
   ]
  },
  {
   "cell_type": "markdown",
   "metadata": {
    "id": "vLo7lxf41ep8"
   },
   "source": [
    "Al no haberse especificado un índice, se asigna uno automáticamente con los valores 0, 1 y 2."
   ]
  },
  {
   "cell_type": "code",
   "source": [
    "list(s.index)"
   ],
   "metadata": {
    "id": "or4tWkwUxR8S",
    "ExecuteTime": {
     "end_time": "2023-09-20T23:54:44.270906600Z",
     "start_time": "2023-09-20T23:54:44.261907300Z"
    }
   },
   "execution_count": 5,
   "outputs": [
    {
     "data": {
      "text/plain": "[0, 1, 2]"
     },
     "execution_count": 5,
     "metadata": {},
     "output_type": "execute_result"
    }
   ]
  },
  {
   "cell_type": "markdown",
   "source": [
    "Si repetimos esta instrucción especificando un índice:"
   ],
   "metadata": {
    "id": "KRTZ780LxsbN"
   }
  },
  {
   "cell_type": "code",
   "metadata": {
    "id": "6m34yifr1ih8",
    "ExecuteTime": {
     "end_time": "2023-09-20T23:56:40.635676Z",
     "start_time": "2023-09-20T23:56:40.624677600Z"
    }
   },
   "source": [
    "s = pd.Series([7, 5, 3], index = [\"Ene\", \"Feb\", \"Mar\"])\n",
    "s"
   ],
   "execution_count": 10,
   "outputs": [
    {
     "data": {
      "text/plain": "Ene    7\nFeb    5\nMar    3\ndtype: int64"
     },
     "execution_count": 10,
     "metadata": {},
     "output_type": "execute_result"
    }
   ]
  },
  {
   "cell_type": "markdown",
   "metadata": {
    "id": "kahDHnCy1rIq"
   },
   "source": [
    "Vemos cómo el índice por defecto ha sido sustituido por el indicado. En este caso, la longitud del índice deberá coindicir con el número de elementos de la lista.\n",
    "\n",
    "Los mismos comentarios podrían hacerse si, en lugar de una lista, hubiésemos partido de un array NumPy para crear la serie."
   ]
  },
  {
   "cell_type": "markdown",
   "metadata": {
    "id": "TFyLedhQ11wt"
   },
   "source": [
    "### Creación de una serie a partir de un diccionario\n",
    "\n",
    "Si partimos de un diccionario para crear la serie:\n"
   ]
  },
  {
   "cell_type": "code",
   "metadata": {
    "id": "UbQsfk7r18_l",
    "ExecuteTime": {
     "end_time": "2023-09-21T00:16:09.209992500Z",
     "start_time": "2023-09-21T00:16:09.190990600Z"
    }
   },
   "source": [
    "d = {\"Ene\":7, \"Feb\":5, \"Mar\":3}\n",
    "s = pd.Series(d)\n",
    "s"
   ],
   "execution_count": 23,
   "outputs": [
    {
     "data": {
      "text/plain": "Ene    7\nFeb    5\nMar    3\ndtype: int64"
     },
     "execution_count": 23,
     "metadata": {},
     "output_type": "execute_result"
    }
   ]
  },
  {
   "cell_type": "markdown",
   "metadata": {
    "id": "NbXh6gHM2LrH"
   },
   "source": [
    "El constructor utiliza las claves como etiquetas del índice, y los valores del diccionario como valores de la serie.\n",
    "\n",
    "Si incluimos el índice explícitamente en el constructor, los valores en la serie se tomarán en el orden en el que estén en el índice explícito. Además, si en éste hay valores que no pertenecen al conjunto de claves del diccionario, se añaden a la serie con un valor *NaN*:"
   ]
  },
  {
   "cell_type": "code",
   "metadata": {
    "id": "CVQBwGu92Sos",
    "ExecuteTime": {
     "end_time": "2023-09-21T00:00:04.183608800Z",
     "start_time": "2023-09-21T00:00:04.140611300Z"
    }
   },
   "source": [
    "d = {\"Ene\":7, \"Feb\":5, \"Mar\":3}\n",
    "s = pd.Series(d, index = [\"Abr\", \"Mar\", \"Feb\", \"Ene\"])\n",
    "s"
   ],
   "execution_count": 13,
   "outputs": [
    {
     "data": {
      "text/plain": "Abr    NaN\nMar    3.0\nFeb    5.0\nEne    7.0\ndtype: float64"
     },
     "execution_count": 13,
     "metadata": {},
     "output_type": "execute_result"
    }
   ]
  },
  {
   "cell_type": "markdown",
   "metadata": {
    "id": "cRoYmOAW2gJE"
   },
   "source": [
    "En este ejemplo, hemos creado la serie especificando el índice que hemos formado dando la vuelta a las claves del diccionario (\"Mar\", \"Feb\" y \"Ene\") y hemos añadido a la lista de etiquetas el valor \"Abr\", que no pertenece al conjunto de claves del diccionario. Se ha añadido a la serie, pero se le ha asignado el valor *NaN*. Es precisamente la presencia de este valor lo que modifica el tipo de la serie a float."
   ]
  },
  {
   "cell_type": "markdown",
   "metadata": {
    "id": "T8CzrmS82s2V"
   },
   "source": [
    "### Creación de una serie a partir de un escalar\n",
    "\n",
    "Si los datos se reducen a un escalar (no a una lista con un único elemento, sino a un sencillo escalar como 7 o 15.4) será necesario añadir el índice explícitamente. El número de elementos de la serie coincidirá con el número de elementos del índice, y el escalar será asignado como valor a todos ellos."
   ]
  },
  {
   "cell_type": "code",
   "metadata": {
    "id": "4mIxKyOW21T6",
    "ExecuteTime": {
     "end_time": "2023-09-21T00:12:41.644795600Z",
     "start_time": "2023-09-21T00:12:41.634795900Z"
    }
   },
   "source": [
    "s = pd.Series(7, index = [\"Ene\", \"Feb\", \"Mar\"])\n",
    "s"
   ],
   "execution_count": 17,
   "outputs": [
    {
     "data": {
      "text/plain": "Ene    7\nFeb    7\nMar    7\ndtype: int64"
     },
     "execution_count": 17,
     "metadata": {},
     "output_type": "execute_result"
    }
   ]
  },
  {
   "cell_type": "markdown",
   "metadata": {
    "id": "_gYvoSqohC7G"
   },
   "source": [
    "## <font color='green'>Actividad 1</font>\n",
    "\n",
    "Escribir un programa que pregunte al usuario por las ventas de un rango de años y muestre por pantalla una serie con los datos de las ventas indexada por los años, antes y después de aplicarles un descuento del 10%."
   ]
  },
  {
   "cell_type": "code",
   "metadata": {
    "id": "HCPP0h1bpqby",
    "ExecuteTime": {
     "end_time": "2023-09-21T00:22:21.490786600Z",
     "start_time": "2023-09-21T00:22:01.824096300Z"
    }
   },
   "source": [
    "# Tu código aquí ...\n",
    "ano1 = input(\"ingrese año 1\")\n",
    "ventas1= input(\"ingrese $ año1\")\n",
    "ano2 = input(\"ingrese año 2\")\n",
    "ventas2= input(\"ingrese $ año2\")\n",
    "ano3 = input(\"ingrese año 3\")\n",
    "ventas3= input(\"ingrese $ año3\")\n",
    "d = {\"ano1\" :ventas1, \"ano2\":ventas2, \"ano3\":ventas3}\n",
    "s = pd.Series(d, index = [ ano1, ano2, ano3])\n",
    "print(s)\n",
    "## falta aplicar aun el descuento y todo lo demas\n"
   ],
   "execution_count": 26,
   "outputs": [
    {
     "name": "stdout",
     "output_type": "stream",
     "text": [
      "2021     5000\n",
      "2022    10000\n",
      "2023     5045\n",
      "dtype: object\n"
     ]
    }
   ]
  },
  {
   "cell_type": "markdown",
   "metadata": {
    "id": "Kow9kf14pqxv"
   },
   "source": [
    "<font color='green'>Fin Actividad 1</font>"
   ]
  },
  {
   "cell_type": "markdown",
   "metadata": {
    "id": "v1J2oFb33CLf"
   },
   "source": [
    "## <font color='blue'>**Creación de dataframes**</font>\n",
    "\n",
    "El constructor de dataframes es `pandas.DataFrame`. Acepta cuatro parámetros principales:\n",
    "\n",
    "* `data`: estructura de datos ndarray (array NumPy), diccionario u otro dataframe.\n",
    "\n",
    "* `index`: índice a aplicar a las filas. Si no se especifica, se asignará uno por defecto formado por números enteros entre 0 y $n-1$, siendo $n$ el número de filas del dataframe.\n",
    "\n",
    "* `columns`: etiquetas a aplicar a las columnas. Al igual que ocurre con el índice de filas, si no se añade se asignará uno automático formado por números enteros entre 0 y $m-1$, siendo $m$ el número de columnas.\n",
    "\n",
    "* `dtype`: tipo a aplicar a los datos. Solo se permite uno. Si no se especifica, se infiere el tipo de cada columna a partir de los datos que contengan.\n",
    "\n",
    "Los valores de los índices de filas y columnas no tienen por qué ser necesariamente distintos."
   ]
  },
  {
   "cell_type": "markdown",
   "metadata": {
    "id": "xRQsQNlo3juE"
   },
   "source": [
    "### Creación de un dataframe a partir de un diccionario de listas\n",
    "\n",
    "En este escenario partimos del siguiente diccionario de listas de valores:"
   ]
  },
  {
   "cell_type": "code",
   "metadata": {
    "id": "lm2IErQK3qYR",
    "ExecuteTime": {
     "end_time": "2023-09-21T00:23:47.889063700Z",
     "start_time": "2023-09-21T00:23:47.857061400Z"
    }
   },
   "source": [
    "elementos = {\n",
    "    \"Número atómico\":[1, 6, 47, 88],\n",
    "    \"Masa atómica\":[1.008, 12.011, 107.87, 226],\n",
    "    \"Familia\":[\"No metal\", \"No metal\", \"Metal\", \"Metal\"]\n",
    "}\n",
    "elementos"
   ],
   "execution_count": 30,
   "outputs": [
    {
     "data": {
      "text/plain": "{'Número atómico': [1, 6, 47, 88],\n 'Masa atómica': [1.008, 12.011, 107.87, 226],\n 'Familia': ['No metal', 'No metal', 'Metal', 'Metal']}"
     },
     "execution_count": 30,
     "metadata": {},
     "output_type": "execute_result"
    }
   ]
  },
  {
   "cell_type": "markdown",
   "metadata": {
    "id": "ZB-b4uMl4RJ9"
   },
   "source": [
    "Y creamos el dataframe con él como primer argumento:"
   ]
  },
  {
   "cell_type": "code",
   "metadata": {
    "id": "3XtaxH6E4SOS",
    "ExecuteTime": {
     "end_time": "2023-09-21T00:23:51.861061500Z",
     "start_time": "2023-09-21T00:23:51.847062800Z"
    }
   },
   "source": [
    "tabla_periodica = pd.DataFrame(elementos)\n",
    "tabla_periodica"
   ],
   "execution_count": 31,
   "outputs": [
    {
     "data": {
      "text/plain": "   Número atómico  Masa atómica   Familia\n0               1         1.008  No metal\n1               6        12.011  No metal\n2              47       107.870     Metal\n3              88       226.000     Metal",
      "text/html": "<div>\n<style scoped>\n    .dataframe tbody tr th:only-of-type {\n        vertical-align: middle;\n    }\n\n    .dataframe tbody tr th {\n        vertical-align: top;\n    }\n\n    .dataframe thead th {\n        text-align: right;\n    }\n</style>\n<table border=\"1\" class=\"dataframe\">\n  <thead>\n    <tr style=\"text-align: right;\">\n      <th></th>\n      <th>Número atómico</th>\n      <th>Masa atómica</th>\n      <th>Familia</th>\n    </tr>\n  </thead>\n  <tbody>\n    <tr>\n      <th>0</th>\n      <td>1</td>\n      <td>1.008</td>\n      <td>No metal</td>\n    </tr>\n    <tr>\n      <th>1</th>\n      <td>6</td>\n      <td>12.011</td>\n      <td>No metal</td>\n    </tr>\n    <tr>\n      <th>2</th>\n      <td>47</td>\n      <td>107.870</td>\n      <td>Metal</td>\n    </tr>\n    <tr>\n      <th>3</th>\n      <td>88</td>\n      <td>226.000</td>\n      <td>Metal</td>\n    </tr>\n  </tbody>\n</table>\n</div>"
     },
     "execution_count": 31,
     "metadata": {},
     "output_type": "execute_result"
    }
   ]
  },
  {
   "cell_type": "markdown",
   "metadata": {
    "id": "3JVgwbmi4eEp"
   },
   "source": [
    "El dataframe se ha creado situando las claves del diccionario como etiquetas de columnas y las listas asociadas a cada clave como columnas del dataframe. Al no haber especificado un índice de filas, éste ha tomado valores por defecto (0, 1, 2 y 3).\n",
    "\n",
    "A continuación repetimos la misma operación especificando las etiquetas tanto para filas como para columnas, utilizando los parámetros `index` y `columns` espectivamente:"
   ]
  },
  {
   "cell_type": "code",
   "metadata": {
    "id": "hKGLEfQu4ln_",
    "ExecuteTime": {
     "end_time": "2023-09-21T00:23:55.274412500Z",
     "start_time": "2023-09-21T00:23:55.258409800Z"
    }
   },
   "source": [
    "tabla_periodica = pd.DataFrame(elementos,\n",
    "                               index = [\"H\", \"C\", \"Ag\", \"Ra\"],\n",
    "                               columns = [\"Familia\", \"Número atómico\", \"Masa atómica\"]\n",
    "                               )\n",
    "tabla_periodica"
   ],
   "execution_count": 32,
   "outputs": [
    {
     "data": {
      "text/plain": "     Familia  Número atómico  Masa atómica\nH   No metal               1         1.008\nC   No metal               6        12.011\nAg     Metal              47       107.870\nRa     Metal              88       226.000",
      "text/html": "<div>\n<style scoped>\n    .dataframe tbody tr th:only-of-type {\n        vertical-align: middle;\n    }\n\n    .dataframe tbody tr th {\n        vertical-align: top;\n    }\n\n    .dataframe thead th {\n        text-align: right;\n    }\n</style>\n<table border=\"1\" class=\"dataframe\">\n  <thead>\n    <tr style=\"text-align: right;\">\n      <th></th>\n      <th>Familia</th>\n      <th>Número atómico</th>\n      <th>Masa atómica</th>\n    </tr>\n  </thead>\n  <tbody>\n    <tr>\n      <th>H</th>\n      <td>No metal</td>\n      <td>1</td>\n      <td>1.008</td>\n    </tr>\n    <tr>\n      <th>C</th>\n      <td>No metal</td>\n      <td>6</td>\n      <td>12.011</td>\n    </tr>\n    <tr>\n      <th>Ag</th>\n      <td>Metal</td>\n      <td>47</td>\n      <td>107.870</td>\n    </tr>\n    <tr>\n      <th>Ra</th>\n      <td>Metal</td>\n      <td>88</td>\n      <td>226.000</td>\n    </tr>\n  </tbody>\n</table>\n</div>"
     },
     "execution_count": 32,
     "metadata": {},
     "output_type": "execute_result"
    }
   ]
  },
  {
   "cell_type": "markdown",
   "metadata": {
    "id": "2X4nMxsX4-Nf"
   },
   "source": [
    "Con el parámetro `columns` podemos especificar el orden en el que se mostrarán las columnas o incluso filtrar éstas (no incluyendo todas las etiquetas presentes en el diccionario como claves), pero no cambiar sus nombres. De hecho, si alguna de las etiquetas incluidas en dicho argumento no apareciese en el conjunto de claves del diccionario, se crearía una columna con dicho nombre pero con todos sus valores fijados a *NaN*.\n",
    "\n",
    "Si, en lugar de listas de datos como valores del diccionario, hubiesen sido `arrays` NumPy o series, el procedimiento habría sido exactamente el mismo."
   ]
  },
  {
   "cell_type": "markdown",
   "metadata": {
    "id": "bawdsrQ65Sau"
   },
   "source": [
    "### Creación de un dataframe a partir de un array NumPy\n",
    "\n",
    "En el caso de partir de un array NumPy, si no se especifican las etiquetas de filas y columnas, se asignan las etiquetas por defecto:"
   ]
  },
  {
   "cell_type": "code",
   "metadata": {
    "id": "6H-0cGQN5ZTh",
    "ExecuteTime": {
     "end_time": "2023-09-21T00:26:33.017503800Z",
     "start_time": "2023-09-21T00:26:33.007506100Z"
    }
   },
   "source": [
    "import numpy as np\n",
    "unidades_datos = np.array([[2, 5, 3, 2], \n",
    "                           [4, 6, 7, 2],\n",
    "                           [3, 2, 4, 1]])\n",
    "unidades_datos"
   ],
   "execution_count": 34,
   "outputs": [
    {
     "data": {
      "text/plain": "array([[2, 5, 3, 2],\n       [4, 6, 7, 2],\n       [3, 2, 4, 1]])"
     },
     "execution_count": 34,
     "metadata": {},
     "output_type": "execute_result"
    }
   ]
  },
  {
   "cell_type": "code",
   "metadata": {
    "id": "-y_VcW265vkQ",
    "ExecuteTime": {
     "end_time": "2023-09-21T00:26:35.828701Z",
     "start_time": "2023-09-21T00:26:35.814698100Z"
    }
   },
   "source": [
    "unidades = pd.DataFrame(unidades_datos)\n",
    "unidades"
   ],
   "execution_count": 35,
   "outputs": [
    {
     "data": {
      "text/plain": "   0  1  2  3\n0  2  5  3  2\n1  4  6  7  2\n2  3  2  4  1",
      "text/html": "<div>\n<style scoped>\n    .dataframe tbody tr th:only-of-type {\n        vertical-align: middle;\n    }\n\n    .dataframe tbody tr th {\n        vertical-align: top;\n    }\n\n    .dataframe thead th {\n        text-align: right;\n    }\n</style>\n<table border=\"1\" class=\"dataframe\">\n  <thead>\n    <tr style=\"text-align: right;\">\n      <th></th>\n      <th>0</th>\n      <th>1</th>\n      <th>2</th>\n      <th>3</th>\n    </tr>\n  </thead>\n  <tbody>\n    <tr>\n      <th>0</th>\n      <td>2</td>\n      <td>5</td>\n      <td>3</td>\n      <td>2</td>\n    </tr>\n    <tr>\n      <th>1</th>\n      <td>4</td>\n      <td>6</td>\n      <td>7</td>\n      <td>2</td>\n    </tr>\n    <tr>\n      <th>2</th>\n      <td>3</td>\n      <td>2</td>\n      <td>4</td>\n      <td>1</td>\n    </tr>\n  </tbody>\n</table>\n</div>"
     },
     "execution_count": 35,
     "metadata": {},
     "output_type": "execute_result"
    }
   ]
  },
  {
   "cell_type": "markdown",
   "metadata": {
    "id": "rUQw2NjE53Yi"
   },
   "source": [
    "Las filas del array NumPy siguen siendo interpretadas como filas del dataframe.\n",
    "\n",
    "Si especificamos las etiquetas de filas y columnas, el resultado es diferente:"
   ]
  },
  {
   "cell_type": "code",
   "metadata": {
    "id": "zo5nqkVy55D2",
    "ExecuteTime": {
     "end_time": "2023-09-21T00:26:38.649812800Z",
     "start_time": "2023-09-21T00:26:38.625812100Z"
    }
   },
   "source": [
    "unidades = pd.DataFrame(unidades_datos,\n",
    "                        index = [2015, 2016, 2017],\n",
    "                        columns = [\"Ag\", \"Au\", \"Cu\", \"Pt\"])\n",
    "unidades"
   ],
   "execution_count": 36,
   "outputs": [
    {
     "data": {
      "text/plain": "      Ag  Au  Cu  Pt\n2015   2   5   3   2\n2016   4   6   7   2\n2017   3   2   4   1",
      "text/html": "<div>\n<style scoped>\n    .dataframe tbody tr th:only-of-type {\n        vertical-align: middle;\n    }\n\n    .dataframe tbody tr th {\n        vertical-align: top;\n    }\n\n    .dataframe thead th {\n        text-align: right;\n    }\n</style>\n<table border=\"1\" class=\"dataframe\">\n  <thead>\n    <tr style=\"text-align: right;\">\n      <th></th>\n      <th>Ag</th>\n      <th>Au</th>\n      <th>Cu</th>\n      <th>Pt</th>\n    </tr>\n  </thead>\n  <tbody>\n    <tr>\n      <th>2015</th>\n      <td>2</td>\n      <td>5</td>\n      <td>3</td>\n      <td>2</td>\n    </tr>\n    <tr>\n      <th>2016</th>\n      <td>4</td>\n      <td>6</td>\n      <td>7</td>\n      <td>2</td>\n    </tr>\n    <tr>\n      <th>2017</th>\n      <td>3</td>\n      <td>2</td>\n      <td>4</td>\n      <td>1</td>\n    </tr>\n  </tbody>\n</table>\n</div>"
     },
     "execution_count": 36,
     "metadata": {},
     "output_type": "execute_result"
    }
   ]
  },
  {
   "cell_type": "markdown",
   "metadata": {
    "id": "mQlxIf4_6MhA"
   },
   "source": [
    "### Creación de un dataframe a partir de una lista de diccionarios\n",
    "\n",
    "También podemos partir de un conjunto de diccionarios, cada uno definiendo el contenido de lo que será una fila del dataframe:"
   ]
  },
  {
   "cell_type": "code",
   "metadata": {
    "id": "b_eUlr1z6U6x",
    "ExecuteTime": {
     "end_time": "2023-09-21T00:26:41.240514400Z",
     "start_time": "2023-09-21T00:26:41.180512200Z"
    }
   },
   "source": [
    "unidades_2015 = {\"Ag\":2, \"Au\":5, \"Cu\":3, \"Pt\":2}\n",
    "unidades_2016 = {\"Ag\":4, \"Au\":6, \"Cu\":7, \"Pt\":2}\n",
    "unidades_2017 = {\"Ag\":3, \"Au\":2, \"Cu\":4, \"Pt\":1}\n",
    "unidades = pd.DataFrame([unidades_2015, unidades_2016, unidades_2017],\n",
    "                        index = [2015, 2016, 2017])\n",
    "unidades"
   ],
   "execution_count": 37,
   "outputs": [
    {
     "data": {
      "text/plain": "      Ag  Au  Cu  Pt\n2015   2   5   3   2\n2016   4   6   7   2\n2017   3   2   4   1",
      "text/html": "<div>\n<style scoped>\n    .dataframe tbody tr th:only-of-type {\n        vertical-align: middle;\n    }\n\n    .dataframe tbody tr th {\n        vertical-align: top;\n    }\n\n    .dataframe thead th {\n        text-align: right;\n    }\n</style>\n<table border=\"1\" class=\"dataframe\">\n  <thead>\n    <tr style=\"text-align: right;\">\n      <th></th>\n      <th>Ag</th>\n      <th>Au</th>\n      <th>Cu</th>\n      <th>Pt</th>\n    </tr>\n  </thead>\n  <tbody>\n    <tr>\n      <th>2015</th>\n      <td>2</td>\n      <td>5</td>\n      <td>3</td>\n      <td>2</td>\n    </tr>\n    <tr>\n      <th>2016</th>\n      <td>4</td>\n      <td>6</td>\n      <td>7</td>\n      <td>2</td>\n    </tr>\n    <tr>\n      <th>2017</th>\n      <td>3</td>\n      <td>2</td>\n      <td>4</td>\n      <td>1</td>\n    </tr>\n  </tbody>\n</table>\n</div>"
     },
     "execution_count": 37,
     "metadata": {},
     "output_type": "execute_result"
    }
   ]
  },
  {
   "cell_type": "markdown",
   "metadata": {
    "id": "BVYw5MS-66tD"
   },
   "source": [
    "Los diccionarios deberán compartir el mismo conjunto de claves que se interpretarán como etiquetas de columnas. Si las etiquetas no coinciden, se crearán todas las columnas pero se asignarán *NaN* a los valores desconocidos:"
   ]
  },
  {
   "cell_type": "code",
   "metadata": {
    "id": "12s7owJf699Y",
    "ExecuteTime": {
     "end_time": "2023-09-21T00:28:49.528341700Z",
     "start_time": "2023-09-21T00:28:49.463343900Z"
    }
   },
   "source": [
    "unidades_2015 = {\"Ag\":2, \"Au\":5, \"Cu\":3, \"Pt\":2}\n",
    "unidades_2016 = {\"Ag\":4, \"Au\":6, \"Cu\":7, \"Pt\":2}\n",
    "unidades_2017 = {\"Ag\":3, \"Pb\":2, \"Cu\":4, \"Pt\":1}\n",
    "unidades = pd.DataFrame([unidades_2015, unidades_2016, unidades_2017],\n",
    "                        index = [2015, 2016, 2017])\n",
    "unidades"
   ],
   "execution_count": 38,
   "outputs": [
    {
     "data": {
      "text/plain": "      Ag   Au  Cu  Pt   Pb\n2015   2  5.0   3   2  NaN\n2016   4  6.0   7   2  NaN\n2017   3  NaN   4   1  2.0",
      "text/html": "<div>\n<style scoped>\n    .dataframe tbody tr th:only-of-type {\n        vertical-align: middle;\n    }\n\n    .dataframe tbody tr th {\n        vertical-align: top;\n    }\n\n    .dataframe thead th {\n        text-align: right;\n    }\n</style>\n<table border=\"1\" class=\"dataframe\">\n  <thead>\n    <tr style=\"text-align: right;\">\n      <th></th>\n      <th>Ag</th>\n      <th>Au</th>\n      <th>Cu</th>\n      <th>Pt</th>\n      <th>Pb</th>\n    </tr>\n  </thead>\n  <tbody>\n    <tr>\n      <th>2015</th>\n      <td>2</td>\n      <td>5.0</td>\n      <td>3</td>\n      <td>2</td>\n      <td>NaN</td>\n    </tr>\n    <tr>\n      <th>2016</th>\n      <td>4</td>\n      <td>6.0</td>\n      <td>7</td>\n      <td>2</td>\n      <td>NaN</td>\n    </tr>\n    <tr>\n      <th>2017</th>\n      <td>3</td>\n      <td>NaN</td>\n      <td>4</td>\n      <td>1</td>\n      <td>2.0</td>\n    </tr>\n  </tbody>\n</table>\n</div>"
     },
     "execution_count": 38,
     "metadata": {},
     "output_type": "execute_result"
    }
   ]
  },
  {
   "cell_type": "markdown",
   "metadata": {
    "id": "8gP-5zvZ7NVE"
   },
   "source": [
    "En este ejemplo, el año 2017 tiene una clave, *Pb*, que no existe en los otros dos diccionarios. Y este mismo año carece de la clave Au que sí se encuentra en los otros dos. Vemos cómo los datos no coincidentes se han rellenado con *NaN*."
   ]
  },
  {
   "cell_type": "markdown",
   "metadata": {
    "id": "PKOfofAv7UaA"
   },
   "source": [
    "### Otros métodos\n",
    "\n",
    "Además de poder partir de otras estructura además de las vistas (de un diccionario de tuplas, por ejemplo), hay dos constructores adicionales:\n",
    "* `pandas.DataFrame.from_dict`, que crea un dataframe a partir de un diccionario de diccionarios o de secuencias tipo array, y \n",
    "*`pandas.DataFrame.from_records`, que parte de una lista de tuplas o de arrays NumPy con un tipo estructurado."
   ]
  },
  {
   "cell_type": "markdown",
   "metadata": {
    "id": "WliKEjQSkOpI"
   },
   "source": [
    "## <font color='green'>Actividad 2</font>\n",
    "\n",
    "Escribir programa que genere y muestre por pantalla un DataFrame con los datos de la tabla siguiente:\n",
    "\n",
    "| Mes     | Ventas | Gastos |\n",
    "| ------- | -----: | -----: |\n",
    "| Enero   |  30500 |  22000 |\n",
    "| Febrero |  35600 |  23400 |\n",
    "| Marzo   |  28300 |  18100 |\n",
    "| Abril   |  33900 |  20700 |\n",
    "| Mayo    |  31450 |  25620 |\n",
    "| Junio   |  33040 |  25500 |"
   ]
  },
  {
   "cell_type": "code",
   "metadata": {
    "id": "SNJRn876nkEN",
    "ExecuteTime": {
     "end_time": "2023-09-21T00:44:58.896646Z",
     "start_time": "2023-09-21T00:44:58.809640Z"
    }
   },
   "source": [
    "# Tu código aquí...\n",
    "enero = {\"ventas\":30500, \"gastos\":22000}\n",
    "febrero = {\"ventas\":35600, \"gastos\":23400}\n",
    "marzo = {\"ventas\":28300, \"gastos\":18100}\n",
    "abril = {\"ventas\":33900, \"gastos\":20700}\n",
    "mayo = {\"ventas\":31450, \"gastos\":25620}\n",
    "junio = {\"ventas\":33040, \"gastos\":25500}\n",
    "unidades = pd.DataFrame([enero, febrero, marzo, abril, mayo, junio],\n",
    "                        index = [\"enero\", \"febrero\", \"marzo\", \"abril\", \"mayo\", \"junio\"])\n",
    "unidades.columns.name=\"mes\"\n",
    "unidades"
   ],
   "execution_count": 44,
   "outputs": [
    {
     "data": {
      "text/plain": "mes      ventas  gastos\nenero     30500   22000\nfebrero   35600   23400\nmarzo     28300   18100\nabril     33900   20700\nmayo      31450   25620\njunio     33040   25500",
      "text/html": "<div>\n<style scoped>\n    .dataframe tbody tr th:only-of-type {\n        vertical-align: middle;\n    }\n\n    .dataframe tbody tr th {\n        vertical-align: top;\n    }\n\n    .dataframe thead th {\n        text-align: right;\n    }\n</style>\n<table border=\"1\" class=\"dataframe\">\n  <thead>\n    <tr style=\"text-align: right;\">\n      <th>mes</th>\n      <th>ventas</th>\n      <th>gastos</th>\n    </tr>\n  </thead>\n  <tbody>\n    <tr>\n      <th>enero</th>\n      <td>30500</td>\n      <td>22000</td>\n    </tr>\n    <tr>\n      <th>febrero</th>\n      <td>35600</td>\n      <td>23400</td>\n    </tr>\n    <tr>\n      <th>marzo</th>\n      <td>28300</td>\n      <td>18100</td>\n    </tr>\n    <tr>\n      <th>abril</th>\n      <td>33900</td>\n      <td>20700</td>\n    </tr>\n    <tr>\n      <th>mayo</th>\n      <td>31450</td>\n      <td>25620</td>\n    </tr>\n    <tr>\n      <th>junio</th>\n      <td>33040</td>\n      <td>25500</td>\n    </tr>\n  </tbody>\n</table>\n</div>"
     },
     "execution_count": 44,
     "metadata": {},
     "output_type": "execute_result"
    }
   ]
  },
  {
   "cell_type": "markdown",
   "metadata": {
    "id": "Cm_zShaCnzn5"
   },
   "source": [
    "<font color='green'>Fin Actividad 2</font>"
   ]
  }
 ]
}
